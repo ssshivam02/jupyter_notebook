{
 "cells": [
  {
   "cell_type": "code",
   "execution_count": 5,
   "id": "ffbdc41b",
   "metadata": {},
   "outputs": [],
   "source": [
    "from pymongo import MongoClient"
   ]
  },
  {
   "cell_type": "code",
   "execution_count": 6,
   "id": "89496102",
   "metadata": {},
   "outputs": [],
   "source": [
    "import bson\n",
    "import time\n",
    "import pytz\n",
    "from datetime import datetime, timedelta\n"
   ]
  },
  {
   "cell_type": "code",
   "execution_count": 7,
   "id": "6364d193",
   "metadata": {},
   "outputs": [],
   "source": [
    "client = MongoClient(\"mongodb://localhost:27017/\")"
   ]
  },
  {
   "cell_type": "code",
   "execution_count": 8,
   "id": "8c05e101",
   "metadata": {},
   "outputs": [],
   "source": [
    "db = client[\"my_tore\"]"
   ]
  },
  {
   "cell_type": "code",
   "execution_count": 10,
   "id": "3fa5a1f4",
   "metadata": {},
   "outputs": [],
   "source": [
    "db = client[\"my_store\"]"
   ]
  },
  {
   "cell_type": "code",
   "execution_count": 11,
   "id": "ba13d6e0",
   "metadata": {},
   "outputs": [],
   "source": [
    "users_col = db[\"users\"]"
   ]
  },
  {
   "cell_type": "code",
   "execution_count": 13,
   "id": "8c2f3207",
   "metadata": {},
   "outputs": [
    {
     "data": {
      "text/plain": [
       "1683010275.846689"
      ]
     },
     "execution_count": 13,
     "metadata": {},
     "output_type": "execute_result"
    }
   ],
   "source": [
    "time.time()  #--> We see a number which represents how many seconds have passed since January 1st 1970"
   ]
  },
  {
   "cell_type": "code",
   "execution_count": 14,
   "id": "e8f6a301",
   "metadata": {},
   "outputs": [
    {
     "data": {
      "text/plain": [
       "datetime.datetime(2023, 5, 2, 12, 21, 49, 217688)"
      ]
     },
     "execution_count": 14,
     "metadata": {},
     "output_type": "execute_result"
    }
   ],
   "source": [
    "datetime.now()"
   ]
  },
  {
   "cell_type": "code",
   "execution_count": 15,
   "id": "0b82fb05",
   "metadata": {},
   "outputs": [
    {
     "data": {
      "text/plain": [
       "datetime.datetime(2023, 5, 23, 12, 22, 45, 205680)"
      ]
     },
     "execution_count": 15,
     "metadata": {},
     "output_type": "execute_result"
    }
   ],
   "source": [
    "datetime.now() +  timedelta(days = 21)"
   ]
  },
  {
   "cell_type": "code",
   "execution_count": 16,
   "id": "b86075dd",
   "metadata": {},
   "outputs": [
    {
     "data": {
      "text/plain": [
       "datetime.datetime(2023, 5, 2, 6, 53, 45, 709356)"
      ]
     },
     "execution_count": 16,
     "metadata": {},
     "output_type": "execute_result"
    }
   ],
   "source": [
    "datetime.utcnow()"
   ]
  },
  {
   "cell_type": "code",
   "execution_count": 19,
   "id": "2dbdd4eb",
   "metadata": {},
   "outputs": [
    {
     "data": {
      "text/plain": [
       "-19800"
      ]
     },
     "execution_count": 19,
     "metadata": {},
     "output_type": "execute_result"
    }
   ],
   "source": [
    "time.timezone  # this will give time( seconds) difference between utcnow and current time zone(now)"
   ]
  },
  {
   "cell_type": "code",
   "execution_count": 21,
   "id": "8904baeb",
   "metadata": {},
   "outputs": [
    {
     "data": {
      "text/plain": [
       "datetime.datetime(2023, 5, 2, 12, 27, 26, 922036)"
      ]
     },
     "execution_count": 21,
     "metadata": {},
     "output_type": "execute_result"
    }
   ],
   "source": [
    "datetime.fromtimestamp(time.time())\n"
   ]
  },
  {
   "cell_type": "code",
   "execution_count": null,
   "id": "a8b8e460",
   "metadata": {},
   "outputs": [],
   "source": []
  }
 ],
 "metadata": {
  "kernelspec": {
   "display_name": "Python 3 (ipykernel)",
   "language": "python",
   "name": "python3"
  },
  "language_info": {
   "codemirror_mode": {
    "name": "ipython",
    "version": 3
   },
   "file_extension": ".py",
   "mimetype": "text/x-python",
   "name": "python",
   "nbconvert_exporter": "python",
   "pygments_lexer": "ipython3",
   "version": "3.9.12"
  }
 },
 "nbformat": 4,
 "nbformat_minor": 5
}
