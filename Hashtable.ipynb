{
 "cells": [
  {
   "cell_type": "code",
   "execution_count": 3,
   "metadata": {},
   "outputs": [
    {
     "data": {
      "text/plain": [
       "[['07-Mar', 310.0],\n",
       " ['08-Mar', 340.0],\n",
       " ['09-Mar', 380.0],\n",
       " ['10-Mar', 350.0],\n",
       " ['11-Mar', 302.0],\n",
       " ['12-Mar', 297.0],\n",
       " ['13-Mar', 323.0],\n",
       " ['14-Mar', 323.0],\n",
       " ['15-Mar', 323.0],\n",
       " ['16-Mar', 323.0],\n",
       " ['17-Mar', 323.0]]"
      ]
     },
     "execution_count": 3,
     "metadata": {},
     "output_type": "execute_result"
    }
   ],
   "source": [
    "stock_prices=[]\n",
    "with open(\"Boo.csv\",\"r\") as f:\n",
    "    for line in f:\n",
    "        day,price=line.split(',')\n",
    "        price=float(price)\n",
    "        stock_prices.append([day,price])\n",
    "stock_prices"
   ]
  },
  {
   "cell_type": "code",
   "execution_count": 8,
   "metadata": {},
   "outputs": [
    {
     "name": "stdout",
     "output_type": "stream",
     "text": [
      "310.0\n"
     ]
    }
   ],
   "source": [
    "for element in stock_prices:\n",
    "    if element[0]=='07-Mar':\n",
    "        print(element[1])"
   ]
  },
  {
   "cell_type": "code",
   "execution_count": 11,
   "metadata": {},
   "outputs": [
    {
     "data": {
      "text/plain": [
       "{'07-Mar': 310.0,\n",
       " '08-Mar': 340.0,\n",
       " '09-Mar': 380.0,\n",
       " '10-Mar': 350.0,\n",
       " '11-Mar': 302.0,\n",
       " '12-Mar': 297.0,\n",
       " '13-Mar': 323.0,\n",
       " '14-Mar': 323.0,\n",
       " '15-Mar': 323.0,\n",
       " '16-Mar': 323.0,\n",
       " '17-Mar': 323.0}"
      ]
     },
     "execution_count": 11,
     "metadata": {},
     "output_type": "execute_result"
    }
   ],
   "source": [
    "#by using dictionary\n",
    "stock_prices={}\n",
    "with open(\"Boo.csv\",\"r\") as f:\n",
    "    for line in f:\n",
    "        day,price=line.split(',')\n",
    "        price=float(price)\n",
    "        stock_prices[day]=price\n",
    "stock_prices"
   ]
  },
  {
   "cell_type": "code",
   "execution_count": 12,
   "metadata": {},
   "outputs": [
    {
     "data": {
      "text/plain": [
       "310.0"
      ]
     },
     "execution_count": 12,
     "metadata": {},
     "output_type": "execute_result"
    }
   ],
   "source": [
    "stock_prices['07-Mar']\n"
   ]
  },
  {
   "cell_type": "code",
   "execution_count": 16,
   "metadata": {},
   "outputs": [],
   "source": [
    "class HashTable:\n",
    "    def __init__(self):\n",
    "        self.max=100\n",
    "        self.arr=[None]*max #100 size of array\n",
    "        \n",
    "    #hash function\n",
    "    def hashf(key):\n",
    "        sum=0\n",
    "        for c in key:\n",
    "            sum+=c\n",
    "        return sum%max"
   ]
  },
  {
   "cell_type": "code",
   "execution_count": null,
   "metadata": {},
   "outputs": [],
   "source": []
  }
 ],
 "metadata": {
  "kernelspec": {
   "display_name": "Python 3",
   "language": "python",
   "name": "python3"
  },
  "language_info": {
   "codemirror_mode": {
    "name": "ipython",
    "version": 3
   },
   "file_extension": ".py",
   "mimetype": "text/x-python",
   "name": "python",
   "nbconvert_exporter": "python",
   "pygments_lexer": "ipython3",
   "version": "3.7.3"
  }
 },
 "nbformat": 4,
 "nbformat_minor": 2
}
