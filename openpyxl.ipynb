{
 "cells": [
  {
   "cell_type": "code",
   "execution_count": 1,
   "id": "72be0c42",
   "metadata": {},
   "outputs": [],
   "source": [
    "import openpyxl"
   ]
  },
  {
   "cell_type": "code",
   "execution_count": 2,
   "id": "a672e627",
   "metadata": {},
   "outputs": [],
   "source": [
    "import os"
   ]
  },
  {
   "cell_type": "code",
   "execution_count": null,
   "id": "14cc91a8",
   "metadata": {},
   "outputs": [],
   "source": [
    "\n",
    "import openpyxl\n",
    "import os \n",
    "import sys\n",
    "from openpyxl.styles import Font\n",
    "\n",
    "class CommonError(Exception):\n",
    "    def __init__(self, m):\n",
    "        self.message = m\n",
    "    def __dict__(self):\n",
    "        return self.message\n",
    "    def __str__(self):\n",
    "        return str(self.message)\n",
    "\n",
    "def get_file_info(sys_arg, error):\n",
    "    exc_type, exc_obj, exc_tb =sys_arg\n",
    "    fname = os.path.split(exc_tb.tb_frame.f_code.co_filename)[1]\n",
    "    message = f\"exc_type: {exc_type} fname:{fname} LN: {exc_tb.tb_lineno} Error:{error}\"\n",
    "    return message\n",
    "\n",
    "assessment_data = [{\n",
    "    \"Company\": \"Walmart\", \"Country\": \"United States\", \"Revenue\" : 514},{\n",
    "    \"Company\": \"Walmart\", \"Country\": \"United States\", \"Revenue\" : 514},{\n",
    "    \"Company\": \"Walmart\", \"Country\": \"United States\", \"Revenue\": 514},{\n",
    "    \"Company\": \"Walmart\", \"Country\": \"United States\", \"Revenue\" : 514},{\n",
    "    \"Company\": \"Walmart\", \"Country\": \"United States\", \"Revenue\" : 514}\n",
    "    ]\n",
    "def create_excelsheet(assessment_data):\n",
    "    try:\n",
    "        wb = openpyxl.Workbook()\n",
    "        ws_summary = wb.active\n",
    "        ws_summary.title = \"revenue\"\n",
    "        summary_data =(\n",
    "            \"Company\",\n",
    "            \"Country\",\n",
    "            \"Revenue( billinon $)\"\n",
    "        )\n",
    "        \n",
    "        ws_summary.append(summary_data)\n",
    "        ft = Font(bold= True)\n",
    "        for row in ws_summary[\"A1:C1\"]:\n",
    "            for cell in row:\n",
    "                cell.font = ft\n",
    "        \n",
    "        for data in assessment_data:\n",
    "            summary_data = (\n",
    "                str(data[\"Company\"]),\n",
    "                str(data[\"Country\"]),\n",
    "                str(data[\"Revenue\"]))\n",
    "            print(summary_data)\n",
    "            ws_summary.append(summary_data)\n",
    "        file_path = os.getcwd()+ '/output.xlsx'\n",
    "        wb.save(file_path)\n",
    "        return file_path\n",
    "    except Exception as err:\n",
    "        message = get_file_info(sys.exc_info(), err)\n",
    "        raise CommonError(message)\n",
    "   \n",
    "print(create_excelsheet(assessment_data))\n",
    "\n"
   ]
  }
 ],
 "metadata": {
  "kernelspec": {
   "display_name": "Python 3 (ipykernel)",
   "language": "python",
   "name": "python3"
  },
  "language_info": {
   "codemirror_mode": {
    "name": "ipython",
    "version": 3
   },
   "file_extension": ".py",
   "mimetype": "text/x-python",
   "name": "python",
   "nbconvert_exporter": "python",
   "pygments_lexer": "ipython3",
   "version": "3.9.12"
  }
 },
 "nbformat": 4,
 "nbformat_minor": 5
}
