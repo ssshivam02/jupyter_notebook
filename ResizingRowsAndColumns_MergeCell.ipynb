{
 "cells": [
  {
   "cell_type": "code",
   "execution_count": 1,
   "id": "23f7ad2a",
   "metadata": {},
   "outputs": [
    {
     "data": {
      "text/plain": [
       "<Worksheet \"FirstSheet\">"
      ]
     },
     "execution_count": 1,
     "metadata": {},
     "output_type": "execute_result"
    }
   ],
   "source": [
    "import openpyxl\n",
    "\n",
    "work_book = openpyxl.Workbook()\n",
    "sheet_obj = work_book.active\n",
    "sheet_obj\n",
    "\n",
    "sheet_obj.title = 'FirstSheet'\n",
    "sheet_obj"
   ]
  },
  {
   "cell_type": "code",
   "execution_count": 2,
   "id": "abd00759",
   "metadata": {},
   "outputs": [],
   "source": [
    "sheet_obj['C1']= 'A high Row'\n",
    "\n",
    "sheet_obj['D4'] = 'A wide Column'"
   ]
  },
  {
   "cell_type": "code",
   "execution_count": 3,
   "id": "d5bcb995",
   "metadata": {},
   "outputs": [],
   "source": [
    "sheet_obj.row_dimensions[1].height = 70"
   ]
  },
  {
   "cell_type": "code",
   "execution_count": 4,
   "id": "e13e6add",
   "metadata": {},
   "outputs": [],
   "source": [
    "sheet_obj.column_dimensions['D'].width = 60"
   ]
  },
  {
   "cell_type": "code",
   "execution_count": 5,
   "id": "7055160e",
   "metadata": {},
   "outputs": [],
   "source": [
    "work_book.save('dimensions.xlsx')"
   ]
  },
  {
   "cell_type": "markdown",
   "id": "d8f084cd",
   "metadata": {},
   "source": [
    "## Merge Cell\n"
   ]
  },
  {
   "cell_type": "code",
   "execution_count": 6,
   "id": "8dd2548b",
   "metadata": {},
   "outputs": [
    {
     "data": {
      "text/plain": [
       "<Worksheet \"BrandNewSheet\">"
      ]
     },
     "execution_count": 6,
     "metadata": {},
     "output_type": "execute_result"
    }
   ],
   "source": [
    "work_book.create_sheet(title= 'BrandNewSheet', index = 0)"
   ]
  },
  {
   "cell_type": "code",
   "execution_count": 7,
   "id": "5c43547c",
   "metadata": {},
   "outputs": [],
   "source": [
    "new_sheet = work_book.active"
   ]
  },
  {
   "cell_type": "code",
   "execution_count": 8,
   "id": "cfa314af",
   "metadata": {},
   "outputs": [
    {
     "data": {
      "text/plain": [
       "<Worksheet \"BrandNewSheet\">"
      ]
     },
     "execution_count": 8,
     "metadata": {},
     "output_type": "execute_result"
    }
   ],
   "source": [
    "new_sheet"
   ]
  },
  {
   "cell_type": "code",
   "execution_count": 9,
   "id": "220c7b73",
   "metadata": {},
   "outputs": [],
   "source": [
    "work_book.save('merge.xlsx')"
   ]
  },
  {
   "cell_type": "code",
   "execution_count": 10,
   "id": "04430fa7",
   "metadata": {},
   "outputs": [],
   "source": [
    "new_sheet.merge_cells('A1:D3')"
   ]
  },
  {
   "cell_type": "code",
   "execution_count": 11,
   "id": "66b0b976",
   "metadata": {},
   "outputs": [],
   "source": [
    "work_book.save('merge.xlsx')"
   ]
  },
  {
   "cell_type": "code",
   "execution_count": 16,
   "id": "20c86c8d",
   "metadata": {},
   "outputs": [
    {
     "ename": "AttributeError",
     "evalue": "'MergedCell' object attribute 'value' is read-only",
     "output_type": "error",
     "traceback": [
      "\u001b[1;31m---------------------------------------------------------------------------\u001b[0m",
      "\u001b[1;31mAttributeError\u001b[0m                            Traceback (most recent call last)",
      "Input \u001b[1;32mIn [16]\u001b[0m, in \u001b[0;36m<cell line: 1>\u001b[1;34m()\u001b[0m\n\u001b[1;32m----> 1\u001b[0m new_sheet[\u001b[38;5;124m'\u001b[39m\u001b[38;5;124mC2\u001b[39m\u001b[38;5;124m'\u001b[39m] \u001b[38;5;241m=\u001b[39m \u001b[38;5;124m'\u001b[39m\u001b[38;5;124mData in a merged cell\u001b[39m\u001b[38;5;124m'\u001b[39m\n",
      "File \u001b[1;32m~\\anaconda3\\lib\\site-packages\\openpyxl\\worksheet\\worksheet.py:313\u001b[0m, in \u001b[0;36mWorksheet.__setitem__\u001b[1;34m(self, key, value)\u001b[0m\n\u001b[0;32m    312\u001b[0m \u001b[38;5;28;01mdef\u001b[39;00m \u001b[38;5;21m__setitem__\u001b[39m(\u001b[38;5;28mself\u001b[39m, key, value):\n\u001b[1;32m--> 313\u001b[0m     \u001b[38;5;28mself\u001b[39m[key]\u001b[38;5;241m.\u001b[39mvalue \u001b[38;5;241m=\u001b[39m value\n",
      "\u001b[1;31mAttributeError\u001b[0m: 'MergedCell' object attribute 'value' is read-only"
     ]
    }
   ],
   "source": [
    "new_sheet['C2'] = 'Data in a merged cell' #this give error"
   ]
  },
  {
   "cell_type": "code",
   "execution_count": 17,
   "id": "82bc15c2",
   "metadata": {},
   "outputs": [],
   "source": [
    "new_sheet['A1'] = 'Data in a merged cell '"
   ]
  },
  {
   "cell_type": "code",
   "execution_count": 18,
   "id": "d7dc8ab9",
   "metadata": {},
   "outputs": [],
   "source": [
    "work_book.save('merge.xlsx')"
   ]
  },
  {
   "cell_type": "code",
   "execution_count": 19,
   "id": "65f01912",
   "metadata": {},
   "outputs": [],
   "source": [
    "from openpyxl.styles import Alignment"
   ]
  },
  {
   "cell_type": "code",
   "execution_count": 21,
   "id": "3954df09",
   "metadata": {},
   "outputs": [],
   "source": [
    "new_sheet['A1'].alignment = Alignment(horizontal='center')"
   ]
  },
  {
   "cell_type": "code",
   "execution_count": 22,
   "id": "68631bd4",
   "metadata": {},
   "outputs": [],
   "source": [
    "work_book.save('merge.xlsx')"
   ]
  },
  {
   "cell_type": "code",
   "execution_count": 24,
   "id": "9a0b45ee",
   "metadata": {},
   "outputs": [],
   "source": [
    "new_sheet['A1'].alignment = Alignment(vertical='center')"
   ]
  },
  {
   "cell_type": "code",
   "execution_count": 25,
   "id": "ed4e7a3c",
   "metadata": {},
   "outputs": [],
   "source": [
    "work_book.save('merge.xlsx')"
   ]
  },
  {
   "cell_type": "code",
   "execution_count": 26,
   "id": "9eba237b",
   "metadata": {},
   "outputs": [],
   "source": [
    "new_sheet['A1'].alignment = Alignment(horizontal='right',vertical='top')"
   ]
  },
  {
   "cell_type": "code",
   "execution_count": 27,
   "id": "07f460f1",
   "metadata": {},
   "outputs": [],
   "source": [
    "work_book.save('merge.xlsx')"
   ]
  },
  {
   "cell_type": "code",
   "execution_count": 28,
   "id": "d4bc1065",
   "metadata": {},
   "outputs": [],
   "source": [
    "new_sheet['A1'].alignment = Alignment(horizontal='center',vertical='center')"
   ]
  },
  {
   "cell_type": "code",
   "execution_count": 29,
   "id": "c77972de",
   "metadata": {},
   "outputs": [],
   "source": [
    "work_book.save('merge.xlsx')"
   ]
  },
  {
   "cell_type": "code",
   "execution_count": 30,
   "id": "1d94cad9",
   "metadata": {},
   "outputs": [],
   "source": [
    "new_sheet.merge_cells('B5:G5')"
   ]
  },
  {
   "cell_type": "code",
   "execution_count": 31,
   "id": "f348e423",
   "metadata": {},
   "outputs": [],
   "source": [
    "new_sheet['B5'] = 'We just merged cells in the same row'"
   ]
  },
  {
   "cell_type": "code",
   "execution_count": 32,
   "id": "3727ae6b",
   "metadata": {},
   "outputs": [],
   "source": [
    "work_book.save('merge.xlsx')"
   ]
  },
  {
   "cell_type": "code",
   "execution_count": null,
   "id": "36d44f38",
   "metadata": {},
   "outputs": [],
   "source": [
    "new_sheet['A1'].alignment = Alignment(horizontal='center',vertical='center')"
   ]
  }
 ],
 "metadata": {
  "kernelspec": {
   "display_name": "Python 3 (ipykernel)",
   "language": "python",
   "name": "python3"
  },
  "language_info": {
   "codemirror_mode": {
    "name": "ipython",
    "version": 3
   },
   "file_extension": ".py",
   "mimetype": "text/x-python",
   "name": "python",
   "nbconvert_exporter": "python",
   "pygments_lexer": "ipython3",
   "version": "3.9.12"
  }
 },
 "nbformat": 4,
 "nbformat_minor": 5
}
