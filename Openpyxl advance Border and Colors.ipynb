{
 "cells": [
  {
   "cell_type": "code",
   "execution_count": 1,
   "id": "db96a526",
   "metadata": {},
   "outputs": [],
   "source": [
    "import openpyxl\n",
    "\n"
   ]
  },
  {
   "cell_type": "code",
   "execution_count": 2,
   "id": "b6ddae96",
   "metadata": {},
   "outputs": [],
   "source": [
    "work_book = openpyxl.load_workbook('student_data.xlsx')"
   ]
  },
  {
   "cell_type": "code",
   "execution_count": 3,
   "id": "be5700a2",
   "metadata": {},
   "outputs": [
    {
     "data": {
      "text/plain": [
       "['Sheet1']"
      ]
     },
     "execution_count": 3,
     "metadata": {},
     "output_type": "execute_result"
    }
   ],
   "source": [
    "work_book.sheetnames"
   ]
  },
  {
   "cell_type": "code",
   "execution_count": 4,
   "id": "d100a292",
   "metadata": {},
   "outputs": [],
   "source": [
    "sheet = work_book['Sheet1']"
   ]
  },
  {
   "cell_type": "code",
   "execution_count": 5,
   "id": "91ed6abc",
   "metadata": {},
   "outputs": [],
   "source": [
    "from openpyxl.styles import Font, Color, Alignment, Border, Side, colors"
   ]
  },
  {
   "cell_type": "code",
   "execution_count": 6,
   "id": "f520a221",
   "metadata": {},
   "outputs": [],
   "source": [
    "bold_font = Font(bold= True)"
   ]
  },
  {
   "cell_type": "code",
   "execution_count": 18,
   "id": "713f336d",
   "metadata": {},
   "outputs": [],
   "source": [
    "big_red_text= Font(color= colors.BLUE, size= 20)"
   ]
  },
  {
   "cell_type": "code",
   "execution_count": 9,
   "id": "398e3c05",
   "metadata": {},
   "outputs": [],
   "source": [
    "center_aligned_text = Alignment(horizontal=\"center\")"
   ]
  },
  {
   "cell_type": "code",
   "execution_count": 10,
   "id": "d22be1d0",
   "metadata": {},
   "outputs": [],
   "source": [
    "double_border_side = Side(border_style=\"double\")"
   ]
  },
  {
   "cell_type": "code",
   "execution_count": 11,
   "id": "edd3c49c",
   "metadata": {},
   "outputs": [],
   "source": [
    "square_border = Border(top = double_border_side,\n",
    "                      right = double_border_side,\n",
    "                      bottom=double_border_side,\n",
    "                      left = double_border_side)"
   ]
  },
  {
   "cell_type": "code",
   "execution_count": 12,
   "id": "d875ea8b",
   "metadata": {},
   "outputs": [],
   "source": [
    "sheet[\"B2\"].font = bold_font\n",
    "sheet[\"B3\"].font = big_red_text\n",
    "sheet[\"C4\"].alignment = center_aligned_text\n",
    "sheet[\"C5\"].border = square_border"
   ]
  },
  {
   "cell_type": "code",
   "execution_count": 13,
   "id": "a3c9af68",
   "metadata": {},
   "outputs": [],
   "source": [
    "work_book.save(\"student_data.xlsx\")"
   ]
  },
  {
   "cell_type": "code",
   "execution_count": 14,
   "id": "19411444",
   "metadata": {},
   "outputs": [],
   "source": [
    "sheet[\"B7\"].alignment = center_aligned_text\n",
    "sheet[\"B7\"].font = big_red_text\n",
    "sheet[\"B7\"].border = square_border"
   ]
  },
  {
   "cell_type": "code",
   "execution_count": 15,
   "id": "6914dc53",
   "metadata": {},
   "outputs": [],
   "source": [
    "work_book.save(\"student_data.xlsx\")"
   ]
  },
  {
   "cell_type": "code",
   "execution_count": 19,
   "id": "1d95676d",
   "metadata": {},
   "outputs": [],
   "source": [
    "from openpyxl.styles import NamedStyle"
   ]
  },
  {
   "cell_type": "code",
   "execution_count": 20,
   "id": "00c7a3d5",
   "metadata": {},
   "outputs": [],
   "source": [
    "custom_style = NamedStyle(name = \"header\")"
   ]
  },
  {
   "cell_type": "code",
   "execution_count": 21,
   "id": "510ea80d",
   "metadata": {},
   "outputs": [],
   "source": [
    "custom_style.font = Font(bold= True)"
   ]
  },
  {
   "cell_type": "code",
   "execution_count": 22,
   "id": "3986a87a",
   "metadata": {},
   "outputs": [],
   "source": [
    "custom_style.border = Border(bottom = Side(border_style= \"thin\"))"
   ]
  },
  {
   "cell_type": "code",
   "execution_count": 23,
   "id": "48d2c51f",
   "metadata": {},
   "outputs": [],
   "source": [
    "custom_style.alignment = Alignment(horizontal=\"center\", vertical=\"center\")"
   ]
  },
  {
   "cell_type": "code",
   "execution_count": 25,
   "id": "67bd3156",
   "metadata": {},
   "outputs": [],
   "source": [
    "heade_row = sheet[1]  # this is single row"
   ]
  },
  {
   "cell_type": "code",
   "execution_count": 26,
   "id": "556bf7c0",
   "metadata": {},
   "outputs": [],
   "source": [
    "for cell in heade_row:\n",
    "    cell.style = custom_style"
   ]
  },
  {
   "cell_type": "code",
   "execution_count": 27,
   "id": "70a4deed",
   "metadata": {},
   "outputs": [],
   "source": [
    "work_book.save(\"student_data.xlsx\")"
   ]
  },
  {
   "cell_type": "code",
   "execution_count": 28,
   "id": "6a5d16e6",
   "metadata": {},
   "outputs": [],
   "source": [
    "from openpyxl.styles.fills import PatternFill"
   ]
  },
  {
   "cell_type": "code",
   "execution_count": 29,
   "id": "03dd59b2",
   "metadata": {},
   "outputs": [],
   "source": [
    "one_more_style = NamedStyle(name =\"highlight\")"
   ]
  },
  {
   "cell_type": "code",
   "execution_count": 30,
   "id": "2c512907",
   "metadata": {},
   "outputs": [],
   "source": [
    "one_more_style.fill = PatternFill(fgColor= colors.Color('d7abcc'),\n",
    "                                 patternType = 'lightHorizontal')"
   ]
  },
  {
   "cell_type": "code",
   "execution_count": 31,
   "id": "17668307",
   "metadata": {},
   "outputs": [],
   "source": [
    "for cell in sheet['A']:\n",
    "    cell.style = one_more_style"
   ]
  },
  {
   "cell_type": "code",
   "execution_count": 32,
   "id": "115303b8",
   "metadata": {},
   "outputs": [],
   "source": [
    "work_book.save(\"student_data.xlsx\")"
   ]
  },
  {
   "cell_type": "code",
   "execution_count": null,
   "id": "5f0fbb73",
   "metadata": {},
   "outputs": [],
   "source": []
  }
 ],
 "metadata": {
  "kernelspec": {
   "display_name": "Python 3 (ipykernel)",
   "language": "python",
   "name": "python3"
  },
  "language_info": {
   "codemirror_mode": {
    "name": "ipython",
    "version": 3
   },
   "file_extension": ".py",
   "mimetype": "text/x-python",
   "name": "python",
   "nbconvert_exporter": "python",
   "pygments_lexer": "ipython3",
   "version": "3.9.12"
  }
 },
 "nbformat": 4,
 "nbformat_minor": 5
}
