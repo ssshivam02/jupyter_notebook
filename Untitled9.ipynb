{
 "cells": [
  {
   "cell_type": "code",
   "execution_count": 8,
   "metadata": {},
   "outputs": [],
   "source": [
    "def is_palindrome(input_string):\n",
    "    # We'll create two strings, to compare them\n",
    "    new_string = input_string.lower()\n",
    "    print(new_string.strip())\n",
    "    reverse_string = str(new_string)[::-1]\n",
    "    print(reverse_string.strip())\n",
    "\t# Traverse through each letter of the input string\n",
    "\t#for :\n",
    "\t\t# Add any non-blank letters to the \n",
    "\t\t# end of one string, and to the front\n",
    "\t\t# of the other string. \n",
    "\t#\tif ___:\n",
    "\t\t\t#new_string = ___\n",
    "\t\t\t#reverse_string =\n",
    "\t#if new_string==reverse_string:\n",
    "\t#\treturn True\n",
    "\t#eturn False\n"
   ]
  },
  {
   "cell_type": "code",
   "execution_count": 9,
   "metadata": {},
   "outputs": [
    {
     "name": "stdout",
     "output_type": "stream",
     "text": [
      "never odd or even\n",
      "neve ro ddo reven\n",
      "None\n",
      "abc\n",
      "cba\n",
      "None\n",
      "kayak\n",
      "kayak\n",
      "None\n"
     ]
    }
   ],
   "source": [
    "\n",
    "print(is_palindrome(\"Never Odd or Even\")) # Should be True\n",
    "print(is_palindrome(\"abc\")) # Should be False\n",
    "print(is_palindrome(\"kayak\")) # Should be True"
   ]
  },
  {
   "cell_type": "code",
   "execution_count": null,
   "metadata": {},
   "outputs": [],
   "source": [
    "new_string = input_string.lower().strip()\n",
    "\treverse_string = str(new_string)[::-1].strip()\n",
    "    if new_string==reverse_string:\n",
    "\t\treturn True\n",
    "\treturn False"
   ]
  }
 ],
 "metadata": {
  "kernelspec": {
   "display_name": "Python 3",
   "language": "python",
   "name": "python3"
  },
  "language_info": {
   "codemirror_mode": {
    "name": "ipython",
    "version": 3
   },
   "file_extension": ".py",
   "mimetype": "text/x-python",
   "name": "python",
   "nbconvert_exporter": "python",
   "pygments_lexer": "ipython3",
   "version": "3.7.3"
  }
 },
 "nbformat": 4,
 "nbformat_minor": 2
}
