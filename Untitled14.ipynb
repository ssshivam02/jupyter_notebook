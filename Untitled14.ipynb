{
 "cells": [
  {
   "cell_type": "code",
   "execution_count": 2,
   "metadata": {},
   "outputs": [],
   "source": [
    "from collections import deque"
   ]
  },
  {
   "cell_type": "code",
   "execution_count": 3,
   "metadata": {},
   "outputs": [],
   "source": [
    "q1=deque([i for i in range(5)])"
   ]
  },
  {
   "cell_type": "code",
   "execution_count": 4,
   "metadata": {},
   "outputs": [
    {
     "name": "stdout",
     "output_type": "stream",
     "text": [
      "deque([10, 1, 2, 3, 6])\n"
     ]
    }
   ],
   "source": [
    "if q1:\n",
    "    q1.pop()\n",
    "    q1.append(6)\n",
    "    q1.popleft()\n",
    "    q1.appendleft(10)\n",
    "    print(q1)\n",
    "else:\n",
    "    print(\"s\")"
   ]
  },
  {
   "cell_type": "code",
   "execution_count": 5,
   "metadata": {},
   "outputs": [
    {
     "name": "stdout",
     "output_type": "stream",
     "text": [
      "('apple', 10, 2, 4, 5, 6, 3, 7)\n"
     ]
    }
   ],
   "source": [
    "t1=('apple',10,2,4)\n",
    "t2=(5,6,3,7)\n",
    "t3=t1+t2\n",
    "print(t3)"
   ]
  },
  {
   "cell_type": "code",
   "execution_count": 8,
   "metadata": {},
   "outputs": [
    {
     "name": "stdout",
     "output_type": "stream",
     "text": [
      "c\n",
      "{'b', 'a', 'd'}\n"
     ]
    }
   ],
   "source": [
    "cs={\"a\",\"b\",\"c\",\"b\",\"d\"}\n",
    "set1=cs.pop()\n",
    "print(set1)\n",
    "print(cs)"
   ]
  },
  {
   "cell_type": "code",
   "execution_count": 10,
   "metadata": {},
   "outputs": [
    {
     "name": "stdout",
     "output_type": "stream",
     "text": [
      "['shivam', 'shivam', None]\n"
     ]
    }
   ],
   "source": [
    "mylist1=[\"shivam\",\"shivam\"]\n",
    "mylist2=[\"p\",\"q\"]\n",
    "mylist1.append(mylist2.append(mylist1[1]))\n",
    "print(mylist1)"
   ]
  },
  {
   "cell_type": "code",
   "execution_count": 11,
   "metadata": {},
   "outputs": [],
   "source": [
    "import re"
   ]
  },
  {
   "cell_type": "code",
   "execution_count": 14,
   "metadata": {},
   "outputs": [
    {
     "name": "stdout",
     "output_type": "stream",
     "text": [
      "['7 '] \n",
      " ['Wond', 'World']\n"
     ]
    }
   ],
   "source": [
    "inp_str=\"7 Wonders of the World\"\n",
    "for i in range(len(inp_str[0])):\n",
    "    a= re.findall(r'\\A[0-9]\\s',inp_str)\n",
    "    b= re.findall(r'W[a-zA-Z0-9]*d',inp_str)\n",
    "else:\n",
    "    print(a,\"\\n\",b)"
   ]
  },
  {
   "cell_type": "code",
   "execution_count": 16,
   "metadata": {},
   "outputs": [
    {
     "name": "stdout",
     "output_type": "stream",
     "text": [
      "id\n",
      "idw\n",
      "In\n",
      "5\n",
      "f\n",
      "wr\n"
     ]
    }
   ],
   "source": [
    "def mdc(func):\n",
    "    print(\"id\")\n",
    "    def wr(*args,**kwargs):\n",
    "        print('idw')\n",
    "        func(*args)\n",
    "        print(\"wr\")\n",
    "    return wr\n",
    "\n",
    "@mdc\n",
    "def cen(num1,num2):\n",
    "    print(\"In\")\n",
    "    print(num1+num2)\n",
    "    print(\"f\")\n",
    "cen(2,3)"
   ]
  },
  {
   "cell_type": "code",
   "execution_count": 18,
   "metadata": {},
   "outputs": [
    {
     "name": "stdout",
     "output_type": "stream",
     "text": [
      "The pl li\n"
     ]
    }
   ],
   "source": [
    "def ch(func):\n",
    "    def wr(color):\n",
    "        avcol=['Be',\"Ma\",\"oc\",\"li\"]\n",
    "        pai=[\"pl\",\"gr\",\"hu\",\"sp\"]\n",
    "        for i in zip(pai[::-1],avcol):\n",
    "            choice=i\n",
    "        val1=func(\" \".join(choice))\n",
    "        return val1\n",
    "    return wr\n",
    "@ch\n",
    "def paint(color):\n",
    "    return \"The {}\".format(color)\n",
    "final=paint(\"cr\")\n",
    "print(final)"
   ]
  },
  {
   "cell_type": "code",
   "execution_count": null,
   "metadata": {},
   "outputs": [],
   "source": []
  }
 ],
 "metadata": {
  "kernelspec": {
   "display_name": "Python 3",
   "language": "python",
   "name": "python3"
  },
  "language_info": {
   "codemirror_mode": {
    "name": "ipython",
    "version": 3
   },
   "file_extension": ".py",
   "mimetype": "text/x-python",
   "name": "python",
   "nbconvert_exporter": "python",
   "pygments_lexer": "ipython3",
   "version": "3.7.3"
  }
 },
 "nbformat": 4,
 "nbformat_minor": 2
}
