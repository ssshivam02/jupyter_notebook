{
 "cells": [
  {
   "cell_type": "markdown",
   "metadata": {
    "id": "Vv62XUHkaDTJ"
   },
   "source": [
    "## Step 1: Import Libraries"
   ]
  },
  {
   "cell_type": "code",
   "execution_count": 1,
   "metadata": {
    "colab": {
     "base_uri": "https://localhost:8080/"
    },
    "id": "wUhme81saGkT",
    "outputId": "d4200283-a5cb-4f7e-c0c7-3e601923e4bd"
   },
   "outputs": [
    {
     "name": "stdout",
     "output_type": "stream",
     "text": [
      "Collecting mibian\n",
      "  Downloading https://files.pythonhosted.org/packages/e5/74/25719d1f66b84561f209692947980660268cf601dc92766547b626eb03d5/mibian-0.1.3.tar.gz\n",
      "Building wheels for collected packages: mibian\n",
      "  Building wheel for mibian (setup.py): started\n",
      "  Building wheel for mibian (setup.py): finished with status 'done'\n",
      "  Stored in directory: C:\\Users\\Shivam\\AppData\\Local\\pip\\Cache\\wheels\\34\\c7\\51\\22486b811445a01dab50193c9748e94242e55a4ce686a24240\n",
      "Successfully built mibian\n",
      "Installing collected packages: mibian\n",
      "Successfully installed mibian-0.1.3\n"
     ]
    }
   ],
   "source": [
    "!pip install mibian"
   ]
  },
  {
   "cell_type": "code",
   "execution_count": 4,
   "metadata": {
    "id": "bNxAf9OFaKWW"
   },
   "outputs": [
    {
     "name": "stdout",
     "output_type": "stream",
     "text": [
      "Help on package mibian:\n",
      "\n",
      "NAME\n",
      "    mibian\n",
      "\n",
      "DESCRIPTION\n",
      "    MibianLib - Options Pricing Open Source Library - http://code.mibian.net/\n",
      "    Copyright (C) 2011 Yassine Maaroufi - <yassinemaaroufi@mibian.net>\n",
      "    Distributed under GPLv3 - http://www.gnu.org/copyleft/gpl.html\n",
      "\n",
      "PACKAGE CONTENTS\n",
      "\n",
      "\n",
      "CLASSES\n",
      "    builtins.object\n",
      "        BS\n",
      "        GK\n",
      "        Me\n",
      "    \n",
      "    class BS(builtins.object)\n",
      "     |  BS(args, volatility=None, callPrice=None, putPrice=None, performance=None)\n",
      "     |  \n",
      "     |  Black-Scholes\n",
      "     |  Used for pricing European options on stocks without dividends\n",
      "     |  \n",
      "     |  BS([underlyingPrice, strikePrice, interestRate, daysToExpiration],                      volatility=x, callPrice=y, putPrice=z)\n",
      "     |  \n",
      "     |  eg: \n",
      "     |          c = mibian.BS([1.4565, 1.45, 1, 30], volatility=20)\n",
      "     |          c.callPrice                             # Returns the call price\n",
      "     |          c.putPrice                              # Returns the put price\n",
      "     |          c.callDelta                             # Returns the call delta\n",
      "     |          c.putDelta                              # Returns the put delta\n",
      "     |          c.callDelta2                    # Returns the call dual delta\n",
      "     |          c.putDelta2                             # Returns the put dual delta\n",
      "     |          c.callTheta                             # Returns the call theta\n",
      "     |          c.putTheta                              # Returns the put theta\n",
      "     |          c.callRho                               # Returns the call rho\n",
      "     |          c.putRho                                # Returns the put rho\n",
      "     |          c.vega                                  # Returns the option vega\n",
      "     |          c.gamma                                 # Returns the option gamma\n",
      "     |  \n",
      "     |          c = mibian.BS([1.4565, 1.45, 1, 30], callPrice=0.0359)\n",
      "     |          c.impliedVolatility             # Returns the implied volatility from the call price\n",
      "     |          \n",
      "     |          c = mibian.BS([1.4565, 1.45, 1, 30], putPrice=0.0306)\n",
      "     |          c.impliedVolatility             # Returns the implied volatility from the put price\n",
      "     |          \n",
      "     |          c = mibian.BS([1.4565, 1.45, 1, 30], callPrice=0.0359, putPrice=0.0306)\n",
      "     |          c.putCallParity                 # Returns the put-call parity\n",
      "     |  \n",
      "     |  Methods defined here:\n",
      "     |  \n",
      "     |  __init__(self, args, volatility=None, callPrice=None, putPrice=None, performance=None)\n",
      "     |      Initialize self.  See help(type(self)) for accurate signature.\n",
      "     |  \n",
      "     |  ----------------------------------------------------------------------\n",
      "     |  Data descriptors defined here:\n",
      "     |  \n",
      "     |  __dict__\n",
      "     |      dictionary for instance variables (if defined)\n",
      "     |  \n",
      "     |  __weakref__\n",
      "     |      list of weak references to the object (if defined)\n",
      "    \n",
      "    class GK(builtins.object)\n",
      "     |  GK(args, volatility=None, callPrice=None, putPrice=None, performance=None)\n",
      "     |  \n",
      "     |  Garman-Kohlhagen\n",
      "     |  Used for pricing European options on currencies\n",
      "     |  \n",
      "     |  GK([underlyingPrice, strikePrice, domesticRate, foreignRate,                    daysToExpiration], volatility=x, callPrice=y, putPrice=z)\n",
      "     |  \n",
      "     |  eg: \n",
      "     |          c = mibian.GK([1.4565, 1.45, 1, 2, 30], volatility=20)\n",
      "     |          c.callPrice                             # Returns the call price\n",
      "     |          c.putPrice                              # Returns the put price\n",
      "     |          c.callDelta                             # Returns the call delta\n",
      "     |          c.putDelta                              # Returns the put delta\n",
      "     |          c.callDelta2                    # Returns the call dual delta\n",
      "     |          c.putDelta2                             # Returns the put dual delta\n",
      "     |          c.callTheta                             # Returns the call theta\n",
      "     |          c.putTheta                              # Returns the put theta\n",
      "     |          c.callRhoD                              # Returns the call domestic rho\n",
      "     |          c.putRhoD                               # Returns the put domestic rho\n",
      "     |          c.callRhoF                              # Returns the call foreign rho\n",
      "     |          c.putRhoF                               # Returns the call foreign rho\n",
      "     |          c.vega                                  # Returns the option vega\n",
      "     |          c.gamma                                 # Returns the option gamma\n",
      "     |  \n",
      "     |          c = mibian.GK([1.4565, 1.45, 1, 2, 30], callPrice=0.0359)\n",
      "     |          c.impliedVolatility             # Returns the implied volatility from the call price\n",
      "     |          \n",
      "     |          c = mibian.GK([1.4565, 1.45, 1, 2, 30], putPrice=0.03)\n",
      "     |          c.impliedVolatility             # Returns the implied volatility from the put price\n",
      "     |          \n",
      "     |          c = mibian.GK([1.4565, 1.45, 1, 2, 30], callPrice=0.0359, putPrice=0.03)\n",
      "     |          c.putCallParity                 # Returns the put-call parity\n",
      "     |  \n",
      "     |  Methods defined here:\n",
      "     |  \n",
      "     |  __init__(self, args, volatility=None, callPrice=None, putPrice=None, performance=None)\n",
      "     |      Initialize self.  See help(type(self)) for accurate signature.\n",
      "     |  \n",
      "     |  ----------------------------------------------------------------------\n",
      "     |  Data descriptors defined here:\n",
      "     |  \n",
      "     |  __dict__\n",
      "     |      dictionary for instance variables (if defined)\n",
      "     |  \n",
      "     |  __weakref__\n",
      "     |      list of weak references to the object (if defined)\n",
      "    \n",
      "    class Me(builtins.object)\n",
      "     |  Me(args, volatility=None, callPrice=None, putPrice=None, performance=None)\n",
      "     |  \n",
      "     |  Merton\n",
      "     |  Used for pricing European options on stocks with dividends\n",
      "     |  \n",
      "     |  Me([underlyingPrice, strikePrice, interestRate, annualDividends,                        daysToExpiration], volatility=x, callPrice=y, putPrice=z)\n",
      "     |  \n",
      "     |  eg: \n",
      "     |          c = mibian.Me([52, 50, 1, 1, 30], volatility=20)\n",
      "     |          c.callPrice                             # Returns the call price\n",
      "     |          c.putPrice                              # Returns the put price\n",
      "     |          c.callDelta                             # Returns the call delta\n",
      "     |          c.putDelta                              # Returns the put delta\n",
      "     |          c.callDelta2                    # Returns the call dual delta\n",
      "     |          c.putDelta2                             # Returns the put dual delta\n",
      "     |          c.callTheta                             # Returns the call theta\n",
      "     |          c.putTheta                              # Returns the put theta\n",
      "     |          c.callRho                               # Returns the call rho\n",
      "     |          c.putRho                                # Returns the put rho\n",
      "     |          c.vega                                  # Returns the option vega\n",
      "     |          c.gamma                                 # Returns the option gamma\n",
      "     |  \n",
      "     |          c = mibian.Me([52, 50, 1, 1, 30], callPrice=0.0359)\n",
      "     |          c.impliedVolatility             # Returns the implied volatility from the call price\n",
      "     |          \n",
      "     |          c = mibian.Me([52, 50, 1, 1, 30], putPrice=0.0306)\n",
      "     |          c.impliedVolatility             # Returns the implied volatility from the put price\n",
      "     |          \n",
      "     |          c = mibian.Me([52, 50, 1, 1, 30], callPrice=0.0359, putPrice=0.0306)\n",
      "     |          c.putCallParity                 # Returns the put-call parity\n",
      "     |  \n",
      "     |  Methods defined here:\n",
      "     |  \n",
      "     |  __init__(self, args, volatility=None, callPrice=None, putPrice=None, performance=None)\n",
      "     |      Initialize self.  See help(type(self)) for accurate signature.\n",
      "     |  \n",
      "     |  ----------------------------------------------------------------------\n",
      "     |  Data descriptors defined here:\n",
      "     |  \n",
      "     |  __dict__\n",
      "     |      dictionary for instance variables (if defined)\n",
      "     |  \n",
      "     |  __weakref__\n",
      "     |      list of weak references to the object (if defined)\n",
      "\n",
      "FUNCTIONS\n",
      "    impliedVolatility(className, args, callPrice=None, putPrice=None, high=500.0, low=0.0)\n",
      "        Returns the estimated implied volatility\n",
      "    \n",
      "    log(...)\n",
      "        log(x, [base=math.e])\n",
      "        Return the logarithm of x to the given base.\n",
      "        \n",
      "        If the base not specified, returns the natural logarithm (base e) of x.\n",
      "\n",
      "DATA\n",
      "    e = 2.718281828459045\n",
      "    norm = <scipy.stats._continuous_distns.norm_gen object>\n",
      "\n",
      "FILE\n",
      "    c:\\users\\shivam\\anaconda3\\lib\\site-packages\\mibian\\__init__.py\n",
      "\n",
      "\n"
     ]
    }
   ],
   "source": [
    "import mibian from tabulate import tabulate\n",
    "h"
   ]
  },
  {
   "cell_type": "markdown",
   "metadata": {
    "id": "-YuV8F7haNbM"
   },
   "source": [
    "# Step 2: Define Parameters\n",
    "\n",
    "stock_price: This is the price at which the stock is trading.\n",
    "\n",
    "strike_price: This is the price at which the option will be exercised.\n",
    "\n",
    "interest_rate: This is the risk-free rate prevailing in the economy. In our example, we will take future price as the stock_price and consider the interest rate as 0. This is because the future price includes the interest rate.\n",
    "\n",
    "days_to_expiry: This the number of calendar days left to expiry.\n",
    "\n",
    "Volatility: This is the option's implied volatility."
   ]
  },
  {
   "cell_type": "code",
   "execution_count": null,
   "metadata": {
    "id": "ZOwQwyc4aP8B"
   },
   "outputs": [],
   "source": [
    "stock_price = 340.3\n",
    "strike_price = 350\n",
    "interest_rate = 0\n",
    "days_to_expiry = 29\n",
    "volatility = 30.0"
   ]
  },
  {
   "cell_type": "markdown",
   "metadata": {
    "id": "OKTohSMvaSvi"
   },
   "source": [
    "## Step 3: Compute Greeks\n",
    "\n",
    "BS (Black-Scholes) is used for pricing European options on the stocks without dividends. The syntax is as follows:\n",
    "\n",
    "BS([stock_price, strike_price, interest_rate, days_to_expiry], volatility=x, callPrice=y, putPrice=z).\n",
    "\n",
    "The BS function returns  the following callPrice, putPrice, callDelta, putDelta, callTheta, putTheta, callRho, putRho, vega, and gamma\t\n"
   ]
  },
  {
   "cell_type": "code",
   "execution_count": null,
   "metadata": {
    "id": "zz5sgNLOaVvT"
   },
   "outputs": [],
   "source": [
    "greeks = mibian.BS([stock_price, strike_price, interest_rate, days_to_expiry], \\\n",
    "                   volatility=volatility)"
   ]
  },
  {
   "cell_type": "code",
   "execution_count": null,
   "metadata": {
    "colab": {
     "base_uri": "https://localhost:8080/"
    },
    "id": "MtBSoiA6aZyz",
    "outputId": "00b0457d-671c-4d3b-e9df-f3c080c0cfe7"
   },
   "outputs": [
    {
     "data": {
      "text/plain": [
       "0.09843024517833651"
      ]
     },
     "execution_count": 8,
     "metadata": {
      "tags": []
     },
     "output_type": "execute_result"
    }
   ],
   "source": [
    "greeks.callRho"
   ]
  },
  {
   "cell_type": "markdown",
   "metadata": {
    "id": "giyKPIwYanBu"
   },
   "source": [
    "## Step 4: Greeks for Call Option\n"
   ]
  },
  {
   "cell_type": "code",
   "execution_count": null,
   "metadata": {
    "colab": {
     "base_uri": "https://localhost:8080/"
    },
    "id": "fHggzOjkac3P",
    "outputId": "c66d0561-dc1d-4d2b-f965-db660253305b"
   },
   "outputs": [
    {
     "name": "stdout",
     "output_type": "stream",
     "text": [
      "| Greeks   |      Value |\n",
      "|----------+------------|\n",
      "| Delta    |  0.385875  |\n",
      "| Gamma    |  0.0132923 |\n",
      "| Vega     |  0.366903  |\n",
      "| Theta    | -0.189778  |\n",
      "| Rho      |  0.0984302 |\n",
      "\n",
      "The Call price is: 7.426905031477048\n"
     ]
    }
   ],
   "source": [
    "print(tabulate(\n",
    "        [\n",
    "            ['Delta',greeks.callDelta],\n",
    "            ['Gamma',greeks.gamma],\n",
    "            ['Vega',greeks.vega],\n",
    "            ['Theta',greeks.callTheta],\n",
    "            ['Rho',greeks.callRho]\n",
    "        ],headers=['Greeks','Value'],tablefmt='orgtbl'))\n",
    "print(\"\")\n",
    "print(\"The Call price is:\",greeks.callPrice)"
   ]
  },
  {
   "cell_type": "markdown",
   "metadata": {
    "id": "xQyOUIYlag9d"
   },
   "source": [
    "## Step 5: Greeks for Put Option"
   ]
  },
  {
   "cell_type": "code",
   "execution_count": null,
   "metadata": {
    "colab": {
     "base_uri": "https://localhost:8080/"
    },
    "id": "b_BMcCUzahjf",
    "outputId": "583ca28b-3b2b-44d7-d008-672a03144188"
   },
   "outputs": [
    {
     "name": "stdout",
     "output_type": "stream",
     "text": [
      "| Greeks   |      Value |\n",
      "|----------+------------|\n",
      "| Delta    | -0.614125  |\n",
      "| Gamma    |  0.0132923 |\n",
      "| Vega     |  0.366903  |\n",
      "| Theta    | -0.189778  |\n",
      "| Rho      | -0.179652  |\n",
      "\n",
      "The Put price is: 17.12690503147701\n",
      "The Call price is: 7.426905031477048\n"
     ]
    }
   ],
   "source": [
    "print(tabulate(\n",
    "        [\n",
    "            ['Delta', greeks.putDelta],\n",
    "            ['Gamma', greeks.gamma],\n",
    "            ['Vega', greeks.vega],\n",
    "            ['Theta', greeks.putTheta],\n",
    "            ['Rho', greeks.putRho]\n",
    "        ],headers=['Greeks', 'Value'], tablefmt='orgtbl'))\n",
    "print(\"\")\n",
    "print(\"The Put price is:\",greeks.putPrice)\n",
    "print(\"The Call price is:\",greeks.callPrice)"
   ]
  },
  {
   "cell_type": "markdown",
   "metadata": {
    "id": "_lEqFTRiavk8"
   },
   "source": [
    "Below the Options Greeks table, the price of 100 strike call and 100 strike put is calculated. This is the theoretical option price as per the Black-Scholes options pricing model. This should ideally match the option price in the market. In the upcoming units, we will discuss in depth all the important Options Greeks and their sensitivity.\n",
    "<BR>\n"
   ]
  }
 ],
 "metadata": {
  "colab": {
   "collapsed_sections": [],
   "name": "09_Greeks Calculator.ipynb",
   "provenance": []
  },
  "kernelspec": {
   "display_name": "Python 3",
   "language": "python",
   "name": "python3"
  },
  "language_info": {
   "codemirror_mode": {
    "name": "ipython",
    "version": 3
   },
   "file_extension": ".py",
   "mimetype": "text/x-python",
   "name": "python",
   "nbconvert_exporter": "python",
   "pygments_lexer": "ipython3",
   "version": "3.7.3"
  }
 },
 "nbformat": 4,
 "nbformat_minor": 1
}
