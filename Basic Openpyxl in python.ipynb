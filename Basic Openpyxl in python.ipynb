{
 "cells": [
  {
   "cell_type": "code",
   "execution_count": 1,
   "id": "c6b383a0",
   "metadata": {},
   "outputs": [],
   "source": [
    "import openpyxl"
   ]
  },
  {
   "cell_type": "code",
   "execution_count": 2,
   "id": "84f1466f",
   "metadata": {},
   "outputs": [],
   "source": [
    "work_book = openpyxl.load_workbook('company_revenue.xlsx')"
   ]
  },
  {
   "cell_type": "code",
   "execution_count": 3,
   "id": "b260d5ce",
   "metadata": {},
   "outputs": [
    {
     "data": {
      "text/plain": [
       "['revenue']"
      ]
     },
     "execution_count": 3,
     "metadata": {},
     "output_type": "execute_result"
    }
   ],
   "source": [
    "work_book.sheetnames"
   ]
  },
  {
   "cell_type": "code",
   "execution_count": 4,
   "id": "b92c487a",
   "metadata": {},
   "outputs": [
    {
     "data": {
      "text/plain": [
       "[<Worksheet \"revenue\">]"
      ]
     },
     "execution_count": 4,
     "metadata": {},
     "output_type": "execute_result"
    }
   ],
   "source": [
    "work_book.worksheets"
   ]
  },
  {
   "cell_type": "code",
   "execution_count": 5,
   "id": "3bba3c2d",
   "metadata": {},
   "outputs": [],
   "source": [
    "sheet_obj = work_book['revenue']"
   ]
  },
  {
   "cell_type": "code",
   "execution_count": 6,
   "id": "0be22d77",
   "metadata": {},
   "outputs": [
    {
     "data": {
      "text/plain": [
       "{}"
      ]
     },
     "execution_count": 6,
     "metadata": {},
     "output_type": "execute_result"
    }
   ],
   "source": [
    "sheet_obj.tables"
   ]
  },
  {
   "cell_type": "code",
   "execution_count": 7,
   "id": "41a730a3",
   "metadata": {},
   "outputs": [
    {
     "data": {
      "text/plain": [
       "'revenue'"
      ]
     },
     "execution_count": 7,
     "metadata": {},
     "output_type": "execute_result"
    }
   ],
   "source": [
    "sheet_obj.title"
   ]
  },
  {
   "cell_type": "code",
   "execution_count": 8,
   "id": "baa378fe",
   "metadata": {},
   "outputs": [
    {
     "data": {
      "text/plain": [
       "<Cell 'revenue'.A1>"
      ]
     },
     "execution_count": 8,
     "metadata": {},
     "output_type": "execute_result"
    }
   ],
   "source": [
    "sheet_obj['A1']"
   ]
  },
  {
   "cell_type": "code",
   "execution_count": 9,
   "id": "1d75ca86",
   "metadata": {},
   "outputs": [
    {
     "data": {
      "text/plain": [
       "'Company'"
      ]
     },
     "execution_count": 9,
     "metadata": {},
     "output_type": "execute_result"
    }
   ],
   "source": [
    "sheet_obj['A1'].value"
   ]
  },
  {
   "cell_type": "code",
   "execution_count": 10,
   "id": "c43e61dc",
   "metadata": {},
   "outputs": [],
   "source": [
    "cell = sheet_obj['B1']"
   ]
  },
  {
   "cell_type": "code",
   "execution_count": 11,
   "id": "82c8a020",
   "metadata": {},
   "outputs": [
    {
     "data": {
      "text/plain": [
       "openpyxl.cell.cell.Cell"
      ]
     },
     "execution_count": 11,
     "metadata": {},
     "output_type": "execute_result"
    }
   ],
   "source": [
    "type(cell)"
   ]
  },
  {
   "cell_type": "code",
   "execution_count": 12,
   "id": "f0ed44d9",
   "metadata": {},
   "outputs": [
    {
     "data": {
      "text/plain": [
       "1"
      ]
     },
     "execution_count": 12,
     "metadata": {},
     "output_type": "execute_result"
    }
   ],
   "source": [
    "cell.row"
   ]
  },
  {
   "cell_type": "code",
   "execution_count": 13,
   "id": "096f9756",
   "metadata": {},
   "outputs": [
    {
     "data": {
      "text/plain": [
       "2"
      ]
     },
     "execution_count": 13,
     "metadata": {},
     "output_type": "execute_result"
    }
   ],
   "source": [
    "cell.column"
   ]
  },
  {
   "cell_type": "code",
   "execution_count": 14,
   "id": "59956141",
   "metadata": {},
   "outputs": [
    {
     "data": {
      "text/plain": [
       "'B'"
      ]
     },
     "execution_count": 14,
     "metadata": {},
     "output_type": "execute_result"
    }
   ],
   "source": [
    "cell.column_letter"
   ]
  },
  {
   "cell_type": "code",
   "execution_count": 15,
   "id": "04123e75",
   "metadata": {},
   "outputs": [
    {
     "data": {
      "text/plain": [
       "2"
      ]
     },
     "execution_count": 15,
     "metadata": {},
     "output_type": "execute_result"
    }
   ],
   "source": [
    "cell.col_idx"
   ]
  },
  {
   "cell_type": "code",
   "execution_count": 16,
   "id": "a4b3c98b",
   "metadata": {},
   "outputs": [
    {
     "data": {
      "text/plain": [
       "'General'"
      ]
     },
     "execution_count": 16,
     "metadata": {},
     "output_type": "execute_result"
    }
   ],
   "source": [
    "cell.number_format"
   ]
  },
  {
   "cell_type": "code",
   "execution_count": 17,
   "id": "94951955",
   "metadata": {},
   "outputs": [
    {
     "data": {
      "text/plain": [
       "'B1'"
      ]
     },
     "execution_count": 17,
     "metadata": {},
     "output_type": "execute_result"
    }
   ],
   "source": [
    "cell.coordinate"
   ]
  },
  {
   "cell_type": "code",
   "execution_count": 18,
   "id": "8e5e2a3a",
   "metadata": {},
   "outputs": [
    {
     "data": {
      "text/plain": [
       "'s'"
      ]
     },
     "execution_count": 18,
     "metadata": {},
     "output_type": "execute_result"
    }
   ],
   "source": [
    "cell.data_type   # it returns s that denotes string"
   ]
  },
  {
   "cell_type": "code",
   "execution_count": 19,
   "id": "d3fbc815",
   "metadata": {},
   "outputs": [
    {
     "data": {
      "text/plain": [
       "'Country'"
      ]
     },
     "execution_count": 19,
     "metadata": {},
     "output_type": "execute_result"
    }
   ],
   "source": [
    "cell.value"
   ]
  },
  {
   "cell_type": "code",
   "execution_count": 20,
   "id": "02143631",
   "metadata": {},
   "outputs": [
    {
     "data": {
      "text/plain": [
       "'Walmart, based in United Stateshas a revenue of $514 billion.'"
      ]
     },
     "execution_count": 20,
     "metadata": {},
     "output_type": "execute_result"
    }
   ],
   "source": [
    "sheet_obj['A2'].value +\\\n",
    "', based in ' + sheet_obj['B2'].value +\\\n",
    "'has a revenue of $'+\\\n",
    "str(sheet_obj['C2'].value)+\\\n",
    "' billion.'"
   ]
  },
  {
   "cell_type": "code",
   "execution_count": 21,
   "id": "09efcdbe",
   "metadata": {},
   "outputs": [],
   "source": [
    "cell = sheet_obj['C2'].value"
   ]
  },
  {
   "cell_type": "code",
   "execution_count": 22,
   "id": "74fe782f",
   "metadata": {},
   "outputs": [
    {
     "data": {
      "text/plain": [
       "str"
      ]
     },
     "execution_count": 22,
     "metadata": {},
     "output_type": "execute_result"
    }
   ],
   "source": [
    "type(cell)"
   ]
  },
  {
   "cell_type": "code",
   "execution_count": 23,
   "id": "e38588b7",
   "metadata": {},
   "outputs": [
    {
     "data": {
      "text/plain": [
       "<Cell 'revenue'.B1>"
      ]
     },
     "execution_count": 23,
     "metadata": {},
     "output_type": "execute_result"
    }
   ],
   "source": [
    "sheet_obj.cell(row = 1, column= 2)"
   ]
  },
  {
   "cell_type": "code",
   "execution_count": 24,
   "id": "5f10cdf7",
   "metadata": {},
   "outputs": [
    {
     "data": {
      "text/plain": [
       "'Country'"
      ]
     },
     "execution_count": 24,
     "metadata": {},
     "output_type": "execute_result"
    }
   ],
   "source": [
    "sheet_obj.cell(row = 1, column= 2).value"
   ]
  },
  {
   "cell_type": "markdown",
   "id": "40903fa2",
   "metadata": {},
   "source": [
    "####  we can determine the maximum number of row and column that is available in our worksheet"
   ]
  },
  {
   "cell_type": "code",
   "execution_count": 25,
   "id": "53757e6b",
   "metadata": {},
   "outputs": [
    {
     "data": {
      "text/plain": [
       "6"
      ]
     },
     "execution_count": 25,
     "metadata": {},
     "output_type": "execute_result"
    }
   ],
   "source": [
    "sheet_obj.max_row"
   ]
  },
  {
   "cell_type": "code",
   "execution_count": 26,
   "id": "fb8f827d",
   "metadata": {},
   "outputs": [
    {
     "data": {
      "text/plain": [
       "3"
      ]
     },
     "execution_count": 26,
     "metadata": {},
     "output_type": "execute_result"
    }
   ],
   "source": [
    "sheet_obj.max_column"
   ]
  },
  {
   "cell_type": "markdown",
   "id": "0735ced3",
   "metadata": {},
   "source": [
    "### Print all the columns name"
   ]
  },
  {
   "cell_type": "code",
   "execution_count": 27,
   "id": "a68a469c",
   "metadata": {},
   "outputs": [],
   "source": [
    "max_col = sheet_obj.max_column\n"
   ]
  },
  {
   "cell_type": "code",
   "execution_count": 28,
   "id": "7964ccec",
   "metadata": {},
   "outputs": [
    {
     "name": "stdout",
     "output_type": "stream",
     "text": [
      "Company\n",
      "Country\n",
      "Revenue( billinon $)\n"
     ]
    }
   ],
   "source": [
    "for i in range(1, max_col + 1):\n",
    "    cell_obj = sheet_obj.cell(row=1, column=i)\n",
    "    print(cell_obj.value)"
   ]
  },
  {
   "cell_type": "markdown",
   "id": "362ea0d5",
   "metadata": {},
   "source": [
    "### Print first column value"
   ]
  },
  {
   "cell_type": "code",
   "execution_count": 29,
   "id": "22b60d2f",
   "metadata": {},
   "outputs": [],
   "source": [
    "max_row = sheet_obj.max_row"
   ]
  },
  {
   "cell_type": "code",
   "execution_count": 30,
   "id": "6f06f11f",
   "metadata": {},
   "outputs": [
    {
     "name": "stdout",
     "output_type": "stream",
     "text": [
      "Company\n",
      "Walmart\n",
      "Apple\n",
      "Microsoft\n",
      "Trianz\n",
      "Flipkart\n"
     ]
    }
   ],
   "source": [
    "for i in range(1, max_row+1):\n",
    "    cell_obj = sheet_obj.cell(row =i, column= 1)\n",
    "    print(cell_obj.value)"
   ]
  },
  {
   "cell_type": "markdown",
   "id": "95f306b7",
   "metadata": {},
   "source": [
    "## Getting rows and column values through slicing"
   ]
  },
  {
   "cell_type": "code",
   "execution_count": 31,
   "id": "9960a5ae",
   "metadata": {},
   "outputs": [
    {
     "data": {
      "text/plain": [
       "((<Cell 'revenue'.A1>, <Cell 'revenue'.B1>, <Cell 'revenue'.C1>),\n",
       " (<Cell 'revenue'.A2>, <Cell 'revenue'.B2>, <Cell 'revenue'.C2>))"
      ]
     },
     "execution_count": 31,
     "metadata": {},
     "output_type": "execute_result"
    }
   ],
   "source": [
    "sheet_obj['A1':'C2']"
   ]
  },
  {
   "cell_type": "code",
   "execution_count": 32,
   "id": "d81f29e0",
   "metadata": {},
   "outputs": [
    {
     "name": "stdout",
     "output_type": "stream",
     "text": [
      "A1 Company\n",
      "B1 Country\n",
      "C1 Revenue( billinon $)\n",
      "---------------\n",
      "A2 Walmart\n",
      "B2 United States\n",
      "C2 514\n",
      "---------------\n"
     ]
    }
   ],
   "source": [
    "for rows in sheet_obj['A1':'C2']:\n",
    "    for cell in rows:\n",
    "        print(cell.coordinate, cell.value)\n",
    "        \n",
    "    print(\"-\"*15)"
   ]
  },
  {
   "cell_type": "markdown",
   "id": "98c8dd4d",
   "metadata": {},
   "source": [
    "### We can use `Worksheet.iter_rows()` or `Worksheet.iter_cols()` methos to access the values"
   ]
  },
  {
   "cell_type": "code",
   "execution_count": 33,
   "id": "dcecaab1",
   "metadata": {},
   "outputs": [
    {
     "name": "stdout",
     "output_type": "stream",
     "text": [
      "(<Cell 'revenue'.A1>, <Cell 'revenue'.B1>, <Cell 'revenue'.C1>)\n",
      "(<Cell 'revenue'.A2>, <Cell 'revenue'.B2>, <Cell 'revenue'.C2>)\n"
     ]
    }
   ],
   "source": [
    "for rows in sheet_obj.iter_rows(min_row=1,\n",
    "                               max_row=2,\n",
    "                               min_col=1,\n",
    "                               max_col=3):\n",
    "    print(rows)"
   ]
  },
  {
   "cell_type": "code",
   "execution_count": 34,
   "id": "3c889bcf",
   "metadata": {},
   "outputs": [
    {
     "name": "stdout",
     "output_type": "stream",
     "text": [
      "('Company', 'Country', 'Revenue( billinon $)')\n",
      "('Walmart', 'United States', '514')\n"
     ]
    }
   ],
   "source": [
    "for values in sheet_obj.iter_rows(min_row=1,\n",
    "                               max_row=2,\n",
    "                               min_col=1,\n",
    "                               max_col=3,\n",
    "                               values_only = True):          # values_only = True return on only value\n",
    "    print(values)                            # with iter we get in tuple format"
   ]
  },
  {
   "cell_type": "code",
   "execution_count": 35,
   "id": "6bc383bd",
   "metadata": {},
   "outputs": [
    {
     "name": "stdout",
     "output_type": "stream",
     "text": [
      "(<Cell 'revenue'.A1>, <Cell 'revenue'.A2>, <Cell 'revenue'.A3>)\n",
      "(<Cell 'revenue'.B1>, <Cell 'revenue'.B2>, <Cell 'revenue'.B3>)\n",
      "(<Cell 'revenue'.C1>, <Cell 'revenue'.C2>, <Cell 'revenue'.C3>)\n"
     ]
    }
   ],
   "source": [
    "for column in sheet_obj.iter_cols(min_row=1,\n",
    "                               max_row=3,\n",
    "                               min_col=1,\n",
    "                               max_col=3):\n",
    "    print(column)"
   ]
  },
  {
   "cell_type": "code",
   "execution_count": 36,
   "id": "42e4dcaf",
   "metadata": {},
   "outputs": [
    {
     "name": "stdout",
     "output_type": "stream",
     "text": [
      "('Company', 'Walmart', 'Apple')\n",
      "('Country', 'United States', 'United States')\n",
      "('Revenue( billinon $)', '514', '514')\n"
     ]
    }
   ],
   "source": [
    "for column in sheet_obj.iter_cols(min_row=1,\n",
    "                               max_row=3,\n",
    "                               min_col=1,\n",
    "                               max_col=3,\n",
    "                                 values_only = True):\n",
    "    print(column)"
   ]
  },
  {
   "cell_type": "code",
   "execution_count": 37,
   "id": "2519be24",
   "metadata": {},
   "outputs": [],
   "source": [
    "import json"
   ]
  },
  {
   "cell_type": "code",
   "execution_count": 38,
   "id": "404c6572",
   "metadata": {},
   "outputs": [],
   "source": [
    "revenue  = {}"
   ]
  },
  {
   "cell_type": "code",
   "execution_count": 39,
   "id": "f1d67208",
   "metadata": {},
   "outputs": [],
   "source": [
    "for rows in sheet_obj.iter_rows(min_row=2,\n",
    "                               max_row=4,\n",
    "                               min_col=1,\n",
    "                               max_col=3,\n",
    "                               values_only = True):\n",
    "    res = rows[0]\n",
    "    rev_details = {\n",
    "        \"Country\" : rows[1],\n",
    "        \"Revenue\" : rows[2]\n",
    "    }\n",
    "    revenue[res] = rev_details"
   ]
  },
  {
   "cell_type": "code",
   "execution_count": 40,
   "id": "41bd6189",
   "metadata": {},
   "outputs": [
    {
     "name": "stdout",
     "output_type": "stream",
     "text": [
      "{\n",
      "    \"Apple\": {\n",
      "        \"Country\": \"United States\",\n",
      "        \"Revenue\": \"514\"\n",
      "    },\n",
      "    \"Microsoft\": {\n",
      "        \"Country\": \"United States\",\n",
      "        \"Revenue\": \"514\"\n",
      "    },\n",
      "    \"Walmart\": {\n",
      "        \"Country\": \"United States\",\n",
      "        \"Revenue\": \"514\"\n",
      "    }\n",
      "}\n"
     ]
    }
   ],
   "source": [
    "print(json.dumps(revenue, indent=4, sort_keys= True))"
   ]
  },
  {
   "cell_type": "code",
   "execution_count": 41,
   "id": "42849ba1",
   "metadata": {},
   "outputs": [],
   "source": [
    "import openpyxl\n",
    "work_book = openpyxl.Workbook()"
   ]
  },
  {
   "cell_type": "code",
   "execution_count": 42,
   "id": "bfda37d9",
   "metadata": {},
   "outputs": [],
   "source": [
    "ws = work_book.active"
   ]
  },
  {
   "cell_type": "code",
   "execution_count": 43,
   "id": "aadd7165",
   "metadata": {},
   "outputs": [],
   "source": [
    "ws.title = 'NewSheet'"
   ]
  },
  {
   "cell_type": "code",
   "execution_count": 44,
   "id": "4ec49468",
   "metadata": {},
   "outputs": [],
   "source": [
    "ws['A1'] = 'Hello'\n",
    "ws['B2'] = 'World'"
   ]
  },
  {
   "cell_type": "code",
   "execution_count": 45,
   "id": "1307bff4",
   "metadata": {},
   "outputs": [
    {
     "data": {
      "text/plain": [
       "'Hello'"
      ]
     },
     "execution_count": 45,
     "metadata": {},
     "output_type": "execute_result"
    }
   ],
   "source": [
    "ws['A1'].value"
   ]
  },
  {
   "cell_type": "code",
   "execution_count": 46,
   "id": "ee143a5d",
   "metadata": {},
   "outputs": [],
   "source": [
    "work_book.save('brand_new_workbook.xlsx')"
   ]
  },
  {
   "cell_type": "code",
   "execution_count": 47,
   "id": "e6423d1d",
   "metadata": {},
   "outputs": [
    {
     "data": {
      "text/plain": [
       "'A1:B2'"
      ]
     },
     "execution_count": 47,
     "metadata": {},
     "output_type": "execute_result"
    }
   ],
   "source": [
    "ws.calculate_dimension()"
   ]
  },
  {
   "cell_type": "code",
   "execution_count": 48,
   "id": "abfce718",
   "metadata": {},
   "outputs": [
    {
     "data": {
      "text/plain": [
       "'A1:C6'"
      ]
     },
     "execution_count": 48,
     "metadata": {},
     "output_type": "execute_result"
    }
   ],
   "source": [
    "sheet_obj.calculate_dimension()"
   ]
  },
  {
   "cell_type": "code",
   "execution_count": 49,
   "id": "87581528",
   "metadata": {},
   "outputs": [],
   "source": [
    "ws.append(['one', 'two'])"
   ]
  },
  {
   "cell_type": "code",
   "execution_count": 50,
   "id": "5bafa3c5",
   "metadata": {},
   "outputs": [],
   "source": [
    "work_book.save('brand_new_workbook.xlsx')"
   ]
  },
  {
   "cell_type": "code",
   "execution_count": 51,
   "id": "a35835fe",
   "metadata": {},
   "outputs": [
    {
     "data": {
      "text/plain": [
       "'A1:B3'"
      ]
     },
     "execution_count": 51,
     "metadata": {},
     "output_type": "execute_result"
    }
   ],
   "source": [
    "ws.calculate_dimension()"
   ]
  },
  {
   "cell_type": "code",
   "execution_count": 52,
   "id": "a6c0c792",
   "metadata": {},
   "outputs": [],
   "source": [
    "ws.insert_rows(idx = 2, amount = 5)    # idx is position and amount number of rows"
   ]
  },
  {
   "cell_type": "code",
   "execution_count": 55,
   "id": "735db271",
   "metadata": {},
   "outputs": [],
   "source": [
    "ws.insert_cols(idx = 1)"
   ]
  },
  {
   "cell_type": "code",
   "execution_count": 56,
   "id": "e1d339e7",
   "metadata": {},
   "outputs": [
    {
     "data": {
      "text/plain": [
       "'B1:G8'"
      ]
     },
     "execution_count": 56,
     "metadata": {},
     "output_type": "execute_result"
    }
   ],
   "source": [
    "ws.calculate_dimension()"
   ]
  },
  {
   "cell_type": "code",
   "execution_count": 57,
   "id": "823ef291",
   "metadata": {},
   "outputs": [],
   "source": [
    "ws.delete_rows(idx= 2, amount= 1)"
   ]
  },
  {
   "cell_type": "code",
   "execution_count": 58,
   "id": "fc20231d",
   "metadata": {},
   "outputs": [
    {
     "data": {
      "text/plain": [
       "'A1:G7'"
      ]
     },
     "execution_count": 58,
     "metadata": {},
     "output_type": "execute_result"
    }
   ],
   "source": [
    "ws.calculate_dimension()"
   ]
  },
  {
   "cell_type": "code",
   "execution_count": 71,
   "id": "118103d0",
   "metadata": {},
   "outputs": [],
   "source": [
    "work_book.save('brand_new_workbook.xlsx')"
   ]
  },
  {
   "cell_type": "code",
   "execution_count": 67,
   "id": "2671c1e1",
   "metadata": {},
   "outputs": [],
   "source": [
    "work_book.active\n",
    "ws_newsheet = work_book.create_sheet('newsheet')\n"
   ]
  },
  {
   "cell_type": "code",
   "execution_count": 70,
   "id": "3af06d01",
   "metadata": {},
   "outputs": [],
   "source": [
    "ws_newsheet.title = 'newsheet'\n"
   ]
  },
  {
   "cell_type": "code",
   "execution_count": 72,
   "id": "fc18ba64",
   "metadata": {},
   "outputs": [],
   "source": [
    "data = [['planet','Radius', 'Distance from Sun (M Km)'],\n",
    "        ['Earth', 6371, 150],\n",
    "        ['Mars', 3389, 228],\n",
    "        ['Mercury', 2440,58]]"
   ]
  },
  {
   "cell_type": "code",
   "execution_count": 73,
   "id": "7bef9ce8",
   "metadata": {},
   "outputs": [],
   "source": [
    "planet_wb = openpyxl.Workbook()"
   ]
  },
  {
   "cell_type": "code",
   "execution_count": 74,
   "id": "08b5b0f8",
   "metadata": {},
   "outputs": [],
   "source": [
    "planet_sheet = planet_wb['Sheet']"
   ]
  },
  {
   "cell_type": "code",
   "execution_count": 75,
   "id": "370d8a0d",
   "metadata": {},
   "outputs": [],
   "source": [
    "planet_sheet.title = 'Planets'  #this will change sheet name"
   ]
  },
  {
   "cell_type": "code",
   "execution_count": 76,
   "id": "fd711d43",
   "metadata": {},
   "outputs": [],
   "source": [
    "for row in data:\n",
    "    planet_sheet.append(row)"
   ]
  },
  {
   "cell_type": "code",
   "execution_count": 77,
   "id": "de2dec71",
   "metadata": {},
   "outputs": [
    {
     "data": {
      "text/plain": [
       "'A1:C4'"
      ]
     },
     "execution_count": 77,
     "metadata": {},
     "output_type": "execute_result"
    }
   ],
   "source": [
    "planet_sheet.calculate_dimension()"
   ]
  },
  {
   "cell_type": "code",
   "execution_count": 79,
   "id": "5c96a424",
   "metadata": {},
   "outputs": [],
   "source": [
    "planet_wb.save('planets.xlsx')"
   ]
  },
  {
   "cell_type": "code",
   "execution_count": null,
   "id": "f40dd317",
   "metadata": {},
   "outputs": [],
   "source": []
  }
 ],
 "metadata": {
  "kernelspec": {
   "display_name": "Python 3 (ipykernel)",
   "language": "python",
   "name": "python3"
  },
  "language_info": {
   "codemirror_mode": {
    "name": "ipython",
    "version": 3
   },
   "file_extension": ".py",
   "mimetype": "text/x-python",
   "name": "python",
   "nbconvert_exporter": "python",
   "pygments_lexer": "ipython3",
   "version": "3.9.12"
  }
 },
 "nbformat": 4,
 "nbformat_minor": 5
}
