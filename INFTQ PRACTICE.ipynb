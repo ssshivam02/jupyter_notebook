{
 "cells": [
  {
   "cell_type": "markdown",
   "metadata": {},
   "source": [
    "#problem statement\n",
    "#Take inpt from user in the given format consit of name and code\n",
    "Find max digit from code which is less or equal to the lenght of string\n",
    "and put that place char in final string if there is no any digit found which not satisfy the condition that simply put X \n",
    ".\n",
    "\n",
    "#input: ABHISHEK:34848,MAYUR:4739,FREINDS:2949,YEARS:9898\n",
    "#OUTPUT: KUEX"
   ]
  },
  {
   "cell_type": "code",
   "execution_count": null,
   "metadata": {},
   "outputs": [],
   "source": [
    "input_string=input('consit of name and code')\n",
    "list_input=[]\n",
    "finalstr=''\n",
    "list_input=input_string.split(',')\n",
    "for i in list_input:\n",
    "    temp=i.split(':')\n",
    "    number=temp[1]\n",
    "    name=temp[0]\n",
    "    length=len(name)\n",
    "    max=0\n",
    "    for digit in number:\n",
    "        if ((int(digit))<=length):\n",
    "            if (max<int(digit)):\n",
    "                max=int(digit)\n",
    "    if (max==0):\n",
    "        finalstr+='X'\n",
    "        \n",
    "    else:\n",
    "        finalstr+=name[max-1]\n",
    "        \n",
    "print(finalstr)\n",
    "        \n",
    "    "
   ]
  },
  {
   "cell_type": "code",
   "execution_count": null,
   "metadata": {},
   "outputs": [],
   "source": []
  },
  {
   "cell_type": "code",
   "execution_count": null,
   "metadata": {},
   "outputs": [],
   "source": []
  }
 ],
 "metadata": {
  "kernelspec": {
   "display_name": "Python 3",
   "language": "python",
   "name": "python3"
  },
  "language_info": {
   "codemirror_mode": {
    "name": "ipython",
    "version": 3
   },
   "file_extension": ".py",
   "mimetype": "text/x-python",
   "name": "python",
   "nbconvert_exporter": "python",
   "pygments_lexer": "ipython3",
   "version": "3.7.3"
  }
 },
 "nbformat": 4,
 "nbformat_minor": 2
}
