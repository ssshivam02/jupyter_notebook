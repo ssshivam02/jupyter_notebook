{
 "cells": [
  {
   "cell_type": "code",
   "execution_count": 1,
   "id": "6eefb055",
   "metadata": {},
   "outputs": [],
   "source": [
    "import pymongo\n"
   ]
  },
  {
   "cell_type": "code",
   "execution_count": 2,
   "id": "0b3865e9",
   "metadata": {},
   "outputs": [],
   "source": [
    "from pymongo import MongoClient"
   ]
  },
  {
   "cell_type": "code",
   "execution_count": 3,
   "id": "d397e125",
   "metadata": {},
   "outputs": [],
   "source": [
    "\n",
    "my_client = MongoClient(\"mongodb://localhost:27017\")"
   ]
  },
  {
   "cell_type": "markdown",
   "id": "47853515",
   "metadata": {},
   "source": [
    "# Insert()"
   ]
  },
  {
   "cell_type": "code",
   "execution_count": 6,
   "id": "ef8b4727",
   "metadata": {},
   "outputs": [],
   "source": [
    "db = my_client[\"my_store\"]"
   ]
  },
  {
   "cell_type": "code",
   "execution_count": 7,
   "id": "19568df1",
   "metadata": {},
   "outputs": [],
   "source": [
    "product_col = db['products']"
   ]
  },
  {
   "cell_type": "code",
   "execution_count": 8,
   "id": "6bb6b3b7",
   "metadata": {},
   "outputs": [],
   "source": [
    "bag = {\"name\": \"Bag\", \"Price\": 23.78}"
   ]
  },
  {
   "cell_type": "code",
   "execution_count": 14,
   "id": "add0c7a4",
   "metadata": {},
   "outputs": [
    {
     "data": {
      "text/plain": [
       "<pymongo.results.InsertOneResult at 0x281b6445e50>"
      ]
     },
     "execution_count": 14,
     "metadata": {},
     "output_type": "execute_result"
    }
   ],
   "source": [
    "insert_res = product_col.insert_one(bag)\n",
    "insert_res"
   ]
  },
  {
   "cell_type": "code",
   "execution_count": 16,
   "id": "91651ade",
   "metadata": {},
   "outputs": [],
   "source": [
    "pen = {\"name\": \"pen\", \"price\" : 25}\n",
    "pencil = {\"name\" : \"pencil\", \"price\" : 10}\n",
    "\n",
    "insert_res = product_col.insert_many([pen,pencil])\n"
   ]
  },
  {
   "cell_type": "code",
   "execution_count": 17,
   "id": "5c3a8071",
   "metadata": {},
   "outputs": [
    {
     "data": {
      "text/plain": [
       "<pymongo.results.InsertManyResult at 0x281b6e0ff10>"
      ]
     },
     "execution_count": 17,
     "metadata": {},
     "output_type": "execute_result"
    }
   ],
   "source": [
    "insert_res"
   ]
  },
  {
   "cell_type": "code",
   "execution_count": 18,
   "id": "8065df94",
   "metadata": {},
   "outputs": [
    {
     "name": "stdout",
     "output_type": "stream",
     "text": [
      "True\n",
      "[ObjectId('6435167b659d3d1eeeb6e4d5'), ObjectId('6435167b659d3d1eeeb6e4d6')]\n"
     ]
    }
   ],
   "source": [
    "print(insert_res.acknowledged)\n",
    "print(insert_res.inserted_ids)"
   ]
  },
  {
   "cell_type": "code",
   "execution_count": 19,
   "id": "b707b432",
   "metadata": {},
   "outputs": [
    {
     "ename": "DuplicateKeyError",
     "evalue": "E11000 duplicate key error collection: my_store.products index: _id_ dup key: { _id: ObjectId('6435159d659d3d1eeeb6e4d4') }, full error: {'index': 0, 'code': 11000, 'errmsg': \"E11000 duplicate key error collection: my_store.products index: _id_ dup key: { _id: ObjectId('6435159d659d3d1eeeb6e4d4') }\", 'keyPattern': {'_id': 1}, 'keyValue': {'_id': ObjectId('6435159d659d3d1eeeb6e4d4')}}",
     "output_type": "error",
     "traceback": [
      "\u001b[1;31m---------------------------------------------------------------------------\u001b[0m",
      "\u001b[1;31mDuplicateKeyError\u001b[0m                         Traceback (most recent call last)",
      "Input \u001b[1;32mIn [19]\u001b[0m, in \u001b[0;36m<cell line: 1>\u001b[1;34m()\u001b[0m\n\u001b[1;32m----> 1\u001b[0m insert_res \u001b[38;5;241m=\u001b[39m \u001b[43mproduct_col\u001b[49m\u001b[38;5;241;43m.\u001b[39;49m\u001b[43minsert_one\u001b[49m\u001b[43m(\u001b[49m\u001b[43mbag\u001b[49m\u001b[43m)\u001b[49m\n",
      "File \u001b[1;32m~\\anaconda3\\lib\\site-packages\\pymongo\\collection.py:628\u001b[0m, in \u001b[0;36mCollection.insert_one\u001b[1;34m(self, document, bypass_document_validation, session, comment)\u001b[0m\n\u001b[0;32m    624\u001b[0m     document[\u001b[38;5;124m\"\u001b[39m\u001b[38;5;124m_id\u001b[39m\u001b[38;5;124m\"\u001b[39m] \u001b[38;5;241m=\u001b[39m ObjectId()  \u001b[38;5;66;03m# type: ignore[index]\u001b[39;00m\n\u001b[0;32m    626\u001b[0m write_concern \u001b[38;5;241m=\u001b[39m \u001b[38;5;28mself\u001b[39m\u001b[38;5;241m.\u001b[39m_write_concern_for(session)\n\u001b[0;32m    627\u001b[0m \u001b[38;5;28;01mreturn\u001b[39;00m InsertOneResult(\n\u001b[1;32m--> 628\u001b[0m     \u001b[38;5;28;43mself\u001b[39;49m\u001b[38;5;241;43m.\u001b[39;49m\u001b[43m_insert_one\u001b[49m\u001b[43m(\u001b[49m\n\u001b[0;32m    629\u001b[0m \u001b[43m        \u001b[49m\u001b[43mdocument\u001b[49m\u001b[43m,\u001b[49m\n\u001b[0;32m    630\u001b[0m \u001b[43m        \u001b[49m\u001b[43mordered\u001b[49m\u001b[38;5;241;43m=\u001b[39;49m\u001b[38;5;28;43;01mTrue\u001b[39;49;00m\u001b[43m,\u001b[49m\n\u001b[0;32m    631\u001b[0m \u001b[43m        \u001b[49m\u001b[43mwrite_concern\u001b[49m\u001b[38;5;241;43m=\u001b[39;49m\u001b[43mwrite_concern\u001b[49m\u001b[43m,\u001b[49m\n\u001b[0;32m    632\u001b[0m \u001b[43m        \u001b[49m\u001b[43mop_id\u001b[49m\u001b[38;5;241;43m=\u001b[39;49m\u001b[38;5;28;43;01mNone\u001b[39;49;00m\u001b[43m,\u001b[49m\n\u001b[0;32m    633\u001b[0m \u001b[43m        \u001b[49m\u001b[43mbypass_doc_val\u001b[49m\u001b[38;5;241;43m=\u001b[39;49m\u001b[43mbypass_document_validation\u001b[49m\u001b[43m,\u001b[49m\n\u001b[0;32m    634\u001b[0m \u001b[43m        \u001b[49m\u001b[43msession\u001b[49m\u001b[38;5;241;43m=\u001b[39;49m\u001b[43msession\u001b[49m\u001b[43m,\u001b[49m\n\u001b[0;32m    635\u001b[0m \u001b[43m        \u001b[49m\u001b[43mcomment\u001b[49m\u001b[38;5;241;43m=\u001b[39;49m\u001b[43mcomment\u001b[49m\u001b[43m,\u001b[49m\n\u001b[0;32m    636\u001b[0m \u001b[43m    \u001b[49m\u001b[43m)\u001b[49m,\n\u001b[0;32m    637\u001b[0m     write_concern\u001b[38;5;241m.\u001b[39macknowledged,\n\u001b[0;32m    638\u001b[0m )\n",
      "File \u001b[1;32m~\\anaconda3\\lib\\site-packages\\pymongo\\collection.py:569\u001b[0m, in \u001b[0;36mCollection._insert_one\u001b[1;34m(self, doc, ordered, write_concern, op_id, bypass_doc_val, session, comment)\u001b[0m\n\u001b[0;32m    557\u001b[0m     result \u001b[38;5;241m=\u001b[39m sock_info\u001b[38;5;241m.\u001b[39mcommand(\n\u001b[0;32m    558\u001b[0m         \u001b[38;5;28mself\u001b[39m\u001b[38;5;241m.\u001b[39m__database\u001b[38;5;241m.\u001b[39mname,\n\u001b[0;32m    559\u001b[0m         command,\n\u001b[1;32m   (...)\u001b[0m\n\u001b[0;32m    564\u001b[0m         retryable_write\u001b[38;5;241m=\u001b[39mretryable_write,\n\u001b[0;32m    565\u001b[0m     )\n\u001b[0;32m    567\u001b[0m     _check_write_command_response(result)\n\u001b[1;32m--> 569\u001b[0m \u001b[38;5;28;43mself\u001b[39;49m\u001b[38;5;241;43m.\u001b[39;49m\u001b[43m__database\u001b[49m\u001b[38;5;241;43m.\u001b[39;49m\u001b[43mclient\u001b[49m\u001b[38;5;241;43m.\u001b[39;49m\u001b[43m_retryable_write\u001b[49m\u001b[43m(\u001b[49m\u001b[43macknowledged\u001b[49m\u001b[43m,\u001b[49m\u001b[43m \u001b[49m\u001b[43m_insert_command\u001b[49m\u001b[43m,\u001b[49m\u001b[43m \u001b[49m\u001b[43msession\u001b[49m\u001b[43m)\u001b[49m\n\u001b[0;32m    571\u001b[0m \u001b[38;5;28;01mif\u001b[39;00m \u001b[38;5;129;01mnot\u001b[39;00m \u001b[38;5;28misinstance\u001b[39m(doc, RawBSONDocument):\n\u001b[0;32m    572\u001b[0m     \u001b[38;5;28;01mreturn\u001b[39;00m doc\u001b[38;5;241m.\u001b[39mget(\u001b[38;5;124m\"\u001b[39m\u001b[38;5;124m_id\u001b[39m\u001b[38;5;124m\"\u001b[39m)\n",
      "File \u001b[1;32m~\\anaconda3\\lib\\site-packages\\pymongo\\mongo_client.py:1476\u001b[0m, in \u001b[0;36mMongoClient._retryable_write\u001b[1;34m(self, retryable, func, session)\u001b[0m\n\u001b[0;32m   1474\u001b[0m \u001b[38;5;124;03m\"\"\"Internal retryable write helper.\"\"\"\u001b[39;00m\n\u001b[0;32m   1475\u001b[0m \u001b[38;5;28;01mwith\u001b[39;00m \u001b[38;5;28mself\u001b[39m\u001b[38;5;241m.\u001b[39m_tmp_session(session) \u001b[38;5;28;01mas\u001b[39;00m s:\n\u001b[1;32m-> 1476\u001b[0m     \u001b[38;5;28;01mreturn\u001b[39;00m \u001b[38;5;28;43mself\u001b[39;49m\u001b[38;5;241;43m.\u001b[39;49m\u001b[43m_retry_with_session\u001b[49m\u001b[43m(\u001b[49m\u001b[43mretryable\u001b[49m\u001b[43m,\u001b[49m\u001b[43m \u001b[49m\u001b[43mfunc\u001b[49m\u001b[43m,\u001b[49m\u001b[43m \u001b[49m\u001b[43ms\u001b[49m\u001b[43m,\u001b[49m\u001b[43m \u001b[49m\u001b[38;5;28;43;01mNone\u001b[39;49;00m\u001b[43m)\u001b[49m\n",
      "File \u001b[1;32m~\\anaconda3\\lib\\site-packages\\pymongo\\mongo_client.py:1349\u001b[0m, in \u001b[0;36mMongoClient._retry_with_session\u001b[1;34m(self, retryable, func, session, bulk)\u001b[0m\n\u001b[0;32m   1339\u001b[0m \u001b[38;5;124;03m\"\"\"Execute an operation with at most one consecutive retries\u001b[39;00m\n\u001b[0;32m   1340\u001b[0m \n\u001b[0;32m   1341\u001b[0m \u001b[38;5;124;03mReturns func()'s return value on success. On error retries the same\u001b[39;00m\n\u001b[1;32m   (...)\u001b[0m\n\u001b[0;32m   1344\u001b[0m \u001b[38;5;124;03mRe-raises any exception thrown by func().\u001b[39;00m\n\u001b[0;32m   1345\u001b[0m \u001b[38;5;124;03m\"\"\"\u001b[39;00m\n\u001b[0;32m   1346\u001b[0m retryable \u001b[38;5;241m=\u001b[39m (\n\u001b[0;32m   1347\u001b[0m     retryable \u001b[38;5;129;01mand\u001b[39;00m \u001b[38;5;28mself\u001b[39m\u001b[38;5;241m.\u001b[39moptions\u001b[38;5;241m.\u001b[39mretry_writes \u001b[38;5;129;01mand\u001b[39;00m session \u001b[38;5;129;01mand\u001b[39;00m \u001b[38;5;129;01mnot\u001b[39;00m session\u001b[38;5;241m.\u001b[39min_transaction\n\u001b[0;32m   1348\u001b[0m )\n\u001b[1;32m-> 1349\u001b[0m \u001b[38;5;28;01mreturn\u001b[39;00m \u001b[38;5;28;43mself\u001b[39;49m\u001b[38;5;241;43m.\u001b[39;49m\u001b[43m_retry_internal\u001b[49m\u001b[43m(\u001b[49m\u001b[43mretryable\u001b[49m\u001b[43m,\u001b[49m\u001b[43m \u001b[49m\u001b[43mfunc\u001b[49m\u001b[43m,\u001b[49m\u001b[43m \u001b[49m\u001b[43msession\u001b[49m\u001b[43m,\u001b[49m\u001b[43m \u001b[49m\u001b[43mbulk\u001b[49m\u001b[43m)\u001b[49m\n",
      "File \u001b[1;32m~\\anaconda3\\lib\\site-packages\\pymongo\\_csot.py:105\u001b[0m, in \u001b[0;36mapply.<locals>.csot_wrapper\u001b[1;34m(self, *args, **kwargs)\u001b[0m\n\u001b[0;32m    103\u001b[0m         \u001b[38;5;28;01mwith\u001b[39;00m _TimeoutContext(timeout):\n\u001b[0;32m    104\u001b[0m             \u001b[38;5;28;01mreturn\u001b[39;00m func(\u001b[38;5;28mself\u001b[39m, \u001b[38;5;241m*\u001b[39margs, \u001b[38;5;241m*\u001b[39m\u001b[38;5;241m*\u001b[39mkwargs)\n\u001b[1;32m--> 105\u001b[0m \u001b[38;5;28;01mreturn\u001b[39;00m func(\u001b[38;5;28mself\u001b[39m, \u001b[38;5;241m*\u001b[39margs, \u001b[38;5;241m*\u001b[39m\u001b[38;5;241m*\u001b[39mkwargs)\n",
      "File \u001b[1;32m~\\anaconda3\\lib\\site-packages\\pymongo\\mongo_client.py:1390\u001b[0m, in \u001b[0;36mMongoClient._retry_internal\u001b[1;34m(self, retryable, func, session, bulk)\u001b[0m\n\u001b[0;32m   1388\u001b[0m                 \u001b[38;5;28;01mraise\u001b[39;00m last_error\n\u001b[0;32m   1389\u001b[0m             retryable \u001b[38;5;241m=\u001b[39m \u001b[38;5;28;01mFalse\u001b[39;00m\n\u001b[1;32m-> 1390\u001b[0m         \u001b[38;5;28;01mreturn\u001b[39;00m \u001b[43mfunc\u001b[49m\u001b[43m(\u001b[49m\u001b[43msession\u001b[49m\u001b[43m,\u001b[49m\u001b[43m \u001b[49m\u001b[43msock_info\u001b[49m\u001b[43m,\u001b[49m\u001b[43m \u001b[49m\u001b[43mretryable\u001b[49m\u001b[43m)\u001b[49m\n\u001b[0;32m   1391\u001b[0m \u001b[38;5;28;01mexcept\u001b[39;00m ServerSelectionTimeoutError:\n\u001b[0;32m   1392\u001b[0m     \u001b[38;5;28;01mif\u001b[39;00m is_retrying():\n\u001b[0;32m   1393\u001b[0m         \u001b[38;5;66;03m# The application may think the write was never attempted\u001b[39;00m\n\u001b[0;32m   1394\u001b[0m         \u001b[38;5;66;03m# if we raise ServerSelectionTimeoutError on the retry\u001b[39;00m\n\u001b[0;32m   1395\u001b[0m         \u001b[38;5;66;03m# attempt. Raise the original exception instead.\u001b[39;00m\n",
      "File \u001b[1;32m~\\anaconda3\\lib\\site-packages\\pymongo\\collection.py:567\u001b[0m, in \u001b[0;36mCollection._insert_one.<locals>._insert_command\u001b[1;34m(session, sock_info, retryable_write)\u001b[0m\n\u001b[0;32m    555\u001b[0m     command[\u001b[38;5;124m\"\u001b[39m\u001b[38;5;124mbypassDocumentValidation\u001b[39m\u001b[38;5;124m\"\u001b[39m] \u001b[38;5;241m=\u001b[39m \u001b[38;5;28;01mTrue\u001b[39;00m\n\u001b[0;32m    557\u001b[0m result \u001b[38;5;241m=\u001b[39m sock_info\u001b[38;5;241m.\u001b[39mcommand(\n\u001b[0;32m    558\u001b[0m     \u001b[38;5;28mself\u001b[39m\u001b[38;5;241m.\u001b[39m__database\u001b[38;5;241m.\u001b[39mname,\n\u001b[0;32m    559\u001b[0m     command,\n\u001b[1;32m   (...)\u001b[0m\n\u001b[0;32m    564\u001b[0m     retryable_write\u001b[38;5;241m=\u001b[39mretryable_write,\n\u001b[0;32m    565\u001b[0m )\n\u001b[1;32m--> 567\u001b[0m \u001b[43m_check_write_command_response\u001b[49m\u001b[43m(\u001b[49m\u001b[43mresult\u001b[49m\u001b[43m)\u001b[49m\n",
      "File \u001b[1;32m~\\anaconda3\\lib\\site-packages\\pymongo\\helpers.py:217\u001b[0m, in \u001b[0;36m_check_write_command_response\u001b[1;34m(result)\u001b[0m\n\u001b[0;32m    215\u001b[0m write_errors \u001b[38;5;241m=\u001b[39m result\u001b[38;5;241m.\u001b[39mget(\u001b[38;5;124m\"\u001b[39m\u001b[38;5;124mwriteErrors\u001b[39m\u001b[38;5;124m\"\u001b[39m)\n\u001b[0;32m    216\u001b[0m \u001b[38;5;28;01mif\u001b[39;00m write_errors:\n\u001b[1;32m--> 217\u001b[0m     \u001b[43m_raise_last_write_error\u001b[49m\u001b[43m(\u001b[49m\u001b[43mwrite_errors\u001b[49m\u001b[43m)\u001b[49m\n\u001b[0;32m    219\u001b[0m wce \u001b[38;5;241m=\u001b[39m _get_wce_doc(result)\n\u001b[0;32m    220\u001b[0m \u001b[38;5;28;01mif\u001b[39;00m wce:\n",
      "File \u001b[1;32m~\\anaconda3\\lib\\site-packages\\pymongo\\helpers.py:189\u001b[0m, in \u001b[0;36m_raise_last_write_error\u001b[1;34m(write_errors)\u001b[0m\n\u001b[0;32m    187\u001b[0m error \u001b[38;5;241m=\u001b[39m write_errors[\u001b[38;5;241m-\u001b[39m\u001b[38;5;241m1\u001b[39m]\n\u001b[0;32m    188\u001b[0m \u001b[38;5;28;01mif\u001b[39;00m error\u001b[38;5;241m.\u001b[39mget(\u001b[38;5;124m\"\u001b[39m\u001b[38;5;124mcode\u001b[39m\u001b[38;5;124m\"\u001b[39m) \u001b[38;5;241m==\u001b[39m \u001b[38;5;241m11000\u001b[39m:\n\u001b[1;32m--> 189\u001b[0m     \u001b[38;5;28;01mraise\u001b[39;00m DuplicateKeyError(error\u001b[38;5;241m.\u001b[39mget(\u001b[38;5;124m\"\u001b[39m\u001b[38;5;124merrmsg\u001b[39m\u001b[38;5;124m\"\u001b[39m), \u001b[38;5;241m11000\u001b[39m, error)\n\u001b[0;32m    190\u001b[0m \u001b[38;5;28;01mraise\u001b[39;00m WriteError(error\u001b[38;5;241m.\u001b[39mget(\u001b[38;5;124m\"\u001b[39m\u001b[38;5;124merrmsg\u001b[39m\u001b[38;5;124m\"\u001b[39m), error\u001b[38;5;241m.\u001b[39mget(\u001b[38;5;124m\"\u001b[39m\u001b[38;5;124mcode\u001b[39m\u001b[38;5;124m\"\u001b[39m), error)\n",
      "\u001b[1;31mDuplicateKeyError\u001b[0m: E11000 duplicate key error collection: my_store.products index: _id_ dup key: { _id: ObjectId('6435159d659d3d1eeeb6e4d4') }, full error: {'index': 0, 'code': 11000, 'errmsg': \"E11000 duplicate key error collection: my_store.products index: _id_ dup key: { _id: ObjectId('6435159d659d3d1eeeb6e4d4') }\", 'keyPattern': {'_id': 1}, 'keyValue': {'_id': ObjectId('6435159d659d3d1eeeb6e4d4')}}"
     ]
    }
   ],
   "source": [
    "insert_res = product_col.insert_one(bag)\n"
   ]
  },
  {
   "cell_type": "code",
   "execution_count": 20,
   "id": "b3b8aec2",
   "metadata": {},
   "outputs": [
    {
     "name": "stdout",
     "output_type": "stream",
     "text": [
      "Dupliactes Entry detected E11000 duplicate key error collection: my_store.products index: _id_ dup key: { _id: ObjectId('6435159d659d3d1eeeb6e4d4') }, full error: {'index': 0, 'code': 11000, 'errmsg': \"E11000 duplicate key error collection: my_store.products index: _id_ dup key: { _id: ObjectId('6435159d659d3d1eeeb6e4d4') }\", 'keyPattern': {'_id': 1}, 'keyValue': {'_id': ObjectId('6435159d659d3d1eeeb6e4d4')}}\n"
     ]
    }
   ],
   "source": [
    "try:\n",
    "    insert_res = product_col.insert_one(bag)\n",
    "except pymongo.errors.DuplicateKeyError as err:\n",
    "    print(f\"Dupliactes Entry detected {err}\")"
   ]
  },
  {
   "cell_type": "code",
   "execution_count": 21,
   "id": "0a7a3c0e",
   "metadata": {},
   "outputs": [
    {
     "ename": "BulkWriteError",
     "evalue": "batch op errors occurred, full error: {'writeErrors': [{'index': 0, 'code': 11000, 'errmsg': \"E11000 duplicate key error collection: my_store.products index: _id_ dup key: { _id: ObjectId('6435167b659d3d1eeeb6e4d5') }\", 'keyPattern': {'_id': 1}, 'keyValue': {'_id': ObjectId('6435167b659d3d1eeeb6e4d5')}, 'op': {'name': 'pen', 'price': 25, '_id': ObjectId('6435167b659d3d1eeeb6e4d5')}}], 'writeConcernErrors': [], 'nInserted': 0, 'nUpserted': 0, 'nMatched': 0, 'nModified': 0, 'nRemoved': 0, 'upserted': []}",
     "output_type": "error",
     "traceback": [
      "\u001b[1;31m---------------------------------------------------------------------------\u001b[0m",
      "\u001b[1;31mBulkWriteError\u001b[0m                            Traceback (most recent call last)",
      "Input \u001b[1;32mIn [21]\u001b[0m, in \u001b[0;36m<cell line: 1>\u001b[1;34m()\u001b[0m\n\u001b[1;32m----> 1\u001b[0m insert_res \u001b[38;5;241m=\u001b[39m \u001b[43mproduct_col\u001b[49m\u001b[38;5;241;43m.\u001b[39;49m\u001b[43minsert_many\u001b[49m\u001b[43m(\u001b[49m\u001b[43m[\u001b[49m\u001b[43mpen\u001b[49m\u001b[43m,\u001b[49m\u001b[43mpencil\u001b[49m\u001b[43m]\u001b[49m\u001b[43m)\u001b[49m\n",
      "File \u001b[1;32m~\\anaconda3\\lib\\site-packages\\pymongo\\_csot.py:105\u001b[0m, in \u001b[0;36mapply.<locals>.csot_wrapper\u001b[1;34m(self, *args, **kwargs)\u001b[0m\n\u001b[0;32m    103\u001b[0m         \u001b[38;5;28;01mwith\u001b[39;00m _TimeoutContext(timeout):\n\u001b[0;32m    104\u001b[0m             \u001b[38;5;28;01mreturn\u001b[39;00m func(\u001b[38;5;28mself\u001b[39m, \u001b[38;5;241m*\u001b[39margs, \u001b[38;5;241m*\u001b[39m\u001b[38;5;241m*\u001b[39mkwargs)\n\u001b[1;32m--> 105\u001b[0m \u001b[38;5;28;01mreturn\u001b[39;00m func(\u001b[38;5;28mself\u001b[39m, \u001b[38;5;241m*\u001b[39margs, \u001b[38;5;241m*\u001b[39m\u001b[38;5;241m*\u001b[39mkwargs)\n",
      "File \u001b[1;32m~\\anaconda3\\lib\\site-packages\\pymongo\\collection.py:714\u001b[0m, in \u001b[0;36mCollection.insert_many\u001b[1;34m(self, documents, ordered, bypass_document_validation, session, comment)\u001b[0m\n\u001b[0;32m    712\u001b[0m blk \u001b[38;5;241m=\u001b[39m _Bulk(\u001b[38;5;28mself\u001b[39m, ordered, bypass_document_validation, comment\u001b[38;5;241m=\u001b[39mcomment)\n\u001b[0;32m    713\u001b[0m blk\u001b[38;5;241m.\u001b[39mops \u001b[38;5;241m=\u001b[39m [doc \u001b[38;5;28;01mfor\u001b[39;00m doc \u001b[38;5;129;01min\u001b[39;00m gen()]\n\u001b[1;32m--> 714\u001b[0m \u001b[43mblk\u001b[49m\u001b[38;5;241;43m.\u001b[39;49m\u001b[43mexecute\u001b[49m\u001b[43m(\u001b[49m\u001b[43mwrite_concern\u001b[49m\u001b[43m,\u001b[49m\u001b[43m \u001b[49m\u001b[43msession\u001b[49m\u001b[38;5;241;43m=\u001b[39;49m\u001b[43msession\u001b[49m\u001b[43m)\u001b[49m\n\u001b[0;32m    715\u001b[0m \u001b[38;5;28;01mreturn\u001b[39;00m InsertManyResult(inserted_ids, write_concern\u001b[38;5;241m.\u001b[39macknowledged)\n",
      "File \u001b[1;32m~\\anaconda3\\lib\\site-packages\\pymongo\\bulk.py:513\u001b[0m, in \u001b[0;36m_Bulk.execute\u001b[1;34m(self, write_concern, session)\u001b[0m\n\u001b[0;32m    511\u001b[0m         \u001b[38;5;28mself\u001b[39m\u001b[38;5;241m.\u001b[39mexecute_no_results(sock_info, generator, write_concern)\n\u001b[0;32m    512\u001b[0m \u001b[38;5;28;01melse\u001b[39;00m:\n\u001b[1;32m--> 513\u001b[0m     \u001b[38;5;28;01mreturn\u001b[39;00m \u001b[38;5;28;43mself\u001b[39;49m\u001b[38;5;241;43m.\u001b[39;49m\u001b[43mexecute_command\u001b[49m\u001b[43m(\u001b[49m\u001b[43mgenerator\u001b[49m\u001b[43m,\u001b[49m\u001b[43m \u001b[49m\u001b[43mwrite_concern\u001b[49m\u001b[43m,\u001b[49m\u001b[43m \u001b[49m\u001b[43msession\u001b[49m\u001b[43m)\u001b[49m\n",
      "File \u001b[1;32m~\\anaconda3\\lib\\site-packages\\pymongo\\bulk.py:394\u001b[0m, in \u001b[0;36m_Bulk.execute_command\u001b[1;34m(self, generator, write_concern, session)\u001b[0m\n\u001b[0;32m    391\u001b[0m     client\u001b[38;5;241m.\u001b[39m_retry_with_session(\u001b[38;5;28mself\u001b[39m\u001b[38;5;241m.\u001b[39mis_retryable, retryable_bulk, s, \u001b[38;5;28mself\u001b[39m)\n\u001b[0;32m    393\u001b[0m \u001b[38;5;28;01mif\u001b[39;00m full_result[\u001b[38;5;124m\"\u001b[39m\u001b[38;5;124mwriteErrors\u001b[39m\u001b[38;5;124m\"\u001b[39m] \u001b[38;5;129;01mor\u001b[39;00m full_result[\u001b[38;5;124m\"\u001b[39m\u001b[38;5;124mwriteConcernErrors\u001b[39m\u001b[38;5;124m\"\u001b[39m]:\n\u001b[1;32m--> 394\u001b[0m     \u001b[43m_raise_bulk_write_error\u001b[49m\u001b[43m(\u001b[49m\u001b[43mfull_result\u001b[49m\u001b[43m)\u001b[49m\n\u001b[0;32m    395\u001b[0m \u001b[38;5;28;01mreturn\u001b[39;00m full_result\n",
      "File \u001b[1;32m~\\anaconda3\\lib\\site-packages\\pymongo\\bulk.py:136\u001b[0m, in \u001b[0;36m_raise_bulk_write_error\u001b[1;34m(full_result)\u001b[0m\n\u001b[0;32m    134\u001b[0m \u001b[38;5;28;01mif\u001b[39;00m full_result[\u001b[38;5;124m\"\u001b[39m\u001b[38;5;124mwriteErrors\u001b[39m\u001b[38;5;124m\"\u001b[39m]:\n\u001b[0;32m    135\u001b[0m     full_result[\u001b[38;5;124m\"\u001b[39m\u001b[38;5;124mwriteErrors\u001b[39m\u001b[38;5;124m\"\u001b[39m]\u001b[38;5;241m.\u001b[39msort(key\u001b[38;5;241m=\u001b[39m\u001b[38;5;28;01mlambda\u001b[39;00m error: error[\u001b[38;5;124m\"\u001b[39m\u001b[38;5;124mindex\u001b[39m\u001b[38;5;124m\"\u001b[39m])\n\u001b[1;32m--> 136\u001b[0m \u001b[38;5;28;01mraise\u001b[39;00m BulkWriteError(full_result)\n",
      "\u001b[1;31mBulkWriteError\u001b[0m: batch op errors occurred, full error: {'writeErrors': [{'index': 0, 'code': 11000, 'errmsg': \"E11000 duplicate key error collection: my_store.products index: _id_ dup key: { _id: ObjectId('6435167b659d3d1eeeb6e4d5') }\", 'keyPattern': {'_id': 1}, 'keyValue': {'_id': ObjectId('6435167b659d3d1eeeb6e4d5')}, 'op': {'name': 'pen', 'price': 25, '_id': ObjectId('6435167b659d3d1eeeb6e4d5')}}], 'writeConcernErrors': [], 'nInserted': 0, 'nUpserted': 0, 'nMatched': 0, 'nModified': 0, 'nRemoved': 0, 'upserted': []}"
     ]
    }
   ],
   "source": [
    "insert_res = product_col.insert_many([pen,pencil])\n"
   ]
  },
  {
   "cell_type": "code",
   "execution_count": 22,
   "id": "c5ebf36a",
   "metadata": {},
   "outputs": [
    {
     "name": "stdout",
     "output_type": "stream",
     "text": [
      "Bulk Entry Detected batch op errors occurred, full error: {'writeErrors': [{'index': 0, 'code': 11000, 'errmsg': \"E11000 duplicate key error collection: my_store.products index: _id_ dup key: { _id: ObjectId('6435167b659d3d1eeeb6e4d5') }\", 'keyPattern': {'_id': 1}, 'keyValue': {'_id': ObjectId('6435167b659d3d1eeeb6e4d5')}, 'op': {'name': 'pen', 'price': 25, '_id': ObjectId('6435167b659d3d1eeeb6e4d5')}}], 'writeConcernErrors': [], 'nInserted': 0, 'nUpserted': 0, 'nMatched': 0, 'nModified': 0, 'nRemoved': 0, 'upserted': []}\n"
     ]
    }
   ],
   "source": [
    "try:\n",
    "    insert_res = product_col.insert_many([pen,pencil])\n",
    "except pymongo.errors.BulkWriteError as err:\n",
    "    print(f\"Bulk Entry Detected {err}\")"
   ]
  },
  {
   "cell_type": "code",
   "execution_count": 35,
   "id": "74f52927",
   "metadata": {},
   "outputs": [
    {
     "name": "stdout",
     "output_type": "stream",
     "text": [
      "Bulk Entry Detected batch op errors occurred, full error: {'writeErrors': [{'index': 1, 'code': 11000, 'errmsg': \"E11000 duplicate key error collection: my_store.products index: _id_ dup key: { _id: ObjectId('6435167b659d3d1eeeb6e4d6') }\", 'keyPattern': {'_id': 1}, 'keyValue': {'_id': ObjectId('6435167b659d3d1eeeb6e4d6')}, 'op': {'name': 'pencil', 'price': 10, '_id': ObjectId('6435167b659d3d1eeeb6e4d6')}}], 'writeConcernErrors': [], 'nInserted': 1, 'nUpserted': 0, 'nMatched': 0, 'nModified': 0, 'nRemoved': 0, 'upserted': []}\n"
     ]
    }
   ],
   "source": [
    "# this will give error but mug will successfully inserted\n",
    "mug = {\"name\": \"mug\", \"price\":5}\n",
    "try:\n",
    "    insert_res = product_col.insert_many([mug,pencil])\n",
    "except pymongo.errors.BulkWriteError as err:\n",
    "    print(f\"Bulk Entry Detected {err}\")"
   ]
  },
  {
   "cell_type": "markdown",
   "id": "df7b71cf",
   "metadata": {},
   "source": [
    "# Find and Cursor"
   ]
  },
  {
   "cell_type": "code",
   "execution_count": 38,
   "id": "67e8edc9",
   "metadata": {},
   "outputs": [
    {
     "name": "stdout",
     "output_type": "stream",
     "text": [
      "{'_id': ObjectId('6435159d659d3d1eeeb6e4d4'), 'name': 'Bag', 'Price': 23.78}\n"
     ]
    }
   ],
   "source": [
    "print(product_col.find_one())"
   ]
  },
  {
   "cell_type": "code",
   "execution_count": 42,
   "id": "2a6e7704",
   "metadata": {},
   "outputs": [
    {
     "name": "stdout",
     "output_type": "stream",
     "text": [
      "{'_id': ObjectId('643519e9659d3d1eeeb6e4d7'), 'name': 'mug', 'price': 5}\n"
     ]
    }
   ],
   "source": [
    "print(product_col.find_one({\"name\" :\"mug\"}))"
   ]
  },
  {
   "cell_type": "code",
   "execution_count": 43,
   "id": "bf5b5fc0",
   "metadata": {},
   "outputs": [],
   "source": [
    "res_mug = product_col.find_one({\"name\": \"mug\"})\n",
    "\n"
   ]
  },
  {
   "cell_type": "code",
   "execution_count": 44,
   "id": "cc70956b",
   "metadata": {},
   "outputs": [
    {
     "name": "stdout",
     "output_type": "stream",
     "text": [
      "mug\n"
     ]
    }
   ],
   "source": [
    "print(res_mug[\"name\"])"
   ]
  },
  {
   "cell_type": "code",
   "execution_count": 45,
   "id": "7497c2af",
   "metadata": {},
   "outputs": [
    {
     "name": "stdout",
     "output_type": "stream",
     "text": [
      "643519e9659d3d1eeeb6e4d7\n"
     ]
    }
   ],
   "source": [
    "print(res_mug[\"_id\"])"
   ]
  },
  {
   "cell_type": "code",
   "execution_count": 50,
   "id": "f5901018",
   "metadata": {},
   "outputs": [
    {
     "name": "stdout",
     "output_type": "stream",
     "text": [
      "{'_id': ObjectId('643519e9659d3d1eeeb6e4d7'), 'name': 'mug', 'price': 5}\n"
     ]
    }
   ],
   "source": [
    "# for multiple entry we use find with for loop\n",
    "import pprint\n",
    "pprint.pprint(res_mug)"
   ]
  },
  {
   "cell_type": "code",
   "execution_count": 54,
   "id": "ccdc6855",
   "metadata": {},
   "outputs": [
    {
     "data": {
      "text/plain": [
       "<pymongo.cursor.Cursor at 0x281b6aaffa0>"
      ]
     },
     "execution_count": 54,
     "metadata": {},
     "output_type": "execute_result"
    }
   ],
   "source": [
    "product_col.find({\"name\": \"mug\"})"
   ]
  },
  {
   "cell_type": "code",
   "execution_count": 74,
   "id": "c8eb91b9",
   "metadata": {},
   "outputs": [],
   "source": [
    "# multiple entries are done by cursor\n",
    "mug_all_res = product_col.find({\"name\": \"mug\"})"
   ]
  },
  {
   "cell_type": "code",
   "execution_count": 75,
   "id": "8c32a9e9",
   "metadata": {},
   "outputs": [
    {
     "name": "stdout",
     "output_type": "stream",
     "text": [
      "{'_id': ObjectId('643519e9659d3d1eeeb6e4d7'), 'name': 'mug', 'price': 5}\n",
      "{'_id': ObjectId('64351a0e659d3d1eeeb6e4d8'), 'name': 'mug', 'price': 5}\n",
      "{'_id': ObjectId('64351a32659d3d1eeeb6e4d9'), 'name': 'mug', 'price': 5}\n",
      "{'_id': ObjectId('64351a39659d3d1eeeb6e4da'), 'name': 'mug', 'price': 5}\n",
      "{'_id': ObjectId('64351a57659d3d1eeeb6e4db'), 'name': 'mug', 'price': 5}\n",
      "{'_id': ObjectId('64351a74659d3d1eeeb6e4dc'), 'name': 'mug', 'price': 5}\n",
      "{'_id': ObjectId('64351a7a659d3d1eeeb6e4dd'), 'name': 'mug', 'price': 5}\n",
      "{'_id': ObjectId('64351aae659d3d1eeeb6e4de'), 'name': 'mug', 'price': 5}\n",
      "{'_id': ObjectId('64351acb659d3d1eeeb6e4df'), 'name': 'mug', 'price': 5}\n",
      "{'_id': ObjectId('64351acf659d3d1eeeb6e4e0'), 'name': 'mug', 'price': 5}\n",
      "{'_id': ObjectId('64351af9659d3d1eeeb6e4e1'), 'name': 'mug', 'price': 5}\n",
      "{'_id': ObjectId('64351b0d659d3d1eeeb6e4e2'), 'name': 'mug', 'price': 5}\n"
     ]
    }
   ],
   "source": [
    "for documnet in mug_all_res:\n",
    "    pprint.pprint(documnet)"
   ]
  },
  {
   "cell_type": "code",
   "execution_count": 76,
   "id": "c68afa26",
   "metadata": {},
   "outputs": [],
   "source": [
    "for documnet in mug_all_res:\n",
    "    pprint.pprint(documnet)"
   ]
  },
  {
   "cell_type": "code",
   "execution_count": 77,
   "id": "e30dc2a9",
   "metadata": {},
   "outputs": [],
   "source": [
    "# mug_all_res work as cursor and cursor got deleted after one run after processing of one time cursor got deleted"
   ]
  },
  {
   "cell_type": "code",
   "execution_count": 78,
   "id": "3b6db754",
   "metadata": {},
   "outputs": [
    {
     "data": {
      "text/plain": [
       "False"
      ]
     },
     "execution_count": 78,
     "metadata": {},
     "output_type": "execute_result"
    }
   ],
   "source": [
    "mug_all_res.alive"
   ]
  },
  {
   "cell_type": "code",
   "execution_count": 79,
   "id": "1e898388",
   "metadata": {},
   "outputs": [
    {
     "ename": "StopIteration",
     "evalue": "",
     "output_type": "error",
     "traceback": [
      "\u001b[1;31m---------------------------------------------------------------------------\u001b[0m",
      "\u001b[1;31mStopIteration\u001b[0m                             Traceback (most recent call last)",
      "Input \u001b[1;32mIn [79]\u001b[0m, in \u001b[0;36m<cell line: 1>\u001b[1;34m()\u001b[0m\n\u001b[1;32m----> 1\u001b[0m \u001b[43mmug_all_res\u001b[49m\u001b[38;5;241;43m.\u001b[39;49m\u001b[43mnext\u001b[49m\u001b[43m(\u001b[49m\u001b[43m)\u001b[49m\n",
      "File \u001b[1;32m~\\anaconda3\\lib\\site-packages\\pymongo\\cursor.py:1251\u001b[0m, in \u001b[0;36mCursor.next\u001b[1;34m(self)\u001b[0m\n\u001b[0;32m   1249\u001b[0m     \u001b[38;5;28;01mreturn\u001b[39;00m \u001b[38;5;28mself\u001b[39m\u001b[38;5;241m.\u001b[39m__data\u001b[38;5;241m.\u001b[39mpopleft()\n\u001b[0;32m   1250\u001b[0m \u001b[38;5;28;01melse\u001b[39;00m:\n\u001b[1;32m-> 1251\u001b[0m     \u001b[38;5;28;01mraise\u001b[39;00m \u001b[38;5;167;01mStopIteration\u001b[39;00m\n",
      "\u001b[1;31mStopIteration\u001b[0m: "
     ]
    }
   ],
   "source": [
    "mug_all_res.next()"
   ]
  },
  {
   "cell_type": "code",
   "execution_count": null,
   "id": "904c42d7",
   "metadata": {},
   "outputs": [],
   "source": []
  },
  {
   "cell_type": "markdown",
   "id": "6ec93516",
   "metadata": {},
   "source": [
    "# sort()"
   ]
  },
  {
   "cell_type": "code",
   "execution_count": 91,
   "id": "6baa0992",
   "metadata": {},
   "outputs": [
    {
     "name": "stdout",
     "output_type": "stream",
     "text": [
      "{'_id': ObjectId('6435159d659d3d1eeeb6e4d4'), 'name': 'Bag', 'Price': 23.78}\n",
      "{'_id': ObjectId('643519e9659d3d1eeeb6e4d7'), 'name': 'mug', 'price': 5}\n",
      "{'_id': ObjectId('64351a0e659d3d1eeeb6e4d8'), 'name': 'mug', 'price': 5}\n",
      "{'_id': ObjectId('64351a32659d3d1eeeb6e4d9'), 'name': 'mug', 'price': 5}\n",
      "{'_id': ObjectId('64351a39659d3d1eeeb6e4da'), 'name': 'mug', 'price': 5}\n",
      "{'_id': ObjectId('64351a57659d3d1eeeb6e4db'), 'name': 'mug', 'price': 5}\n",
      "{'_id': ObjectId('64351a74659d3d1eeeb6e4dc'), 'name': 'mug', 'price': 5}\n",
      "{'_id': ObjectId('64351a7a659d3d1eeeb6e4dd'), 'name': 'mug', 'price': 5}\n",
      "{'_id': ObjectId('64351aae659d3d1eeeb6e4de'), 'name': 'mug', 'price': 5}\n",
      "{'_id': ObjectId('64351acb659d3d1eeeb6e4df'), 'name': 'mug', 'price': 5}\n",
      "{'_id': ObjectId('64351acf659d3d1eeeb6e4e0'), 'name': 'mug', 'price': 5}\n",
      "{'_id': ObjectId('64351af9659d3d1eeeb6e4e1'), 'name': 'mug', 'price': 5}\n",
      "{'_id': ObjectId('64351b0d659d3d1eeeb6e4e2'), 'name': 'mug', 'price': 5}\n",
      "{'_id': ObjectId('6435167b659d3d1eeeb6e4d6'), 'name': 'pencil', 'price': 10}\n",
      "{'_id': ObjectId('6435167b659d3d1eeeb6e4d5'), 'name': 'pen', 'price': 25}\n"
     ]
    }
   ],
   "source": [
    "for doucment1 in product_col.find({}).sort(\"price\", pymongo.ASCENDING):\n",
    "    print(doucment1)"
   ]
  },
  {
   "cell_type": "code",
   "execution_count": 92,
   "id": "c6fe8695",
   "metadata": {},
   "outputs": [
    {
     "name": "stdout",
     "output_type": "stream",
     "text": [
      "{'_id': ObjectId('6435167b659d3d1eeeb6e4d5'), 'name': 'pen', 'price': 25}\n",
      "{'_id': ObjectId('6435167b659d3d1eeeb6e4d6'), 'name': 'pencil', 'price': 10}\n",
      "{'_id': ObjectId('643519e9659d3d1eeeb6e4d7'), 'name': 'mug', 'price': 5}\n",
      "{'_id': ObjectId('64351a0e659d3d1eeeb6e4d8'), 'name': 'mug', 'price': 5}\n",
      "{'_id': ObjectId('64351a32659d3d1eeeb6e4d9'), 'name': 'mug', 'price': 5}\n",
      "{'_id': ObjectId('64351a39659d3d1eeeb6e4da'), 'name': 'mug', 'price': 5}\n",
      "{'_id': ObjectId('64351a57659d3d1eeeb6e4db'), 'name': 'mug', 'price': 5}\n",
      "{'_id': ObjectId('64351a74659d3d1eeeb6e4dc'), 'name': 'mug', 'price': 5}\n",
      "{'_id': ObjectId('64351a7a659d3d1eeeb6e4dd'), 'name': 'mug', 'price': 5}\n",
      "{'_id': ObjectId('64351aae659d3d1eeeb6e4de'), 'name': 'mug', 'price': 5}\n",
      "{'_id': ObjectId('64351acb659d3d1eeeb6e4df'), 'name': 'mug', 'price': 5}\n",
      "{'_id': ObjectId('64351acf659d3d1eeeb6e4e0'), 'name': 'mug', 'price': 5}\n",
      "{'_id': ObjectId('64351af9659d3d1eeeb6e4e1'), 'name': 'mug', 'price': 5}\n",
      "{'_id': ObjectId('64351b0d659d3d1eeeb6e4e2'), 'name': 'mug', 'price': 5}\n",
      "{'_id': ObjectId('6435159d659d3d1eeeb6e4d4'), 'name': 'Bag', 'Price': 23.78}\n"
     ]
    }
   ],
   "source": [
    "for doucment1 in product_col.find({}).sort(\"price\", pymongo.DESCENDING):\n",
    "    print(doucment1)"
   ]
  },
  {
   "cell_type": "code",
   "execution_count": 93,
   "id": "474b4788",
   "metadata": {},
   "outputs": [
    {
     "data": {
      "text/plain": [
       "1"
      ]
     },
     "execution_count": 93,
     "metadata": {},
     "output_type": "execute_result"
    }
   ],
   "source": [
    "pymongo.ASCENDING"
   ]
  },
  {
   "cell_type": "code",
   "execution_count": 94,
   "id": "b0f897c7",
   "metadata": {},
   "outputs": [
    {
     "data": {
      "text/plain": [
       "-1"
      ]
     },
     "execution_count": 94,
     "metadata": {},
     "output_type": "execute_result"
    }
   ],
   "source": [
    "pymongo.DESCENDING"
   ]
  },
  {
   "cell_type": "code",
   "execution_count": 96,
   "id": "58c2d082",
   "metadata": {},
   "outputs": [
    {
     "name": "stdout",
     "output_type": "stream",
     "text": [
      "{'_id': ObjectId('6435159d659d3d1eeeb6e4d4'), 'name': 'Bag', 'Price': 23.78}\n",
      "{'_id': ObjectId('643519e9659d3d1eeeb6e4d7'), 'name': 'mug', 'price': 5}\n",
      "{'_id': ObjectId('64351a0e659d3d1eeeb6e4d8'), 'name': 'mug', 'price': 5}\n",
      "{'_id': ObjectId('64351a32659d3d1eeeb6e4d9'), 'name': 'mug', 'price': 5}\n",
      "{'_id': ObjectId('64351a39659d3d1eeeb6e4da'), 'name': 'mug', 'price': 5}\n",
      "{'_id': ObjectId('64351a57659d3d1eeeb6e4db'), 'name': 'mug', 'price': 5}\n",
      "{'_id': ObjectId('64351a74659d3d1eeeb6e4dc'), 'name': 'mug', 'price': 5}\n",
      "{'_id': ObjectId('64351a7a659d3d1eeeb6e4dd'), 'name': 'mug', 'price': 5}\n",
      "{'_id': ObjectId('64351aae659d3d1eeeb6e4de'), 'name': 'mug', 'price': 5}\n",
      "{'_id': ObjectId('64351acb659d3d1eeeb6e4df'), 'name': 'mug', 'price': 5}\n",
      "{'_id': ObjectId('64351acf659d3d1eeeb6e4e0'), 'name': 'mug', 'price': 5}\n",
      "{'_id': ObjectId('64351af9659d3d1eeeb6e4e1'), 'name': 'mug', 'price': 5}\n",
      "{'_id': ObjectId('64351b0d659d3d1eeeb6e4e2'), 'name': 'mug', 'price': 5}\n",
      "{'_id': ObjectId('6435167b659d3d1eeeb6e4d6'), 'name': 'pencil', 'price': 10}\n",
      "{'_id': ObjectId('6435167b659d3d1eeeb6e4d5'), 'name': 'pen', 'price': 25}\n"
     ]
    }
   ],
   "source": [
    "# pymongo.ASCENDING is replaced by 1\n",
    "for doucment1 in product_col.find({}).sort(\"price\", 1):\n",
    "    print(doucment1)"
   ]
  },
  {
   "cell_type": "code",
   "execution_count": 104,
   "id": "5875dc31",
   "metadata": {},
   "outputs": [
    {
     "name": "stdout",
     "output_type": "stream",
     "text": [
      "{'_id': ObjectId('6435159d659d3d1eeeb6e4d4'), 'name': 'Bag', 'Price': 23.78}\n",
      "{'_id': ObjectId('643519e9659d3d1eeeb6e4d7'), 'name': 'mug', 'price': 5}\n",
      "{'_id': ObjectId('64351a0e659d3d1eeeb6e4d8'), 'name': 'mug', 'price': 5}\n",
      "{'_id': ObjectId('64351a32659d3d1eeeb6e4d9'), 'name': 'mug', 'price': 5}\n",
      "{'_id': ObjectId('64351a39659d3d1eeeb6e4da'), 'name': 'mug', 'price': 5}\n",
      "{'_id': ObjectId('64351a57659d3d1eeeb6e4db'), 'name': 'mug', 'price': 5}\n",
      "{'_id': ObjectId('64351a74659d3d1eeeb6e4dc'), 'name': 'mug', 'price': 5}\n",
      "{'_id': ObjectId('64351a7a659d3d1eeeb6e4dd'), 'name': 'mug', 'price': 5}\n",
      "{'_id': ObjectId('64351aae659d3d1eeeb6e4de'), 'name': 'mug', 'price': 5}\n",
      "{'_id': ObjectId('64351acb659d3d1eeeb6e4df'), 'name': 'mug', 'price': 5}\n",
      "{'_id': ObjectId('64351acf659d3d1eeeb6e4e0'), 'name': 'mug', 'price': 5}\n",
      "{'_id': ObjectId('64351af9659d3d1eeeb6e4e1'), 'name': 'mug', 'price': 5}\n",
      "{'_id': ObjectId('64351b0d659d3d1eeeb6e4e2'), 'name': 'mug', 'price': 5}\n",
      "{'_id': ObjectId('6435167b659d3d1eeeb6e4d6'), 'name': 'pencil', 'price': 10}\n",
      "{'_id': ObjectId('6435167b659d3d1eeeb6e4d5'), 'name': 'pen', 'price': 25}\n"
     ]
    }
   ],
   "source": [
    "# We Specific sort on basis of when two value is same\n",
    "\n",
    "for doucment1 in product_col.find({}).sort([(\"price\",1), (\"_id\", pymongo.ASCENDING)]):\n",
    "    print(doucment1)"
   ]
  },
  {
   "cell_type": "code",
   "execution_count": 105,
   "id": "80fd9401",
   "metadata": {},
   "outputs": [
    {
     "name": "stdout",
     "output_type": "stream",
     "text": [
      "{'_id': ObjectId('64351b0d659d3d1eeeb6e4e2'), 'name': 'mug', 'price': 5}\n",
      "{'_id': ObjectId('64351af9659d3d1eeeb6e4e1'), 'name': 'mug', 'price': 5}\n",
      "{'_id': ObjectId('64351acf659d3d1eeeb6e4e0'), 'name': 'mug', 'price': 5}\n",
      "{'_id': ObjectId('64351acb659d3d1eeeb6e4df'), 'name': 'mug', 'price': 5}\n",
      "{'_id': ObjectId('64351aae659d3d1eeeb6e4de'), 'name': 'mug', 'price': 5}\n",
      "{'_id': ObjectId('64351a7a659d3d1eeeb6e4dd'), 'name': 'mug', 'price': 5}\n",
      "{'_id': ObjectId('64351a74659d3d1eeeb6e4dc'), 'name': 'mug', 'price': 5}\n",
      "{'_id': ObjectId('64351a57659d3d1eeeb6e4db'), 'name': 'mug', 'price': 5}\n",
      "{'_id': ObjectId('64351a39659d3d1eeeb6e4da'), 'name': 'mug', 'price': 5}\n",
      "{'_id': ObjectId('64351a32659d3d1eeeb6e4d9'), 'name': 'mug', 'price': 5}\n",
      "{'_id': ObjectId('64351a0e659d3d1eeeb6e4d8'), 'name': 'mug', 'price': 5}\n",
      "{'_id': ObjectId('643519e9659d3d1eeeb6e4d7'), 'name': 'mug', 'price': 5}\n",
      "{'_id': ObjectId('6435167b659d3d1eeeb6e4d6'), 'name': 'pencil', 'price': 10}\n",
      "{'_id': ObjectId('6435167b659d3d1eeeb6e4d5'), 'name': 'pen', 'price': 25}\n",
      "{'_id': ObjectId('6435159d659d3d1eeeb6e4d4'), 'name': 'Bag', 'Price': 23.78}\n"
     ]
    }
   ],
   "source": [
    "\n",
    "for doucment1 in product_col.find({}).sort([(\"_id\", -1),(\"price\",1)]):\n",
    "    print(doucment1)"
   ]
  },
  {
   "cell_type": "markdown",
   "id": "b7ba2c8b",
   "metadata": {},
   "source": [
    "   # skip() and limit()\n",
    "   "
   ]
  },
  {
   "cell_type": "code",
   "execution_count": 107,
   "id": "d55d163a",
   "metadata": {},
   "outputs": [
    {
     "name": "stdout",
     "output_type": "stream",
     "text": [
      "{'_id': ObjectId('6435159d659d3d1eeeb6e4d4'), 'name': 'Bag', 'Price': 23.78}\n",
      "{'_id': ObjectId('6435167b659d3d1eeeb6e4d5'), 'name': 'pen', 'price': 25}\n",
      "{'_id': ObjectId('6435167b659d3d1eeeb6e4d6'), 'name': 'pencil', 'price': 10}\n",
      "{'_id': ObjectId('643519e9659d3d1eeeb6e4d7'), 'name': 'mug', 'price': 5}\n",
      "{'_id': ObjectId('64351a0e659d3d1eeeb6e4d8'), 'name': 'mug', 'price': 5}\n"
     ]
    }
   ],
   "source": [
    "# limit starting 5 enteries\n",
    "for doucment1 in product_col.find({}).limit(5):\n",
    "    print(doucment1)"
   ]
  },
  {
   "cell_type": "code",
   "execution_count": 109,
   "id": "a1167abe",
   "metadata": {},
   "outputs": [
    {
     "name": "stdout",
     "output_type": "stream",
     "text": [
      "{'_id': ObjectId('64351a57659d3d1eeeb6e4db'), 'name': 'mug', 'price': 5}\n",
      "{'_id': ObjectId('64351a74659d3d1eeeb6e4dc'), 'name': 'mug', 'price': 5}\n",
      "{'_id': ObjectId('64351a7a659d3d1eeeb6e4dd'), 'name': 'mug', 'price': 5}\n",
      "{'_id': ObjectId('64351aae659d3d1eeeb6e4de'), 'name': 'mug', 'price': 5}\n",
      "{'_id': ObjectId('64351acb659d3d1eeeb6e4df'), 'name': 'mug', 'price': 5}\n",
      "{'_id': ObjectId('64351acf659d3d1eeeb6e4e0'), 'name': 'mug', 'price': 5}\n",
      "{'_id': ObjectId('64351af9659d3d1eeeb6e4e1'), 'name': 'mug', 'price': 5}\n",
      "{'_id': ObjectId('64351b0d659d3d1eeeb6e4e2'), 'name': 'mug', 'price': 5}\n",
      "{'_id': ObjectId('6435167b659d3d1eeeb6e4d5'), 'name': 'pen', 'price': 25}\n",
      "{'_id': ObjectId('6435167b659d3d1eeeb6e4d6'), 'name': 'pencil', 'price': 10}\n"
     ]
    }
   ],
   "source": [
    "for doucment1 in product_col.find({}).skip(5).sort(\"name\",1):\n",
    "    print(doucment1)"
   ]
  },
  {
   "cell_type": "code",
   "execution_count": 117,
   "id": "561386f3",
   "metadata": {},
   "outputs": [
    {
     "name": "stdout",
     "output_type": "stream",
     "text": [
      "\n",
      "-----Page 1-----\n",
      "{'_id': ObjectId('6435159d659d3d1eeeb6e4d4'), 'name': 'Bag', 'Price': 23.78}\n",
      "{'_id': ObjectId('6435167b659d3d1eeeb6e4d5'), 'name': 'pen', 'price': 25}\n",
      "{'_id': ObjectId('6435167b659d3d1eeeb6e4d6'), 'name': 'pencil', 'price': 10}\n",
      "{'_id': ObjectId('643519e9659d3d1eeeb6e4d7'), 'name': 'mug', 'price': 5}\n",
      "{'_id': ObjectId('64351a0e659d3d1eeeb6e4d8'), 'name': 'mug', 'price': 5}\n",
      "\n",
      "-----Page 2-----\n",
      "{'_id': ObjectId('64351a32659d3d1eeeb6e4d9'), 'name': 'mug', 'price': 5}\n",
      "{'_id': ObjectId('64351a39659d3d1eeeb6e4da'), 'name': 'mug', 'price': 5}\n",
      "{'_id': ObjectId('64351a57659d3d1eeeb6e4db'), 'name': 'mug', 'price': 5}\n",
      "{'_id': ObjectId('64351a74659d3d1eeeb6e4dc'), 'name': 'mug', 'price': 5}\n",
      "{'_id': ObjectId('64351a7a659d3d1eeeb6e4dd'), 'name': 'mug', 'price': 5}\n",
      "\n",
      "-----Page 3-----\n",
      "{'_id': ObjectId('64351aae659d3d1eeeb6e4de'), 'name': 'mug', 'price': 5}\n",
      "{'_id': ObjectId('64351acb659d3d1eeeb6e4df'), 'name': 'mug', 'price': 5}\n",
      "{'_id': ObjectId('64351acf659d3d1eeeb6e4e0'), 'name': 'mug', 'price': 5}\n",
      "{'_id': ObjectId('64351af9659d3d1eeeb6e4e1'), 'name': 'mug', 'price': 5}\n",
      "{'_id': ObjectId('64351b0d659d3d1eeeb6e4e2'), 'name': 'mug', 'price': 5}\n"
     ]
    }
   ],
   "source": [
    "# limit the page entry\n",
    "page_item_limit = 5\n",
    "\n",
    "for page_num in [1,2,3]:\n",
    "    print(f\"\\n-----Page {page_num}-----\")\n",
    "    for documnet in product_col.find({}).skip((page_num-1)*page_item_limit).limit(page_item_limit):\n",
    "          print(documnet)"
   ]
  },
  {
   "cell_type": "markdown",
   "id": "556fddd2",
   "metadata": {},
   "source": [
    "# cursor.count() vs collection.count_documents()"
   ]
  },
  {
   "cell_type": "code",
   "execution_count": 118,
   "id": "5633573a",
   "metadata": {},
   "outputs": [],
   "source": [
    "find_query_filter = {\"name\": \"mug\" }\n",
    "\n",
    "find_cursor = product_col.find(find_query_filter)"
   ]
  },
  {
   "cell_type": "code",
   "execution_count": 121,
   "id": "c5db9264",
   "metadata": {},
   "outputs": [
    {
     "ename": "AttributeError",
     "evalue": "'Cursor' object has no attribute 'count'",
     "output_type": "error",
     "traceback": [
      "\u001b[1;31m---------------------------------------------------------------------------\u001b[0m",
      "\u001b[1;31mAttributeError\u001b[0m                            Traceback (most recent call last)",
      "Input \u001b[1;32mIn [121]\u001b[0m, in \u001b[0;36m<cell line: 2>\u001b[1;34m()\u001b[0m\n\u001b[0;32m      1\u001b[0m \u001b[38;5;66;03m# .count is removed from new version\u001b[39;00m\n\u001b[1;32m----> 2\u001b[0m \u001b[43mfind_cursor\u001b[49m\u001b[38;5;241;43m.\u001b[39;49m\u001b[43mcount\u001b[49m()\n",
      "\u001b[1;31mAttributeError\u001b[0m: 'Cursor' object has no attribute 'count'"
     ]
    }
   ],
   "source": [
    "# .count is removed from new version\n",
    "find_cursor.count()"
   ]
  },
  {
   "cell_type": "code",
   "execution_count": 123,
   "id": "45ce4113",
   "metadata": {},
   "outputs": [
    {
     "data": {
      "text/plain": [
       "12"
      ]
     },
     "execution_count": 123,
     "metadata": {},
     "output_type": "execute_result"
    }
   ],
   "source": [
    "product_col.count_documents(find_query_filter)"
   ]
  },
  {
   "cell_type": "markdown",
   "id": "34eec96f",
   "metadata": {},
   "source": [
    "# distinct()"
   ]
  },
  {
   "cell_type": "code",
   "execution_count": 136,
   "id": "789e5c44",
   "metadata": {},
   "outputs": [],
   "source": [
    "products_cursor1 = product_col.find()"
   ]
  },
  {
   "cell_type": "code",
   "execution_count": 138,
   "id": "4087e7f2",
   "metadata": {},
   "outputs": [
    {
     "data": {
      "text/plain": [
       "[23.78]"
      ]
     },
     "execution_count": 138,
     "metadata": {},
     "output_type": "execute_result"
    }
   ],
   "source": [
    "products_cursor1.distinct(\"Price\")"
   ]
  },
  {
   "cell_type": "code",
   "execution_count": 139,
   "id": "eddfdf9a",
   "metadata": {},
   "outputs": [
    {
     "data": {
      "text/plain": [
       "[ObjectId('6435159d659d3d1eeeb6e4d4'),\n",
       " ObjectId('6435167b659d3d1eeeb6e4d5'),\n",
       " ObjectId('6435167b659d3d1eeeb6e4d6'),\n",
       " ObjectId('643519e9659d3d1eeeb6e4d7'),\n",
       " ObjectId('64351a0e659d3d1eeeb6e4d8'),\n",
       " ObjectId('64351a32659d3d1eeeb6e4d9'),\n",
       " ObjectId('64351a39659d3d1eeeb6e4da'),\n",
       " ObjectId('64351a57659d3d1eeeb6e4db'),\n",
       " ObjectId('64351a74659d3d1eeeb6e4dc'),\n",
       " ObjectId('64351a7a659d3d1eeeb6e4dd'),\n",
       " ObjectId('64351aae659d3d1eeeb6e4de'),\n",
       " ObjectId('64351acb659d3d1eeeb6e4df'),\n",
       " ObjectId('64351acf659d3d1eeeb6e4e0'),\n",
       " ObjectId('64351af9659d3d1eeeb6e4e1'),\n",
       " ObjectId('64351b0d659d3d1eeeb6e4e2')]"
      ]
     },
     "execution_count": 139,
     "metadata": {},
     "output_type": "execute_result"
    }
   ],
   "source": [
    "products_cursor2 = product_col.find()\n",
    "products_cursor2.distinct(\"_id\")\n"
   ]
  },
  {
   "cell_type": "code",
   "execution_count": 140,
   "id": "42e895ba",
   "metadata": {},
   "outputs": [
    {
     "data": {
      "text/plain": [
       "['Bag', 'mug', 'pen', 'pencil']"
      ]
     },
     "execution_count": 140,
     "metadata": {},
     "output_type": "execute_result"
    }
   ],
   "source": [
    "products_cursor3 = product_col.find()\n",
    "products_cursor3.distinct(\"name\")"
   ]
  },
  {
   "cell_type": "code",
   "execution_count": 141,
   "id": "c699b1fe",
   "metadata": {},
   "outputs": [
    {
     "data": {
      "text/plain": [
       "[5, 10, 25]"
      ]
     },
     "execution_count": 141,
     "metadata": {},
     "output_type": "execute_result"
    }
   ],
   "source": [
    "\n",
    "products_cursor4 = product_col.find()\n",
    "products_cursor4.distinct('price')"
   ]
  },
  {
   "cell_type": "code",
   "execution_count": 146,
   "id": "015ab754",
   "metadata": {},
   "outputs": [],
   "source": [
    "all_count = product_col.count_documents({})"
   ]
  },
  {
   "cell_type": "code",
   "execution_count": 147,
   "id": "93661a9e",
   "metadata": {},
   "outputs": [
    {
     "name": "stdout",
     "output_type": "stream",
     "text": [
      "15\n"
     ]
    }
   ],
   "source": [
    "print(all_count)"
   ]
  },
  {
   "cell_type": "markdown",
   "id": "eab698af",
   "metadata": {},
   "source": [
    "# Projection"
   ]
  },
  {
   "cell_type": "code",
   "execution_count": 171,
   "id": "823bf4bb",
   "metadata": {},
   "outputs": [
    {
     "name": "stdout",
     "output_type": "stream",
     "text": [
      "{'price': 5}\n",
      "{'price': 5}\n",
      "{'price': 5}\n",
      "{'price': 5}\n",
      "{'price': 5}\n",
      "{'price': 5}\n",
      "{'price': 5}\n",
      "{'price': 5}\n",
      "{'price': 5}\n",
      "{'price': 5}\n",
      "{'price': 5}\n",
      "{'price': 5}\n"
     ]
    }
   ],
   "source": [
    "# removing not important field\n",
    "# only give price\n",
    "find_projection_cursor = product_col.find({'name': 'mug'}, {'_id':0,'price':1})\n",
    "for doc in find_projection_cursor:\n",
    "    print(doc)"
   ]
  },
  {
   "cell_type": "code",
   "execution_count": 167,
   "id": "4485ed41",
   "metadata": {},
   "outputs": [],
   "source": [
    "# Cannot do exclusion on field name in inclusion projection-- > error\n",
    "find_projection_cursor = product_col.find({'name': 'pen'}, {'price':1,'name':0}) "
   ]
  },
  {
   "cell_type": "code",
   "execution_count": 169,
   "id": "fd43c151",
   "metadata": {},
   "outputs": [
    {
     "name": "stdout",
     "output_type": "stream",
     "text": [
      "<pymongo.cursor.Cursor object at 0x00000281B82FD6A0>\n"
     ]
    }
   ],
   "source": [
    "print(find_projection_cursor)"
   ]
  },
  {
   "cell_type": "code",
   "execution_count": 181,
   "id": "e246d776",
   "metadata": {},
   "outputs": [
    {
     "name": "stdout",
     "output_type": "stream",
     "text": [
      "{'_id': ObjectId('643519e9659d3d1eeeb6e4d7'), 'price': 5}\n",
      "{'_id': ObjectId('64351a0e659d3d1eeeb6e4d8'), 'price': 5}\n",
      "{'_id': ObjectId('64351a32659d3d1eeeb6e4d9'), 'price': 5}\n",
      "{'_id': ObjectId('64351a39659d3d1eeeb6e4da'), 'price': 5}\n",
      "{'_id': ObjectId('64351a57659d3d1eeeb6e4db'), 'price': 5}\n",
      "{'_id': ObjectId('64351a74659d3d1eeeb6e4dc'), 'price': 5}\n",
      "{'_id': ObjectId('64351a7a659d3d1eeeb6e4dd'), 'price': 5}\n",
      "{'_id': ObjectId('64351aae659d3d1eeeb6e4de'), 'price': 5}\n",
      "{'_id': ObjectId('64351acb659d3d1eeeb6e4df'), 'price': 5}\n",
      "{'_id': ObjectId('64351acf659d3d1eeeb6e4e0'), 'price': 5}\n",
      "{'_id': ObjectId('64351af9659d3d1eeeb6e4e1'), 'price': 5}\n",
      "{'_id': ObjectId('64351b0d659d3d1eeeb6e4e2'), 'price': 5}\n"
     ]
    }
   ],
   "source": [
    "# {' key1' : 0, key2: 1} this give error because this is behave as exculsion projection\n",
    "# {' key1' : 1, key2: 0} this give error because this is behave as inclusion projection for _id both are safe\n",
    "find_projection_cursor = product_col.find({'name':'mug'}, {'price':1})\n",
    "for doc in find_projection_cursor:\n",
    "    print(doc)"
   ]
  },
  {
   "cell_type": "code",
   "execution_count": null,
   "id": "180c3ed8",
   "metadata": {},
   "outputs": [],
   "source": []
  }
 ],
 "metadata": {
  "kernelspec": {
   "display_name": "Python 3 (ipykernel)",
   "language": "python",
   "name": "python3"
  },
  "language_info": {
   "codemirror_mode": {
    "name": "ipython",
    "version": 3
   },
   "file_extension": ".py",
   "mimetype": "text/x-python",
   "name": "python",
   "nbconvert_exporter": "python",
   "pygments_lexer": "ipython3",
   "version": "3.9.12"
  }
 },
 "nbformat": 4,
 "nbformat_minor": 5
}
