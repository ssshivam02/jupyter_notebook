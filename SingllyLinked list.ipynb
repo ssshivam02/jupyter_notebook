{
 "cells": [
  {
   "cell_type": "code",
   "execution_count": 1,
   "metadata": {},
   "outputs": [],
   "source": [
    "class Node:\n",
    "    def __init__(self,data=None,next=None):\n",
    "        self.data=data\n",
    "        self.next=next\n"
   ]
  },
  {
   "cell_type": "code",
   "execution_count": 71,
   "metadata": {},
   "outputs": [],
   "source": [
    "class LinkedList:\n",
    "    def __init__(self):\n",
    "        self.head=None  #for creating linkedlist\n",
    "    def insert_at_beginning(self,data):\n",
    "        node=Node(data,self.head)\n",
    "        self.head=node\n",
    "    def printll(self):\n",
    "        itr= self.head\n",
    "        lls=''\n",
    "        while itr:\n",
    "            suffix=''\n",
    "            if itr.next:\n",
    "                suffix='-->'\n",
    "            lls+=str(itr.data)+ suffix\n",
    "            itr=itr.next\n",
    "        print(lls)\n",
    "    def get_length(self):\n",
    "        count=0\n",
    "        itr= self.head\n",
    "        while itr:\n",
    "            count+=1\n",
    "            itr= itr.next\n",
    "        return count\n",
    "    \n",
    "    def insert_at_end(self,data):\n",
    "        if self.head is None:\n",
    "            self.head=Node(data)\n",
    "            return\n",
    "        itr=self.head\n",
    "        while itr.next:\n",
    "            itr=itr.next\n",
    "        itr.next=Node(data)\n",
    "        \n",
    "    def insert_at(self,index,data):\n",
    "        if index<0 or index>self.get_length():\n",
    "            raise Exception(\"Invalid Index\")\n",
    "        if index==0:\n",
    "            self.insert_at_beginning(data)\n",
    "            return\n",
    "        itr=self.head\n",
    "        count=0\n",
    "        while itr:\n",
    "            if count==index-1:\n",
    "                node=Node(data,itr.next)\n",
    "                itr.next=node\n",
    "            itr=itr.next\n",
    "            count+=1\n",
    "            \n",
    "    def remove_at(self,index):\n",
    "        if index<0 or index>self.get_length():\n",
    "            raise Exception(\"Invalid Index\")\n",
    "            return\n",
    "        if index==0:\n",
    "            self.head=self.head.next\n",
    "            return\n",
    "        itr= self.head\n",
    "        count=0\n",
    "        while itr:\n",
    "            if count==index-1:\n",
    "                itr.next=itr.next.next\n",
    "                break\n",
    "            itr=itr.next\n",
    "            count+=1\n",
    "    def insert_values(self,data_list):\n",
    "        self.head=None\n",
    "        for data in data_list:\n",
    "            self.insert_at_end(data)\n",
    "    def get_thevalue_at(self,index):\n",
    "        itr=self.head\n",
    "        count=0\n",
    "        while itr:\n",
    "            if count==index-1:\n",
    "                print(itr.data)\n",
    "            count+=1\n",
    "            itr=itr.next\n",
    "            \n",
    "        "
   ]
  },
  {
   "cell_type": "code",
   "execution_count": 73,
   "metadata": {},
   "outputs": [
    {
     "name": "stdout",
     "output_type": "stream",
     "text": [
      "20-->15-->56-->10-->5\n",
      "56\n",
      "5\n"
     ]
    }
   ],
   "source": [
    "root=LinkedList()\n",
    "root.insert_at_beginning(5)\n",
    "root.insert_at_beginning(10)\n",
    "root.insert_at_beginning(15)\n",
    "root.insert_at_beginning(20)\n",
    "root.insert_at_end(25)\n",
    "root.insert_at(2,56)\n",
    "root.remove_at(5)\n",
    "root.printll()\n",
    "root.get_thevalue_at(3)\n",
    "\n",
    "print(root.get_length())\n"
   ]
  },
  {
   "cell_type": "code",
   "execution_count": 57,
   "metadata": {},
   "outputs": [
    {
     "name": "stdout",
     "output_type": "stream",
     "text": [
      "shivam-->loves-->prapti\n"
     ]
    }
   ],
   "source": [
    "root=LinkedList()\n",
    "root.insert_values([\"shivam\",\"loves\",\"prapti\"])\n",
    "root.printll()"
   ]
  },
  {
   "cell_type": "code",
   "execution_count": null,
   "metadata": {},
   "outputs": [],
   "source": []
  }
 ],
 "metadata": {
  "kernelspec": {
   "display_name": "Python 3",
   "language": "python",
   "name": "python3"
  },
  "language_info": {
   "codemirror_mode": {
    "name": "ipython",
    "version": 3
   },
   "file_extension": ".py",
   "mimetype": "text/x-python",
   "name": "python",
   "nbconvert_exporter": "python",
   "pygments_lexer": "ipython3",
   "version": "3.7.3"
  }
 },
 "nbformat": 4,
 "nbformat_minor": 2
}
