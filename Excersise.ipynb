{
 "cells": [
  {
   "cell_type": "code",
   "execution_count": 1,
   "metadata": {},
   "outputs": [
    {
     "ename": "IndentationError",
     "evalue": "expected an indented block (<ipython-input-1-f2d4bec2c1f9>, line 5)",
     "output_type": "error",
     "traceback": [
      "\u001b[1;36m  File \u001b[1;32m\"<ipython-input-1-f2d4bec2c1f9>\"\u001b[1;36m, line \u001b[1;32m5\u001b[0m\n\u001b[1;33m    def remove_by_value(self, data):\u001b[0m\n\u001b[1;37m      ^\u001b[0m\n\u001b[1;31mIndentationError\u001b[0m\u001b[1;31m:\u001b[0m expected an indented block\n"
     ]
    }
   ],
   "source": [
    "def insert_after_value(self, data_after, data_to_insert):\n",
    "    # Search for first occurance of data_after value in linked list\n",
    "    # Now insert data_to_insert after data_after node\n",
    "\n",
    "def remove_by_value(self, data):\n",
    "    # Remove first node that contains data"
   ]
  },
  {
   "cell_type": "code",
   "execution_count": null,
   "metadata": {},
   "outputs": [],
   "source": [
    "class Node:\n",
    "    def __init__(self, data=None, next=None, prev=None):\n",
    "        self.data = data\n",
    "        self.next = next\n",
    "        self.prev = prev\n",
    "    def print_forward(self):\n",
    "    # This method prints list in forward direction. Use node.next\n",
    "\n",
    "    def print_backward(self):\n",
    "    # Print linked list in reverse direction. Use node.prev for this."
   ]
  }
 ],
 "metadata": {
  "kernelspec": {
   "display_name": "Python 3",
   "language": "python",
   "name": "python3"
  },
  "language_info": {
   "codemirror_mode": {
    "name": "ipython",
    "version": 3
   },
   "file_extension": ".py",
   "mimetype": "text/x-python",
   "name": "python",
   "nbconvert_exporter": "python",
   "pygments_lexer": "ipython3",
   "version": "3.7.3"
  }
 },
 "nbformat": 4,
 "nbformat_minor": 2
}
