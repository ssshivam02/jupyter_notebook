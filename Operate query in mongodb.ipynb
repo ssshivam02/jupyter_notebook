{
 "cells": [
  {
   "cell_type": "code",
   "execution_count": 1,
   "id": "3dfc8958",
   "metadata": {},
   "outputs": [],
   "source": [
    "import pymongo"
   ]
  },
  {
   "cell_type": "code",
   "execution_count": 2,
   "id": "a65bd2dc",
   "metadata": {},
   "outputs": [],
   "source": [
    "client = pymongo.MongoClient(\"mongodb://localhost:27017/\")"
   ]
  },
  {
   "cell_type": "code",
   "execution_count": 3,
   "id": "06354f3e",
   "metadata": {},
   "outputs": [],
   "source": [
    "db = client[\"my_store\"]\n",
    "product_col = db[\"products\"]"
   ]
  },
  {
   "cell_type": "code",
   "execution_count": 4,
   "id": "ac8c263d",
   "metadata": {},
   "outputs": [],
   "source": [
    "def print_cursor(cursor):\n",
    "    for document in cursor:\n",
    "        print(document)"
   ]
  },
  {
   "cell_type": "code",
   "execution_count": 5,
   "id": "2002bc27",
   "metadata": {},
   "outputs": [],
   "source": [
    "product_cursor = product_col.find({})"
   ]
  },
  {
   "cell_type": "code",
   "execution_count": 6,
   "id": "2d2790fb",
   "metadata": {},
   "outputs": [
    {
     "name": "stdout",
     "output_type": "stream",
     "text": [
      "{'_id': ObjectId('6435159d659d3d1eeeb6e4d4'), 'name': 'Bag', 'Price': 23.78}\n",
      "{'_id': ObjectId('6435167b659d3d1eeeb6e4d5'), 'name': 'pen', 'price': 25}\n",
      "{'_id': ObjectId('6435167b659d3d1eeeb6e4d6'), 'name': 'pencil', 'price': 10}\n",
      "{'_id': ObjectId('643519e9659d3d1eeeb6e4d7'), 'name': 'mug', 'price': 5}\n",
      "{'_id': ObjectId('64351a0e659d3d1eeeb6e4d8'), 'name': 'mug', 'price': 5}\n",
      "{'_id': ObjectId('64351a32659d3d1eeeb6e4d9'), 'name': 'mug', 'price': 5}\n",
      "{'_id': ObjectId('64351a39659d3d1eeeb6e4da'), 'name': 'mug', 'price': 5}\n",
      "{'_id': ObjectId('64351a57659d3d1eeeb6e4db'), 'name': 'mug', 'price': 5}\n",
      "{'_id': ObjectId('64351a74659d3d1eeeb6e4dc'), 'name': 'mug', 'price': 5}\n",
      "{'_id': ObjectId('64351a7a659d3d1eeeb6e4dd'), 'name': 'mug', 'price': 5}\n",
      "{'_id': ObjectId('64351aae659d3d1eeeb6e4de'), 'name': 'mug', 'price': 5}\n",
      "{'_id': ObjectId('64351acb659d3d1eeeb6e4df'), 'name': 'mug', 'price': 5}\n",
      "{'_id': ObjectId('64351acf659d3d1eeeb6e4e0'), 'name': 'mug', 'price': 5}\n",
      "{'_id': ObjectId('64351af9659d3d1eeeb6e4e1'), 'name': 'mug', 'price': 5}\n",
      "{'_id': ObjectId('64351b0d659d3d1eeeb6e4e2'), 'name': 'mug', 'price': 5}\n",
      "None\n"
     ]
    }
   ],
   "source": [
    "print(print_cursor(product_cursor))"
   ]
  },
  {
   "cell_type": "markdown",
   "id": "5b3c8809",
   "metadata": {},
   "source": [
    "# Comparison Operators"
   ]
  },
  {
   "cell_type": "markdown",
   "id": "f92c3f7f",
   "metadata": {},
   "source": [
    "## $lt - less than"
   ]
  },
  {
   "cell_type": "code",
   "execution_count": 9,
   "id": "90ae75ea",
   "metadata": {},
   "outputs": [
    {
     "name": "stdout",
     "output_type": "stream",
     "text": [
      "{'_id': ObjectId('643519e9659d3d1eeeb6e4d7'), 'name': 'mug', 'price': 5}\n",
      "{'_id': ObjectId('64351a0e659d3d1eeeb6e4d8'), 'name': 'mug', 'price': 5}\n",
      "{'_id': ObjectId('64351a32659d3d1eeeb6e4d9'), 'name': 'mug', 'price': 5}\n",
      "{'_id': ObjectId('64351a39659d3d1eeeb6e4da'), 'name': 'mug', 'price': 5}\n",
      "{'_id': ObjectId('64351a57659d3d1eeeb6e4db'), 'name': 'mug', 'price': 5}\n",
      "{'_id': ObjectId('64351a74659d3d1eeeb6e4dc'), 'name': 'mug', 'price': 5}\n",
      "{'_id': ObjectId('64351a7a659d3d1eeeb6e4dd'), 'name': 'mug', 'price': 5}\n",
      "{'_id': ObjectId('64351aae659d3d1eeeb6e4de'), 'name': 'mug', 'price': 5}\n",
      "{'_id': ObjectId('64351acb659d3d1eeeb6e4df'), 'name': 'mug', 'price': 5}\n",
      "{'_id': ObjectId('64351acf659d3d1eeeb6e4e0'), 'name': 'mug', 'price': 5}\n",
      "{'_id': ObjectId('64351af9659d3d1eeeb6e4e1'), 'name': 'mug', 'price': 5}\n",
      "{'_id': ObjectId('64351b0d659d3d1eeeb6e4e2'), 'name': 'mug', 'price': 5}\n",
      "None\n"
     ]
    }
   ],
   "source": [
    "product_cursor = product_col.find({'price': {\"$lt\" :10}})\n",
    "\n",
    "print(print_cursor(product_cursor))"
   ]
  },
  {
   "cell_type": "markdown",
   "id": "a3d61237",
   "metadata": {},
   "source": [
    "## $gte - Greater than or equal to (combined with another operator)"
   ]
  },
  {
   "cell_type": "code",
   "execution_count": 10,
   "id": "6ec38004",
   "metadata": {},
   "outputs": [
    {
     "name": "stdout",
     "output_type": "stream",
     "text": [
      "{'_id': ObjectId('6435167b659d3d1eeeb6e4d5'), 'name': 'pen', 'price': 25}\n",
      "{'_id': ObjectId('6435167b659d3d1eeeb6e4d6'), 'name': 'pencil', 'price': 10}\n",
      "None\n"
     ]
    }
   ],
   "source": [
    "product_cursor = product_col.find({'price': {\"$gte\" :10}})\n",
    "\n",
    "print(print_cursor(product_cursor))"
   ]
  },
  {
   "cell_type": "code",
   "execution_count": 11,
   "id": "165cd548",
   "metadata": {},
   "outputs": [],
   "source": [
    "## Combination of two operator"
   ]
  },
  {
   "cell_type": "code",
   "execution_count": 14,
   "id": "2acf2c37",
   "metadata": {},
   "outputs": [
    {
     "name": "stdout",
     "output_type": "stream",
     "text": [
      "{'_id': ObjectId('6435167b659d3d1eeeb6e4d5'), 'name': 'pen', 'price': 25}\n",
      "{'_id': ObjectId('6435167b659d3d1eeeb6e4d6'), 'name': 'pencil', 'price': 10}\n",
      "{'_id': ObjectId('643519e9659d3d1eeeb6e4d7'), 'name': 'mug', 'price': 5}\n",
      "{'_id': ObjectId('64351a0e659d3d1eeeb6e4d8'), 'name': 'mug', 'price': 5}\n",
      "{'_id': ObjectId('64351a32659d3d1eeeb6e4d9'), 'name': 'mug', 'price': 5}\n",
      "{'_id': ObjectId('64351a39659d3d1eeeb6e4da'), 'name': 'mug', 'price': 5}\n",
      "{'_id': ObjectId('64351a57659d3d1eeeb6e4db'), 'name': 'mug', 'price': 5}\n",
      "{'_id': ObjectId('64351a74659d3d1eeeb6e4dc'), 'name': 'mug', 'price': 5}\n",
      "{'_id': ObjectId('64351a7a659d3d1eeeb6e4dd'), 'name': 'mug', 'price': 5}\n",
      "{'_id': ObjectId('64351aae659d3d1eeeb6e4de'), 'name': 'mug', 'price': 5}\n",
      "{'_id': ObjectId('64351acb659d3d1eeeb6e4df'), 'name': 'mug', 'price': 5}\n",
      "{'_id': ObjectId('64351acf659d3d1eeeb6e4e0'), 'name': 'mug', 'price': 5}\n",
      "{'_id': ObjectId('64351af9659d3d1eeeb6e4e1'), 'name': 'mug', 'price': 5}\n",
      "{'_id': ObjectId('64351b0d659d3d1eeeb6e4e2'), 'name': 'mug', 'price': 5}\n",
      "None\n"
     ]
    }
   ],
   "source": [
    "product_cursor = product_col.find({'price': {\"$lt\" :30, \"$gte\": 0}})\n",
    "\n",
    "print(print_cursor(product_cursor))"
   ]
  },
  {
   "cell_type": "markdown",
   "id": "ad5d1570",
   "metadata": {},
   "source": [
    "## $ne - Not equal to (combined with another operator)"
   ]
  },
  {
   "cell_type": "code",
   "execution_count": 16,
   "id": "ffdc34f9",
   "metadata": {},
   "outputs": [
    {
     "name": "stdout",
     "output_type": "stream",
     "text": [
      "{'_id': ObjectId('6435167b659d3d1eeeb6e4d5'), 'name': 'pen', 'price': 25}\n",
      "{'_id': ObjectId('6435167b659d3d1eeeb6e4d6'), 'name': 'pencil', 'price': 10}\n",
      "None\n"
     ]
    }
   ],
   "source": [
    "product_ne_cursor = product_col.find({'price': {\"$lt\" :30}, \"name\":{\"$ne\":\"mug\"}})\n",
    "\n",
    "print(print_cursor(product_ne_cursor))"
   ]
  },
  {
   "cell_type": "markdown",
   "id": "6b3bdebe",
   "metadata": {},
   "source": [
    "### Logical Operators"
   ]
  },
  {
   "cell_type": "markdown",
   "id": "61a60267",
   "metadata": {},
   "source": [
    "# $and"
   ]
  },
  {
   "cell_type": "code",
   "execution_count": 21,
   "id": "9149afd4",
   "metadata": {},
   "outputs": [
    {
     "name": "stdout",
     "output_type": "stream",
     "text": [
      "{'_id': ObjectId('6435167b659d3d1eeeb6e4d5'), 'name': 'pen', 'price': 25}\n",
      "{'_id': ObjectId('6435167b659d3d1eeeb6e4d6'), 'name': 'pencil', 'price': 10}\n",
      "None\n"
     ]
    }
   ],
   "source": [
    "product_and_cursor = product_col.find({\"$and\" :[{'price': {\"$lt\" :30}}, {\"name\":{\"$ne\":\"mug\"}}]})\n",
    "\n",
    "print(print_cursor(product_and_cursor))"
   ]
  },
  {
   "cell_type": "markdown",
   "id": "20dd0d2c",
   "metadata": {},
   "source": [
    "### $or"
   ]
  },
  {
   "cell_type": "code",
   "execution_count": 27,
   "id": "42c371e3",
   "metadata": {},
   "outputs": [
    {
     "name": "stdout",
     "output_type": "stream",
     "text": [
      "{'_id': ObjectId('6435159d659d3d1eeeb6e4d4'), 'name': 'Bag', 'Price': 23.78}\n",
      "{'_id': ObjectId('6435167b659d3d1eeeb6e4d5'), 'name': 'pen', 'price': 25}\n",
      "{'_id': ObjectId('6435167b659d3d1eeeb6e4d6'), 'name': 'pencil', 'price': 10}\n",
      "{'_id': ObjectId('643519e9659d3d1eeeb6e4d7'), 'name': 'mug', 'price': 5}\n",
      "{'_id': ObjectId('64351a0e659d3d1eeeb6e4d8'), 'name': 'mug', 'price': 5}\n",
      "{'_id': ObjectId('64351a32659d3d1eeeb6e4d9'), 'name': 'mug', 'price': 5}\n",
      "{'_id': ObjectId('64351a39659d3d1eeeb6e4da'), 'name': 'mug', 'price': 5}\n",
      "{'_id': ObjectId('64351a57659d3d1eeeb6e4db'), 'name': 'mug', 'price': 5}\n",
      "{'_id': ObjectId('64351a74659d3d1eeeb6e4dc'), 'name': 'mug', 'price': 5}\n",
      "{'_id': ObjectId('64351a7a659d3d1eeeb6e4dd'), 'name': 'mug', 'price': 5}\n",
      "{'_id': ObjectId('64351aae659d3d1eeeb6e4de'), 'name': 'mug', 'price': 5}\n",
      "{'_id': ObjectId('64351acb659d3d1eeeb6e4df'), 'name': 'mug', 'price': 5}\n",
      "{'_id': ObjectId('64351acf659d3d1eeeb6e4e0'), 'name': 'mug', 'price': 5}\n",
      "{'_id': ObjectId('64351af9659d3d1eeeb6e4e1'), 'name': 'mug', 'price': 5}\n",
      "{'_id': ObjectId('64351b0d659d3d1eeeb6e4e2'), 'name': 'mug', 'price': 5}\n",
      "None\n"
     ]
    }
   ],
   "source": [
    "product_or_cursor = product_col.find(\n",
    "    {\"$or\" :[\n",
    "        {'price': {\"$lt\" :30}}, \n",
    "        {\"name\":{\"$ne\":\"mug\"}}\n",
    "    ]})\n",
    "\n",
    "print(print_cursor(product_or_cursor))"
   ]
  },
  {
   "cell_type": "markdown",
   "id": "76eafe84",
   "metadata": {},
   "source": [
    "### $nor"
   ]
  },
  {
   "cell_type": "code",
   "execution_count": 28,
   "id": "bd28ef94",
   "metadata": {},
   "outputs": [
    {
     "name": "stdout",
     "output_type": "stream",
     "text": [
      "None\n"
     ]
    }
   ],
   "source": [
    "product_nor_cursor = product_col.find(\n",
    "    {\"$nor\" :[\n",
    "        {'price': {\"$lt\" :30}}, \n",
    "        {\"name\":{\"$ne\":\"mug\"}}\n",
    "    ]})\n",
    "\n",
    "print(print_cursor(product_nor_cursor))"
   ]
  },
  {
   "cell_type": "markdown",
   "id": "12913c96",
   "metadata": {},
   "source": [
    "### $type"
   ]
  },
  {
   "cell_type": "code",
   "execution_count": 30,
   "id": "65fcc140",
   "metadata": {},
   "outputs": [
    {
     "name": "stdout",
     "output_type": "stream",
     "text": [
      "{'_id': ObjectId('6435159d659d3d1eeeb6e4d4'), 'name': 'Bag', 'Price': 23.78}\n",
      "{'_id': ObjectId('6435167b659d3d1eeeb6e4d5'), 'name': 'pen', 'price': 25}\n",
      "{'_id': ObjectId('6435167b659d3d1eeeb6e4d6'), 'name': 'pencil', 'price': 10}\n",
      "{'_id': ObjectId('643519e9659d3d1eeeb6e4d7'), 'name': 'mug', 'price': 5}\n",
      "{'_id': ObjectId('64351a0e659d3d1eeeb6e4d8'), 'name': 'mug', 'price': 5}\n",
      "{'_id': ObjectId('64351a32659d3d1eeeb6e4d9'), 'name': 'mug', 'price': 5}\n",
      "{'_id': ObjectId('64351a39659d3d1eeeb6e4da'), 'name': 'mug', 'price': 5}\n",
      "{'_id': ObjectId('64351a57659d3d1eeeb6e4db'), 'name': 'mug', 'price': 5}\n",
      "{'_id': ObjectId('64351a74659d3d1eeeb6e4dc'), 'name': 'mug', 'price': 5}\n",
      "{'_id': ObjectId('64351a7a659d3d1eeeb6e4dd'), 'name': 'mug', 'price': 5}\n",
      "{'_id': ObjectId('64351aae659d3d1eeeb6e4de'), 'name': 'mug', 'price': 5}\n",
      "{'_id': ObjectId('64351acb659d3d1eeeb6e4df'), 'name': 'mug', 'price': 5}\n",
      "{'_id': ObjectId('64351acf659d3d1eeeb6e4e0'), 'name': 'mug', 'price': 5}\n",
      "{'_id': ObjectId('64351af9659d3d1eeeb6e4e1'), 'name': 'mug', 'price': 5}\n",
      "{'_id': ObjectId('64351b0d659d3d1eeeb6e4e2'), 'name': 'mug', 'price': 5}\n",
      "None\n"
     ]
    }
   ],
   "source": [
    "product_type_cursor = product_col.find({'name': {\"$type\" :\"string\"}})\n",
    "\n",
    "print(print_cursor(product_type_cursor))"
   ]
  },
  {
   "cell_type": "code",
   "execution_count": 32,
   "id": "0b019efd",
   "metadata": {},
   "outputs": [
    {
     "name": "stdout",
     "output_type": "stream",
     "text": [
      "{'_id': ObjectId('6435167b659d3d1eeeb6e4d5'), 'name': 'pen', 'price': 25}\n",
      "{'_id': ObjectId('6435167b659d3d1eeeb6e4d6'), 'name': 'pencil', 'price': 10}\n",
      "{'_id': ObjectId('643519e9659d3d1eeeb6e4d7'), 'name': 'mug', 'price': 5}\n",
      "{'_id': ObjectId('64351a0e659d3d1eeeb6e4d8'), 'name': 'mug', 'price': 5}\n",
      "{'_id': ObjectId('64351a32659d3d1eeeb6e4d9'), 'name': 'mug', 'price': 5}\n",
      "{'_id': ObjectId('64351a39659d3d1eeeb6e4da'), 'name': 'mug', 'price': 5}\n",
      "{'_id': ObjectId('64351a57659d3d1eeeb6e4db'), 'name': 'mug', 'price': 5}\n",
      "{'_id': ObjectId('64351a74659d3d1eeeb6e4dc'), 'name': 'mug', 'price': 5}\n",
      "{'_id': ObjectId('64351a7a659d3d1eeeb6e4dd'), 'name': 'mug', 'price': 5}\n",
      "{'_id': ObjectId('64351aae659d3d1eeeb6e4de'), 'name': 'mug', 'price': 5}\n",
      "{'_id': ObjectId('64351acb659d3d1eeeb6e4df'), 'name': 'mug', 'price': 5}\n",
      "{'_id': ObjectId('64351acf659d3d1eeeb6e4e0'), 'name': 'mug', 'price': 5}\n",
      "{'_id': ObjectId('64351af9659d3d1eeeb6e4e1'), 'name': 'mug', 'price': 5}\n",
      "{'_id': ObjectId('64351b0d659d3d1eeeb6e4e2'), 'name': 'mug', 'price': 5}\n"
     ]
    }
   ],
   "source": [
    "product_type_cursor = product_col.find({'price': {\"$type\" :\"int\"}})\n",
    "print_cursor(product_type_cursor)"
   ]
  },
  {
   "cell_type": "code",
   "execution_count": 36,
   "id": "55da19fb",
   "metadata": {},
   "outputs": [
    {
     "name": "stdout",
     "output_type": "stream",
     "text": [
      "{'_id': ObjectId('6435159d659d3d1eeeb6e4d4'), 'name': 'Bag', 'Price': 23.78}\n"
     ]
    }
   ],
   "source": [
    "product_type_cursor = product_col.find({'Price': {\"$type\" :\"double\"}})\n",
    "print_cursor(product_type_cursor)"
   ]
  },
  {
   "cell_type": "markdown",
   "id": "54cce857",
   "metadata": {},
   "source": [
    "## Other Usesful operators"
   ]
  },
  {
   "cell_type": "markdown",
   "id": "293416da",
   "metadata": {},
   "source": [
    "## exists - Check if a attribute name exists in enteries"
   ]
  },
  {
   "cell_type": "code",
   "execution_count": 38,
   "id": "5eee862a",
   "metadata": {},
   "outputs": [
    {
     "name": "stdout",
     "output_type": "stream",
     "text": [
      "{'_id': ObjectId('6435167b659d3d1eeeb6e4d5'), 'name': 'pen', 'price': 25}\n",
      "{'_id': ObjectId('6435167b659d3d1eeeb6e4d6'), 'name': 'pencil', 'price': 10}\n",
      "{'_id': ObjectId('643519e9659d3d1eeeb6e4d7'), 'name': 'mug', 'price': 5}\n",
      "{'_id': ObjectId('64351a0e659d3d1eeeb6e4d8'), 'name': 'mug', 'price': 5}\n",
      "{'_id': ObjectId('64351a32659d3d1eeeb6e4d9'), 'name': 'mug', 'price': 5}\n",
      "{'_id': ObjectId('64351a39659d3d1eeeb6e4da'), 'name': 'mug', 'price': 5}\n",
      "{'_id': ObjectId('64351a57659d3d1eeeb6e4db'), 'name': 'mug', 'price': 5}\n",
      "{'_id': ObjectId('64351a74659d3d1eeeb6e4dc'), 'name': 'mug', 'price': 5}\n",
      "{'_id': ObjectId('64351a7a659d3d1eeeb6e4dd'), 'name': 'mug', 'price': 5}\n",
      "{'_id': ObjectId('64351aae659d3d1eeeb6e4de'), 'name': 'mug', 'price': 5}\n",
      "{'_id': ObjectId('64351acb659d3d1eeeb6e4df'), 'name': 'mug', 'price': 5}\n",
      "{'_id': ObjectId('64351acf659d3d1eeeb6e4e0'), 'name': 'mug', 'price': 5}\n",
      "{'_id': ObjectId('64351af9659d3d1eeeb6e4e1'), 'name': 'mug', 'price': 5}\n",
      "{'_id': ObjectId('64351b0d659d3d1eeeb6e4e2'), 'name': 'mug', 'price': 5}\n"
     ]
    }
   ],
   "source": [
    "exists_cursor = product_col.find({\"price\": {\"$exists\" : True}})\n",
    "\n",
    "print_cursor(exists_cursor)"
   ]
  },
  {
   "cell_type": "code",
   "execution_count": 39,
   "id": "4a465a90",
   "metadata": {},
   "outputs": [
    {
     "name": "stdout",
     "output_type": "stream",
     "text": [
      "{'_id': ObjectId('6435159d659d3d1eeeb6e4d4'), 'name': 'Bag', 'Price': 23.78}\n"
     ]
    }
   ],
   "source": [
    "exists_cursor = product_col.find({\"price\": {\"$exists\" : False}})\n",
    "\n",
    "print_cursor(exists_cursor)"
   ]
  },
  {
   "cell_type": "markdown",
   "id": "1dac8827",
   "metadata": {},
   "source": [
    "###  $regex - Search for substring within query enteries"
   ]
  },
  {
   "cell_type": "code",
   "execution_count": 44,
   "id": "b48a5231",
   "metadata": {},
   "outputs": [
    {
     "name": "stdout",
     "output_type": "stream",
     "text": [
      "{'_id': ObjectId('643519e9659d3d1eeeb6e4d7'), 'name': 'mug', 'price': 5}\n",
      "{'_id': ObjectId('64351a0e659d3d1eeeb6e4d8'), 'name': 'mug', 'price': 5}\n",
      "{'_id': ObjectId('64351a32659d3d1eeeb6e4d9'), 'name': 'mug', 'price': 5}\n",
      "{'_id': ObjectId('64351a39659d3d1eeeb6e4da'), 'name': 'mug', 'price': 5}\n",
      "{'_id': ObjectId('64351a57659d3d1eeeb6e4db'), 'name': 'mug', 'price': 5}\n",
      "{'_id': ObjectId('64351a74659d3d1eeeb6e4dc'), 'name': 'mug', 'price': 5}\n",
      "{'_id': ObjectId('64351a7a659d3d1eeeb6e4dd'), 'name': 'mug', 'price': 5}\n",
      "{'_id': ObjectId('64351aae659d3d1eeeb6e4de'), 'name': 'mug', 'price': 5}\n",
      "{'_id': ObjectId('64351acb659d3d1eeeb6e4df'), 'name': 'mug', 'price': 5}\n",
      "{'_id': ObjectId('64351acf659d3d1eeeb6e4e0'), 'name': 'mug', 'price': 5}\n",
      "{'_id': ObjectId('64351af9659d3d1eeeb6e4e1'), 'name': 'mug', 'price': 5}\n",
      "{'_id': ObjectId('64351b0d659d3d1eeeb6e4e2'), 'name': 'mug', 'price': 5}\n"
     ]
    }
   ],
   "source": [
    "regex_cursor = product_col.find({\"name\": {\"$regex\" : \"m\" }})\n",
    "\n",
    "print_cursor(regex_cursor)"
   ]
  },
  {
   "cell_type": "code",
   "execution_count": 45,
   "id": "20fd646c",
   "metadata": {},
   "outputs": [
    {
     "name": "stdout",
     "output_type": "stream",
     "text": [
      "{'_id': ObjectId('6435167b659d3d1eeeb6e4d5'), 'name': 'pen', 'price': 25}\n",
      "{'_id': ObjectId('6435167b659d3d1eeeb6e4d6'), 'name': 'pencil', 'price': 10}\n"
     ]
    }
   ],
   "source": [
    "regex_cursor = product_col.find({\"name\": {\"$regex\" : \"p\" }})\n",
    "\n",
    "print_cursor(regex_cursor)"
   ]
  },
  {
   "cell_type": "code",
   "execution_count": 51,
   "id": "c621fec0",
   "metadata": {},
   "outputs": [
    {
     "name": "stdout",
     "output_type": "stream",
     "text": [
      "{'_id': ObjectId('6435167b659d3d1eeeb6e4d5'), 'name': 'pen', 'price': 25}\n",
      "{'_id': ObjectId('6435167b659d3d1eeeb6e4d6'), 'name': 'pencil', 'price': 10}\n"
     ]
    }
   ],
   "source": [
    "regex_cursor = product_col.find({\"name\": {\"$regex\" : \"p\", \"$options\": \"\" }})  #--> options is use for case sentivie i is used for case insenetive\n",
    "\n",
    "print_cursor(regex_cursor)"
   ]
  },
  {
   "cell_type": "code",
   "execution_count": null,
   "id": "8258f94b",
   "metadata": {},
   "outputs": [],
   "source": []
  }
 ],
 "metadata": {
  "kernelspec": {
   "display_name": "Python 3 (ipykernel)",
   "language": "python",
   "name": "python3"
  },
  "language_info": {
   "codemirror_mode": {
    "name": "ipython",
    "version": 3
   },
   "file_extension": ".py",
   "mimetype": "text/x-python",
   "name": "python",
   "nbconvert_exporter": "python",
   "pygments_lexer": "ipython3",
   "version": "3.9.12"
  }
 },
 "nbformat": 4,
 "nbformat_minor": 5
}
