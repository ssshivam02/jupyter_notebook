{
 "cells": [
  {
   "cell_type": "code",
   "execution_count": 1,
   "id": "d6ad1fd2",
   "metadata": {},
   "outputs": [],
   "source": [
    "import openpyxl"
   ]
  },
  {
   "cell_type": "markdown",
   "id": "b72bcdf3",
   "metadata": {},
   "source": [
    "Source: https://www.kaggle.com/datasets/shrutimehta/zomato-restaurants-data"
   ]
  },
  {
   "cell_type": "code",
   "execution_count": 12,
   "id": "89832bc2",
   "metadata": {},
   "outputs": [
    {
     "data": {
      "text/plain": [
       "<Worksheet \"Zomato\">"
      ]
     },
     "execution_count": 12,
     "metadata": {},
     "output_type": "execute_result"
    }
   ],
   "source": [
    "work_book = openpyxl.load_workbook('zomato.xlsx')\n",
    "work_book.active"
   ]
  },
  {
   "cell_type": "code",
   "execution_count": 13,
   "id": "ad88cf6b",
   "metadata": {},
   "outputs": [],
   "source": [
    "import pandas as pd\n",
    "\n",
    "# The read_csv is reading the csv file into Dataframe\n",
    "\n",
    "df = pd.read_csv(\"./zomato.csv\", encoding='ISO-8859-1')\n",
    "\n",
    "# then to_excel method converting the .csv file to .xlsx file.\n",
    "\n",
    "df.to_excel(\"zomato.xlsx\", sheet_name=\"Zomato\", index=False)\n",
    "\n",
    "# This will make a new \"zomato.xlsx\" file in your working directory.\n"
   ]
  },
  {
   "cell_type": "code",
   "execution_count": 14,
   "id": "0f12e5fd",
   "metadata": {},
   "outputs": [],
   "source": [
    "work_sheet = work_book['Zomato']"
   ]
  },
  {
   "cell_type": "code",
   "execution_count": 15,
   "id": "dd9dfcfe",
   "metadata": {},
   "outputs": [
    {
     "data": {
      "text/plain": [
       "'A1:U9552'"
      ]
     },
     "execution_count": 15,
     "metadata": {},
     "output_type": "execute_result"
    }
   ],
   "source": [
    "work_sheet.calculate_dimension()"
   ]
  },
  {
   "cell_type": "code",
   "execution_count": 16,
   "id": "f4dc1203",
   "metadata": {},
   "outputs": [],
   "source": [
    "work_sheet.freeze_panes =  'A2' # the first row will be frozen \n",
    "\n",
    "# Assigning a cell to freeze_pane freezes all rows above and all rows to left of the given cell/\n"
   ]
  },
  {
   "cell_type": "code",
   "execution_count": 17,
   "id": "0116e1fd",
   "metadata": {},
   "outputs": [],
   "source": [
    "work_book.save('zomato.xlsx')"
   ]
  },
  {
   "cell_type": "code",
   "execution_count": 20,
   "id": "bed7c3fa",
   "metadata": {},
   "outputs": [],
   "source": [
    "work_sheet.freeze_panes =  'B1' # the first column will be frozen \n",
    "\n",
    "# Assigning a cell to freeze_pane freezes all column before of the given cell\n"
   ]
  },
  {
   "cell_type": "code",
   "execution_count": 22,
   "id": "fb712e3a",
   "metadata": {},
   "outputs": [],
   "source": [
    "work_book.save('zomato1.xlsx')"
   ]
  },
  {
   "cell_type": "code",
   "execution_count": 23,
   "id": "0dd93f01",
   "metadata": {},
   "outputs": [],
   "source": [
    "work_sheet.freeze_panes =  'C2' # two columns before C will be frozen \n",
    "\n",
    "# Assigning a cell to freeze_pane freezes all column before of the given cell and above the give cell\n"
   ]
  },
  {
   "cell_type": "code",
   "execution_count": 24,
   "id": "df73d465",
   "metadata": {},
   "outputs": [],
   "source": [
    "work_book.save('zomato_C2.xlsx')"
   ]
  },
  {
   "cell_type": "code",
   "execution_count": null,
   "id": "4c87ebc4",
   "metadata": {},
   "outputs": [],
   "source": []
  }
 ],
 "metadata": {
  "kernelspec": {
   "display_name": "Python 3 (ipykernel)",
   "language": "python",
   "name": "python3"
  },
  "language_info": {
   "codemirror_mode": {
    "name": "ipython",
    "version": 3
   },
   "file_extension": ".py",
   "mimetype": "text/x-python",
   "name": "python",
   "nbconvert_exporter": "python",
   "pygments_lexer": "ipython3",
   "version": "3.9.12"
  }
 },
 "nbformat": 4,
 "nbformat_minor": 5
}
