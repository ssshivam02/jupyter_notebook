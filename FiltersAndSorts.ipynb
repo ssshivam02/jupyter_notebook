{
 "cells": [
  {
   "cell_type": "code",
   "execution_count": 1,
   "id": "df654747",
   "metadata": {},
   "outputs": [],
   "source": [
    "import openpyxl\n"
   ]
  },
  {
   "cell_type": "code",
   "execution_count": 2,
   "id": "b369ecb5",
   "metadata": {},
   "outputs": [],
   "source": [
    "work_book = openpyxl.Workbook()\n",
    "work_sheet = work_book.active"
   ]
  },
  {
   "cell_type": "code",
   "execution_count": 4,
   "id": "753008a8",
   "metadata": {},
   "outputs": [],
   "source": [
    "data = [[\"Champion\", \"Year\"],\n",
    "       [\"France\", 2018],\n",
    "       [\"India\", 2017],\n",
    "       [\"Spain\", 2016],\n",
    "       [\"France\", 2015],\n",
    "       [\"France\", 2019],\n",
    "       [\"India\", 2023],\n",
    "       [\"Spain\", 2022],\n",
    "       [\"France\", 2011],\n",
    "       [\"Germany\", 2022],\n",
    "       [\"Germany\", 2024],]"
   ]
  },
  {
   "cell_type": "code",
   "execution_count": 6,
   "id": "f791bd5b",
   "metadata": {},
   "outputs": [],
   "source": [
    "for row in data:\n",
    "    work_sheet.append(row)"
   ]
  },
  {
   "cell_type": "code",
   "execution_count": 8,
   "id": "3e1a47aa",
   "metadata": {},
   "outputs": [],
   "source": [
    "work_book.save('sortandfilter.xlsx')"
   ]
  },
  {
   "cell_type": "code",
   "execution_count": 9,
   "id": "f46789f4",
   "metadata": {},
   "outputs": [
    {
     "data": {
      "text/plain": [
       "'A1:B11'"
      ]
     },
     "execution_count": 9,
     "metadata": {},
     "output_type": "execute_result"
    }
   ],
   "source": [
    "work_sheet.calculate_dimension()"
   ]
  },
  {
   "cell_type": "code",
   "execution_count": 16,
   "id": "658abed2",
   "metadata": {},
   "outputs": [],
   "source": [
    "work_sheet.auto_filter.ref = work_sheet.calculate_dimension()  # ref dimension of table"
   ]
  },
  {
   "cell_type": "code",
   "execution_count": 19,
   "id": "6a49fc00",
   "metadata": {},
   "outputs": [],
   "source": [
    "work_sheet.auto_filter.add_filter_column(0, ['France', 'Spain', 'India']) # we need to select reapply filter"
   ]
  },
  {
   "cell_type": "code",
   "execution_count": 20,
   "id": "09bf8ddd",
   "metadata": {},
   "outputs": [],
   "source": [
    "work_book.save('sortandfilter.xlsx')"
   ]
  },
  {
   "cell_type": "code",
   "execution_count": 21,
   "id": "32b24f86",
   "metadata": {},
   "outputs": [
    {
     "data": {
      "text/plain": [
       "(<Cell 'Sheet'.B2>, <Cell 'Sheet'.B11>)"
      ]
     },
     "execution_count": 21,
     "metadata": {},
     "output_type": "execute_result"
    }
   ],
   "source": [
    "work_sheet['B'][1], work_sheet['B'][-1]"
   ]
  },
  {
   "cell_type": "code",
   "execution_count": 22,
   "id": "e39a255a",
   "metadata": {},
   "outputs": [],
   "source": [
    "range_str = work_sheet['B'][1].coordinate + ':' + work_sheet['B'][-1].coordinate"
   ]
  },
  {
   "cell_type": "code",
   "execution_count": 23,
   "id": "0962219e",
   "metadata": {},
   "outputs": [
    {
     "data": {
      "text/plain": [
       "'B2:B11'"
      ]
     },
     "execution_count": 23,
     "metadata": {},
     "output_type": "execute_result"
    }
   ],
   "source": [
    "range_str"
   ]
  },
  {
   "cell_type": "code",
   "execution_count": 26,
   "id": "7de06ae8",
   "metadata": {},
   "outputs": [],
   "source": [
    "work_sheet.auto_filter.add_sort_condition(range_str, descending= True) # manually we need to do reapply"
   ]
  },
  {
   "cell_type": "code",
   "execution_count": 27,
   "id": "8decda37",
   "metadata": {},
   "outputs": [],
   "source": [
    "work_book.save('sortandfilter.xlsx')"
   ]
  },
  {
   "cell_type": "code",
   "execution_count": null,
   "id": "5d1c571b",
   "metadata": {},
   "outputs": [],
   "source": []
  }
 ],
 "metadata": {
  "kernelspec": {
   "display_name": "Python 3 (ipykernel)",
   "language": "python",
   "name": "python3"
  },
  "language_info": {
   "codemirror_mode": {
    "name": "ipython",
    "version": 3
   },
   "file_extension": ".py",
   "mimetype": "text/x-python",
   "name": "python",
   "nbconvert_exporter": "python",
   "pygments_lexer": "ipython3",
   "version": "3.9.12"
  }
 },
 "nbformat": 4,
 "nbformat_minor": 5
}
