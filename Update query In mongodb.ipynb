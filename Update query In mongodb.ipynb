{
 "cells": [
  {
   "cell_type": "code",
   "execution_count": 1,
   "id": "c3131df1",
   "metadata": {},
   "outputs": [],
   "source": [
    "import pymongo"
   ]
  },
  {
   "cell_type": "code",
   "execution_count": 2,
   "id": "0e2aa394",
   "metadata": {},
   "outputs": [],
   "source": [
    "client = pymongo.MongoClient(\"mongodb://localhost:27017/\")"
   ]
  },
  {
   "cell_type": "code",
   "execution_count": 3,
   "id": "d5744905",
   "metadata": {},
   "outputs": [],
   "source": [
    "db = client[\"my_store\"]\n",
    "product_col = db[\"products\"]"
   ]
  },
  {
   "cell_type": "code",
   "execution_count": 8,
   "id": "c308302e",
   "metadata": {},
   "outputs": [],
   "source": [
    "def print_cursor(cursor):\n",
    "    for document in cursor:\n",
    "        print(document)"
   ]
  },
  {
   "cell_type": "markdown",
   "id": "f7627983",
   "metadata": {},
   "source": [
    "# update()"
   ]
  },
  {
   "cell_type": "code",
   "execution_count": 9,
   "id": "8b84461b",
   "metadata": {},
   "outputs": [
    {
     "ename": "TypeError",
     "evalue": "'Collection' object is not callable. If you meant to call the 'update' method on a 'Collection' object it is failing because no such method exists.",
     "output_type": "error",
     "traceback": [
      "\u001b[1;31m---------------------------------------------------------------------------\u001b[0m",
      "\u001b[1;31mTypeError\u001b[0m                                 Traceback (most recent call last)",
      "Input \u001b[1;32mIn [9]\u001b[0m, in \u001b[0;36m<cell line: 1>\u001b[1;34m()\u001b[0m\n\u001b[1;32m----> 1\u001b[0m \u001b[43mproduct_col\u001b[49m\u001b[38;5;241;43m.\u001b[39;49m\u001b[43mupdate\u001b[49m\u001b[43m(\u001b[49m\u001b[43m{\u001b[49m\u001b[38;5;124;43m\"\u001b[39;49m\u001b[38;5;124;43mname\u001b[39;49m\u001b[38;5;124;43m\"\u001b[39;49m\u001b[43m:\u001b[49m\u001b[43m \u001b[49m\u001b[38;5;124;43m\"\u001b[39;49m\u001b[38;5;124;43mmug\u001b[39;49m\u001b[38;5;124;43m\"\u001b[39;49m\u001b[43m}\u001b[49m\u001b[43m,\u001b[49m\u001b[43m \u001b[49m\u001b[43m{\u001b[49m\u001b[38;5;124;43m\"\u001b[39;49m\u001b[38;5;124;43m$set\u001b[39;49m\u001b[38;5;124;43m\"\u001b[39;49m\u001b[43m:\u001b[49m\u001b[43m{\u001b[49m\u001b[38;5;124;43m\"\u001b[39;49m\u001b[38;5;124;43mname\u001b[39;49m\u001b[38;5;124;43m\"\u001b[39;49m\u001b[43m \u001b[49m\u001b[43m:\u001b[49m\u001b[43m \u001b[49m\u001b[38;5;124;43m\"\u001b[39;49m\u001b[38;5;124;43mbook\u001b[39;49m\u001b[38;5;124;43m\"\u001b[39;49m\u001b[43m}\u001b[49m\u001b[43m}\u001b[49m\u001b[43m)\u001b[49m\n",
      "File \u001b[1;32m~\\anaconda3\\lib\\site-packages\\pymongo\\collection.py:3213\u001b[0m, in \u001b[0;36mCollection.__call__\u001b[1;34m(self, *args, **kwargs)\u001b[0m\n\u001b[0;32m   3206\u001b[0m \u001b[38;5;28;01mif\u001b[39;00m \u001b[38;5;124m\"\u001b[39m\u001b[38;5;124m.\u001b[39m\u001b[38;5;124m\"\u001b[39m \u001b[38;5;129;01mnot\u001b[39;00m \u001b[38;5;129;01min\u001b[39;00m \u001b[38;5;28mself\u001b[39m\u001b[38;5;241m.\u001b[39m__name:\n\u001b[0;32m   3207\u001b[0m     \u001b[38;5;28;01mraise\u001b[39;00m \u001b[38;5;167;01mTypeError\u001b[39;00m(\n\u001b[0;32m   3208\u001b[0m         \u001b[38;5;124m\"\u001b[39m\u001b[38;5;124m'\u001b[39m\u001b[38;5;124mCollection\u001b[39m\u001b[38;5;124m'\u001b[39m\u001b[38;5;124m object is not callable. If you \u001b[39m\u001b[38;5;124m\"\u001b[39m\n\u001b[0;32m   3209\u001b[0m         \u001b[38;5;124m\"\u001b[39m\u001b[38;5;124mmeant to call the \u001b[39m\u001b[38;5;124m'\u001b[39m\u001b[38;5;132;01m%s\u001b[39;00m\u001b[38;5;124m'\u001b[39m\u001b[38;5;124m method on a \u001b[39m\u001b[38;5;124m'\u001b[39m\u001b[38;5;124mDatabase\u001b[39m\u001b[38;5;124m'\u001b[39m\u001b[38;5;124m \u001b[39m\u001b[38;5;124m\"\u001b[39m\n\u001b[0;32m   3210\u001b[0m         \u001b[38;5;124m\"\u001b[39m\u001b[38;5;124mobject it is failing because no such method \u001b[39m\u001b[38;5;124m\"\u001b[39m\n\u001b[0;32m   3211\u001b[0m         \u001b[38;5;124m\"\u001b[39m\u001b[38;5;124mexists.\u001b[39m\u001b[38;5;124m\"\u001b[39m \u001b[38;5;241m%\u001b[39m \u001b[38;5;28mself\u001b[39m\u001b[38;5;241m.\u001b[39m__name\n\u001b[0;32m   3212\u001b[0m     )\n\u001b[1;32m-> 3213\u001b[0m \u001b[38;5;28;01mraise\u001b[39;00m \u001b[38;5;167;01mTypeError\u001b[39;00m(\n\u001b[0;32m   3214\u001b[0m     \u001b[38;5;124m\"\u001b[39m\u001b[38;5;124m'\u001b[39m\u001b[38;5;124mCollection\u001b[39m\u001b[38;5;124m'\u001b[39m\u001b[38;5;124m object is not callable. If you meant to \u001b[39m\u001b[38;5;124m\"\u001b[39m\n\u001b[0;32m   3215\u001b[0m     \u001b[38;5;124m\"\u001b[39m\u001b[38;5;124mcall the \u001b[39m\u001b[38;5;124m'\u001b[39m\u001b[38;5;132;01m%s\u001b[39;00m\u001b[38;5;124m'\u001b[39m\u001b[38;5;124m method on a \u001b[39m\u001b[38;5;124m'\u001b[39m\u001b[38;5;124mCollection\u001b[39m\u001b[38;5;124m'\u001b[39m\u001b[38;5;124m object it is \u001b[39m\u001b[38;5;124m\"\u001b[39m\n\u001b[0;32m   3216\u001b[0m     \u001b[38;5;124m\"\u001b[39m\u001b[38;5;124mfailing because no such method exists.\u001b[39m\u001b[38;5;124m\"\u001b[39m \u001b[38;5;241m%\u001b[39m \u001b[38;5;28mself\u001b[39m\u001b[38;5;241m.\u001b[39m__name\u001b[38;5;241m.\u001b[39msplit(\u001b[38;5;124m\"\u001b[39m\u001b[38;5;124m.\u001b[39m\u001b[38;5;124m\"\u001b[39m)[\u001b[38;5;241m-\u001b[39m\u001b[38;5;241m1\u001b[39m]\n\u001b[0;32m   3217\u001b[0m )\n",
      "\u001b[1;31mTypeError\u001b[0m: 'Collection' object is not callable. If you meant to call the 'update' method on a 'Collection' object it is failing because no such method exists."
     ]
    }
   ],
   "source": [
    "product_col.update({\"name\": \"mug\"}, {\"$set\":{\"name\" : \"book\"}})"
   ]
  },
  {
   "cell_type": "markdown",
   "id": "693effd1",
   "metadata": {},
   "source": [
    "## upadte_one()"
   ]
  },
  {
   "cell_type": "code",
   "execution_count": 12,
   "id": "3850b0b0",
   "metadata": {},
   "outputs": [
    {
     "data": {
      "text/plain": [
       "<pymongo.results.UpdateResult at 0x1b15732bc70>"
      ]
     },
     "execution_count": 12,
     "metadata": {},
     "output_type": "execute_result"
    }
   ],
   "source": [
    "product_col.update_one({\"name\": \"mug\"}, {\"$set\":{\"name\" : \"book\"}})"
   ]
  },
  {
   "cell_type": "code",
   "execution_count": 39,
   "id": "63bb2703",
   "metadata": {},
   "outputs": [
    {
     "name": "stdout",
     "output_type": "stream",
     "text": [
      "{'_id': ObjectId('64351a57659d3d1eeeb6e4db'), 'name': 'book', 'price': 5}\n",
      "{'_id': ObjectId('64351a74659d3d1eeeb6e4dc'), 'name': 'book', 'price': 5}\n",
      "{'_id': ObjectId('64351a7a659d3d1eeeb6e4dd'), 'name': 'book', 'price': 5}\n",
      "{'_id': ObjectId('64351aae659d3d1eeeb6e4de'), 'name': 'book', 'price': 5}\n",
      "{'_id': ObjectId('64351acb659d3d1eeeb6e4df'), 'name': 'book', 'price': 5}\n",
      "{'_id': ObjectId('64351acf659d3d1eeeb6e4e0'), 'name': 'book', 'price': 5}\n",
      "{'_id': ObjectId('64351af9659d3d1eeeb6e4e1'), 'name': 'book', 'price': 5}\n",
      "{'_id': ObjectId('64351b0d659d3d1eeeb6e4e2'), 'name': 'book', 'price': 5}\n",
      "None\n"
     ]
    }
   ],
   "source": [
    "product_cursor = product_col.find({'name':\"book\"} )\n",
    "\n",
    "print(print_cursor(product_cursor))"
   ]
  },
  {
   "cell_type": "code",
   "execution_count": 30,
   "id": "11be8ab5",
   "metadata": {},
   "outputs": [],
   "source": [
    "update_one_res = product_col.update_one({\"name\": \"mug\"}, {\"$set\":{\"price\" : \"5\"}})"
   ]
  },
  {
   "cell_type": "code",
   "execution_count": 31,
   "id": "2eacf09a",
   "metadata": {},
   "outputs": [
    {
     "name": "stdout",
     "output_type": "stream",
     "text": [
      "True\n",
      "1\n",
      "0\n",
      "{'n': 1, 'nModified': 0, 'ok': 1.0, 'updatedExisting': True}\n",
      "None\n"
     ]
    }
   ],
   "source": [
    "print(update_one_res.acknowledged)\n",
    "print(update_one_res.matched_count)\n",
    "print(update_one_res.modified_count) \n",
    "print(update_one_res.raw_result)\n",
    "print(update_one_res.upserted_id)"
   ]
  },
  {
   "cell_type": "markdown",
   "id": "db0ae709",
   "metadata": {},
   "source": [
    "### update_many()"
   ]
  },
  {
   "cell_type": "code",
   "execution_count": 17,
   "id": "a298d7c6",
   "metadata": {},
   "outputs": [
    {
     "data": {
      "text/plain": [
       "<pymongo.results.UpdateResult at 0x1b155cd51f0>"
      ]
     },
     "execution_count": 17,
     "metadata": {},
     "output_type": "execute_result"
    }
   ],
   "source": [
    "product_col.update_many({\"name\": \"mug\"}, {\"$set\":{\"name\" : \"book\"}})"
   ]
  },
  {
   "cell_type": "markdown",
   "id": "532990ac",
   "metadata": {},
   "source": [
    "### replace_one() ----> replace everything"
   ]
  },
  {
   "cell_type": "code",
   "execution_count": 36,
   "id": "752cfd94",
   "metadata": {},
   "outputs": [],
   "source": [
    "replace_one_res = product_col.replace_one({\"name\": \"book\"}, {\"name\" : \"mug\"})"
   ]
  },
  {
   "cell_type": "code",
   "execution_count": 38,
   "id": "1fb94210",
   "metadata": {},
   "outputs": [
    {
     "name": "stdout",
     "output_type": "stream",
     "text": [
      "{'_id': ObjectId('643519e9659d3d1eeeb6e4d7'), 'name': 'mug', 'price': '5'}\n",
      "{'_id': ObjectId('64351a0e659d3d1eeeb6e4d8'), 'name': 'mug'}\n",
      "{'_id': ObjectId('64351a32659d3d1eeeb6e4d9'), 'name': 'mug'}\n",
      "{'_id': ObjectId('64351a39659d3d1eeeb6e4da'), 'name': 'mug'}\n",
      "None\n"
     ]
    }
   ],
   "source": [
    "product_cursor = product_col.find({'name':\"mug\"} )\n",
    "\n",
    "print(print_cursor(product_cursor))"
   ]
  },
  {
   "cell_type": "code",
   "execution_count": 37,
   "id": "e1731833",
   "metadata": {},
   "outputs": [
    {
     "name": "stdout",
     "output_type": "stream",
     "text": [
      "True\n",
      "1\n",
      "1\n",
      "{'n': 1, 'nModified': 1, 'ok': 1.0, 'updatedExisting': True}\n",
      "None\n"
     ]
    }
   ],
   "source": [
    "print(replace_one_res.acknowledged)\n",
    "print(replace_one_res.matched_count)\n",
    "print(replace_one_res.modified_count) \n",
    "print(replace_one_res.raw_result)\n",
    "print(replace_one_res.upserted_id)"
   ]
  },
  {
   "cell_type": "markdown",
   "id": "441539aa",
   "metadata": {},
   "source": [
    "### upserting --> update and insert in db\n"
   ]
  },
  {
   "cell_type": "code",
   "execution_count": 44,
   "id": "f9e6b116",
   "metadata": {},
   "outputs": [],
   "source": [
    "upserting_one_res = product_col.update_one({\"name\": \"hat\"},{\"$set\" : {\"name\" : \"hat\"}})"
   ]
  },
  {
   "cell_type": "code",
   "execution_count": 45,
   "id": "400d387f",
   "metadata": {},
   "outputs": [
    {
     "name": "stdout",
     "output_type": "stream",
     "text": [
      "True\n",
      "0\n",
      "0\n",
      "{'n': 0, 'nModified': 0, 'ok': 1.0, 'updatedExisting': False}\n",
      "None\n"
     ]
    }
   ],
   "source": [
    "print(upserting_one_res.acknowledged)\n",
    "print(upserting_one_res.matched_count)\n",
    "print(upserting_one_res.modified_count) \n",
    "print(upserting_one_res.raw_result)\n",
    "print(upserting_one_res.upserted_id)"
   ]
  },
  {
   "cell_type": "code",
   "execution_count": 46,
   "id": "7ebe0ca5",
   "metadata": {},
   "outputs": [],
   "source": [
    "upserting_one_res = product_col.update_one({\"name\": \"hat\"},{\"$set\" : {\"name\" : \"hat\"}}, upsert = True)"
   ]
  },
  {
   "cell_type": "code",
   "execution_count": 47,
   "id": "5b853ae0",
   "metadata": {},
   "outputs": [
    {
     "name": "stdout",
     "output_type": "stream",
     "text": [
      "True\n",
      "0\n",
      "0\n",
      "{'n': 1, 'upserted': ObjectId('643666b557c01190ac70698e'), 'nModified': 0, 'ok': 1.0, 'updatedExisting': False}\n",
      "643666b557c01190ac70698e\n"
     ]
    }
   ],
   "source": [
    "print(upserting_one_res.acknowledged)\n",
    "print(upserting_one_res.matched_count)\n",
    "print(upserting_one_res.modified_count) \n",
    "print(upserting_one_res.raw_result)\n",
    "print(upserting_one_res.upserted_id)"
   ]
  },
  {
   "cell_type": "code",
   "execution_count": 49,
   "id": "f02a1b87",
   "metadata": {},
   "outputs": [
    {
     "name": "stdout",
     "output_type": "stream",
     "text": [
      "{'_id': ObjectId('643666b557c01190ac70698e'), 'name': 'hat'}\n",
      "None\n"
     ]
    }
   ],
   "source": [
    "upserted_product_cursor = product_col.find({'name':\"hat\"} )\n",
    "\n",
    "print(print_cursor(upserted_product_cursor))"
   ]
  },
  {
   "cell_type": "markdown",
   "id": "64aaba5b",
   "metadata": {},
   "source": [
    "## update operators"
   ]
  },
  {
   "cell_type": "markdown",
   "id": "cf086fd2",
   "metadata": {},
   "source": [
    "#### currentDate operator"
   ]
  },
  {
   "cell_type": "code",
   "execution_count": 60,
   "id": "d4137e9d",
   "metadata": {},
   "outputs": [],
   "source": [
    "update_res = product_col.update_many({},{\"$currentDate\" : {\"Date\" : True}})"
   ]
  },
  {
   "cell_type": "code",
   "execution_count": 61,
   "id": "d98152c2",
   "metadata": {},
   "outputs": [
    {
     "name": "stdout",
     "output_type": "stream",
     "text": [
      "True\n",
      "16\n",
      "16\n",
      "{'n': 16, 'nModified': 16, 'ok': 1.0, 'updatedExisting': True}\n",
      "None\n"
     ]
    }
   ],
   "source": [
    "print(update_res.acknowledged)\n",
    "print(update_res.matched_count)\n",
    "print(update_res.modified_count) \n",
    "print(update_res.raw_result)\n",
    "print(update_res.upserted_id)"
   ]
  },
  {
   "cell_type": "code",
   "execution_count": 62,
   "id": "a0f09d63",
   "metadata": {},
   "outputs": [
    {
     "name": "stdout",
     "output_type": "stream",
     "text": [
      "{'name': 'Bag', 'Date': datetime.datetime(2023, 4, 12, 8, 17, 24, 886000)}\n",
      "{'name': 'pen', 'Date': datetime.datetime(2023, 4, 12, 8, 17, 24, 886000)}\n",
      "{'name': 'pencil', 'Date': datetime.datetime(2023, 4, 12, 8, 17, 24, 886000)}\n",
      "{'name': 'mug', 'Date': datetime.datetime(2023, 4, 12, 8, 17, 24, 887000)}\n",
      "{'name': 'mug', 'Date': datetime.datetime(2023, 4, 12, 8, 17, 24, 887000)}\n",
      "{'name': 'mug', 'Date': datetime.datetime(2023, 4, 12, 8, 17, 24, 887000)}\n",
      "{'name': 'mug', 'Date': datetime.datetime(2023, 4, 12, 8, 17, 24, 887000)}\n",
      "{'name': 'book', 'Date': datetime.datetime(2023, 4, 12, 8, 17, 24, 887000)}\n",
      "{'name': 'book', 'Date': datetime.datetime(2023, 4, 12, 8, 17, 24, 887000)}\n",
      "{'name': 'book', 'Date': datetime.datetime(2023, 4, 12, 8, 17, 24, 887000)}\n",
      "{'name': 'book', 'Date': datetime.datetime(2023, 4, 12, 8, 17, 24, 887000)}\n",
      "{'name': 'book', 'Date': datetime.datetime(2023, 4, 12, 8, 17, 24, 887000)}\n",
      "{'name': 'book', 'Date': datetime.datetime(2023, 4, 12, 8, 17, 24, 887000)}\n",
      "{'name': 'book', 'Date': datetime.datetime(2023, 4, 12, 8, 17, 24, 887000)}\n",
      "{'name': 'book', 'Date': datetime.datetime(2023, 4, 12, 8, 17, 24, 887000)}\n",
      "{'name': 'hat', 'Date': datetime.datetime(2023, 4, 12, 8, 17, 24, 887000)}\n",
      "None\n"
     ]
    }
   ],
   "source": [
    "upserted_product_cursor = product_col.find({},{\"_id\":0, 'name':1,\"Date\":1 })\n",
    "\n",
    "print(print_cursor(upserted_product_cursor))"
   ]
  },
  {
   "cell_type": "code",
   "execution_count": 57,
   "id": "6d5ca1b9",
   "metadata": {},
   "outputs": [],
   "source": [
    "update_res = product_col.update_many({},{\"$rename\" : {\"Date\" : \"date_added\"}})"
   ]
  },
  {
   "cell_type": "code",
   "execution_count": 82,
   "id": "90f08eac",
   "metadata": {},
   "outputs": [
    {
     "name": "stdout",
     "output_type": "stream",
     "text": [
      "{'name': 'Bag', 'Price': 49.938, 'date_added': datetime.datetime(2023, 4, 12, 8, 15, 47, 538000), 'price': 0}\n",
      "{'name': 'pen', 'price': 50, 'date_added': datetime.datetime(2023, 4, 12, 8, 15, 47, 663000)}\n",
      "{'name': 'pencil', 'price': 20, 'date_added': datetime.datetime(2023, 4, 12, 8, 15, 47, 664000)}\n",
      "{'name': 'mug', 'price': '5', 'date_added': datetime.datetime(2023, 4, 12, 8, 15, 47, 664000)}\n",
      "{'name': 'mug', 'date_added': datetime.datetime(2023, 4, 12, 8, 15, 47, 664000)}\n",
      "{'name': 'mug', 'date_added': datetime.datetime(2023, 4, 12, 8, 15, 47, 664000)}\n",
      "{'name': 'mug', 'date_added': datetime.datetime(2023, 4, 12, 8, 15, 47, 664000)}\n",
      "{'name': 'book', 'price': 5, 'date_added': datetime.datetime(2023, 4, 12, 8, 15, 47, 664000)}\n",
      "{'name': 'book', 'price': 5, 'date_added': datetime.datetime(2023, 4, 12, 8, 15, 47, 664000)}\n",
      "{'name': 'book', 'price': 5, 'date_added': datetime.datetime(2023, 4, 12, 8, 15, 47, 664000)}\n",
      "{'name': 'book', 'price': 5, 'date_added': datetime.datetime(2023, 4, 12, 8, 15, 47, 664000)}\n",
      "{'name': 'book', 'price': 5, 'date_added': datetime.datetime(2023, 4, 12, 8, 15, 47, 664000)}\n",
      "{'name': 'book', 'price': 5, 'date_added': datetime.datetime(2023, 4, 12, 8, 15, 47, 664000)}\n",
      "{'name': 'book', 'price': 5, 'date_added': datetime.datetime(2023, 4, 12, 8, 15, 47, 664000)}\n",
      "{'name': 'book', 'price': 5, 'date_added': datetime.datetime(2023, 4, 12, 8, 15, 47, 664000)}\n",
      "{'name': 'hat', 'date_added': datetime.datetime(2023, 4, 12, 8, 15, 47, 664000)}\n",
      "None\n"
     ]
    }
   ],
   "source": [
    "upserted_product_cursor = product_col.find({},{\"_id\":0, 'name':1,\"date_added\":1,\"Price\":1, \"price\":1 })\n",
    "\n",
    "print(print_cursor(upserted_product_cursor))"
   ]
  },
  {
   "cell_type": "code",
   "execution_count": 88,
   "id": "31985c82",
   "metadata": {},
   "outputs": [],
   "source": [
    "update_res = product_col.update_many({\"name\": \"book\"},{\"$mul\" : {\"price\":2.1}}) #--> multiply all product price by 2"
   ]
  },
  {
   "cell_type": "code",
   "execution_count": 89,
   "id": "84c5ecc2",
   "metadata": {},
   "outputs": [
    {
     "name": "stdout",
     "output_type": "stream",
     "text": [
      "{'_id': ObjectId('64351a57659d3d1eeeb6e4db'), 'name': 'book', 'price': 22.05, 'date_added': datetime.datetime(2023, 4, 12, 8, 15, 47, 664000)}\n",
      "{'_id': ObjectId('64351a74659d3d1eeeb6e4dc'), 'name': 'book', 'price': 10.5, 'date_added': datetime.datetime(2023, 4, 12, 8, 15, 47, 664000)}\n",
      "{'_id': ObjectId('64351a7a659d3d1eeeb6e4dd'), 'name': 'book', 'price': 10.5, 'date_added': datetime.datetime(2023, 4, 12, 8, 15, 47, 664000)}\n",
      "{'_id': ObjectId('64351aae659d3d1eeeb6e4de'), 'name': 'book', 'price': 10.5, 'date_added': datetime.datetime(2023, 4, 12, 8, 15, 47, 664000)}\n",
      "{'_id': ObjectId('64351acb659d3d1eeeb6e4df'), 'name': 'book', 'price': 10.5, 'date_added': datetime.datetime(2023, 4, 12, 8, 15, 47, 664000)}\n",
      "{'_id': ObjectId('64351acf659d3d1eeeb6e4e0'), 'name': 'book', 'price': 10.5, 'date_added': datetime.datetime(2023, 4, 12, 8, 15, 47, 664000)}\n",
      "{'_id': ObjectId('64351af9659d3d1eeeb6e4e1'), 'name': 'book', 'price': 10.5, 'date_added': datetime.datetime(2023, 4, 12, 8, 15, 47, 664000)}\n",
      "{'_id': ObjectId('64351b0d659d3d1eeeb6e4e2'), 'name': 'book', 'price': 10.5, 'date_added': datetime.datetime(2023, 4, 12, 8, 15, 47, 664000)}\n",
      "None\n"
     ]
    }
   ],
   "source": [
    "upserted_product_cursor = product_col.find({\"name\":\"book\"},{\"_id\":1, 'name':1,\"date_added\":1, \"price\":1})\n",
    "\n",
    "print(print_cursor(upserted_product_cursor))"
   ]
  },
  {
   "cell_type": "code",
   "execution_count": 92,
   "id": "4abfef12",
   "metadata": {},
   "outputs": [],
   "source": [
    "update_res = product_col.update_many({},{\"$unset\" : {\"Date\" : True}}) # $unset will be remove date column"
   ]
  },
  {
   "cell_type": "code",
   "execution_count": 93,
   "id": "cbead230",
   "metadata": {},
   "outputs": [
    {
     "name": "stdout",
     "output_type": "stream",
     "text": [
      "{'_id': ObjectId('6435159d659d3d1eeeb6e4d4'), 'name': 'Bag', 'Price': 49.938, 'price': 0}\n",
      "{'_id': ObjectId('6435167b659d3d1eeeb6e4d5'), 'name': 'pen', 'price': 50}\n",
      "{'_id': ObjectId('6435167b659d3d1eeeb6e4d6'), 'name': 'pencil', 'price': 20}\n",
      "{'_id': ObjectId('643519e9659d3d1eeeb6e4d7'), 'name': 'mug', 'price': '5'}\n",
      "{'_id': ObjectId('64351a0e659d3d1eeeb6e4d8'), 'name': 'mug'}\n",
      "{'_id': ObjectId('64351a32659d3d1eeeb6e4d9'), 'name': 'mug'}\n",
      "{'_id': ObjectId('64351a39659d3d1eeeb6e4da'), 'name': 'mug'}\n",
      "{'_id': ObjectId('64351a57659d3d1eeeb6e4db'), 'name': 'book', 'price': 22.05, 'Price': 0.0}\n",
      "{'_id': ObjectId('64351a74659d3d1eeeb6e4dc'), 'name': 'book', 'price': 10.5}\n",
      "{'_id': ObjectId('64351a7a659d3d1eeeb6e4dd'), 'name': 'book', 'price': 10.5}\n",
      "{'_id': ObjectId('64351aae659d3d1eeeb6e4de'), 'name': 'book', 'price': 10.5}\n",
      "{'_id': ObjectId('64351acb659d3d1eeeb6e4df'), 'name': 'book', 'price': 10.5}\n",
      "{'_id': ObjectId('64351acf659d3d1eeeb6e4e0'), 'name': 'book', 'price': 10.5}\n",
      "{'_id': ObjectId('64351af9659d3d1eeeb6e4e1'), 'name': 'book', 'price': 10.5}\n",
      "{'_id': ObjectId('64351b0d659d3d1eeeb6e4e2'), 'name': 'book', 'price': 10.5}\n",
      "{'_id': ObjectId('643666b557c01190ac70698e'), 'name': 'hat'}\n",
      "None\n"
     ]
    }
   ],
   "source": [
    "update_product_cursor = product_col.find({})\n",
    "\n",
    "print(print_cursor(update_product_cursor))"
   ]
  },
  {
   "cell_type": "code",
   "execution_count": null,
   "id": "8f4ef00f",
   "metadata": {},
   "outputs": [],
   "source": []
  }
 ],
 "metadata": {
  "kernelspec": {
   "display_name": "Python 3 (ipykernel)",
   "language": "python",
   "name": "python3"
  },
  "language_info": {
   "codemirror_mode": {
    "name": "ipython",
    "version": 3
   },
   "file_extension": ".py",
   "mimetype": "text/x-python",
   "name": "python",
   "nbconvert_exporter": "python",
   "pygments_lexer": "ipython3",
   "version": "3.9.12"
  }
 },
 "nbformat": 4,
 "nbformat_minor": 5
}
